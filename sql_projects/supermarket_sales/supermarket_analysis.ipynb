{
 "cells": [
  {
   "cell_type": "markdown",
   "metadata": {},
   "source": [
    "# Supermarket Sales Analysis\n",
    "Set notebook to function to read SQL commmands."
   ]
  },
  {
   "cell_type": "code",
   "execution_count": 52,
   "metadata": {},
   "outputs": [
    {
     "name": "stdout",
     "output_type": "stream",
     "text": [
      "The sql extension is already loaded. To reload it, use:\n",
      "  %reload_ext sql\n"
     ]
    }
   ],
   "source": [
    "import pandas as pd\n",
    "import sqlite3\n",
    "\n",
    "# Import data\n",
    "df = pd.read_csv('supermarket_sales.csv')\n",
    "\n",
    "# Fixing column names\n",
    "df.rename(columns={'Total': 'Total_Revenue', 'Tax_5%': 'Taxes'}, inplace=True)\n",
    "df.columns = df.columns.str.replace(' ', '_', regex=True)\n",
    "\n",
    "# Confirm date column in datetime format\n",
    "df['Date'] = pd.to_datetime(df['Date'])\n",
    "\n",
    "# Connecting to SQLite3 database\n",
    "conn = sqlite3.connect('supermarket_sales.db')\n",
    "\n",
    "# Transform csv to db\n",
    "df.to_sql('sales', conn, index=False, if_exists='replace')\n",
    "\n",
    "# Activate SQL extension\n",
    "%load_ext sql\n",
    "\n",
    "# Connect SQL Magic (to use SQl commands) to our databse\n",
    "%sql sqlite:///supermarket_sales.db"
   ]
  },
  {
   "cell_type": "code",
   "execution_count": 3,
   "metadata": {},
   "outputs": [
    {
     "name": "stdout",
     "output_type": "stream",
     "text": [
      " * sqlite:///supermarket_sales.db\n",
      "Done.\n"
     ]
    },
    {
     "data": {
      "text/html": [
       "<table>\n",
       "    <thead>\n",
       "        <tr>\n",
       "            <th>Invoice_ID</th>\n",
       "            <th>Branch</th>\n",
       "            <th>City</th>\n",
       "            <th>Customer_type</th>\n",
       "            <th>Gender</th>\n",
       "            <th>Product_line</th>\n",
       "            <th>Unit_price</th>\n",
       "            <th>Quantity</th>\n",
       "            <th>Tax_5%</th>\n",
       "            <th>Total_Revenue</th>\n",
       "            <th>Date</th>\n",
       "            <th>Time</th>\n",
       "            <th>Payment</th>\n",
       "            <th>cogs</th>\n",
       "            <th>gross_margin_percentage</th>\n",
       "            <th>gross_income</th>\n",
       "            <th>Rating</th>\n",
       "        </tr>\n",
       "    </thead>\n",
       "    <tbody>\n",
       "        <tr>\n",
       "            <td>750-67-8428</td>\n",
       "            <td>A</td>\n",
       "            <td>Yangon</td>\n",
       "            <td>Member</td>\n",
       "            <td>Female</td>\n",
       "            <td>Health and beauty</td>\n",
       "            <td>74.69</td>\n",
       "            <td>7</td>\n",
       "            <td>26.1415</td>\n",
       "            <td>548.9715</td>\n",
       "            <td>1/5/2019</td>\n",
       "            <td>13:08</td>\n",
       "            <td>Ewallet</td>\n",
       "            <td>522.83</td>\n",
       "            <td>4.761904762</td>\n",
       "            <td>26.1415</td>\n",
       "            <td>9.1</td>\n",
       "        </tr>\n",
       "        <tr>\n",
       "            <td>226-31-3081</td>\n",
       "            <td>C</td>\n",
       "            <td>Naypyitaw</td>\n",
       "            <td>Normal</td>\n",
       "            <td>Female</td>\n",
       "            <td>Electronic accessories</td>\n",
       "            <td>15.28</td>\n",
       "            <td>5</td>\n",
       "            <td>3.82</td>\n",
       "            <td>80.22</td>\n",
       "            <td>3/8/2019</td>\n",
       "            <td>10:29</td>\n",
       "            <td>Cash</td>\n",
       "            <td>76.4</td>\n",
       "            <td>4.761904762</td>\n",
       "            <td>3.82</td>\n",
       "            <td>9.6</td>\n",
       "        </tr>\n",
       "        <tr>\n",
       "            <td>631-41-3108</td>\n",
       "            <td>A</td>\n",
       "            <td>Yangon</td>\n",
       "            <td>Normal</td>\n",
       "            <td>Male</td>\n",
       "            <td>Home and lifestyle</td>\n",
       "            <td>46.33</td>\n",
       "            <td>7</td>\n",
       "            <td>16.2155</td>\n",
       "            <td>340.5255</td>\n",
       "            <td>3/3/2019</td>\n",
       "            <td>13:23</td>\n",
       "            <td>Credit card</td>\n",
       "            <td>324.31</td>\n",
       "            <td>4.761904762</td>\n",
       "            <td>16.2155</td>\n",
       "            <td>7.4</td>\n",
       "        </tr>\n",
       "    </tbody>\n",
       "</table>"
      ],
      "text/plain": [
       "[('750-67-8428', 'A', 'Yangon', 'Member', 'Female', 'Health and beauty', 74.69, 7, 26.1415, 548.9715, '1/5/2019', '13:08', 'Ewallet', 522.83, 4.761904762, 26.1415, 9.1),\n",
       " ('226-31-3081', 'C', 'Naypyitaw', 'Normal', 'Female', 'Electronic accessories', 15.28, 5, 3.82, 80.22, '3/8/2019', '10:29', 'Cash', 76.4, 4.761904762, 3.82, 9.6),\n",
       " ('631-41-3108', 'A', 'Yangon', 'Normal', 'Male', 'Home and lifestyle', 46.33, 7, 16.2155, 340.5255, '3/3/2019', '13:23', 'Credit card', 324.31, 4.761904762, 16.2155, 7.4)]"
      ]
     },
     "execution_count": 3,
     "metadata": {},
     "output_type": "execute_result"
    }
   ],
   "source": [
    "%%sql\n",
    "SELECT * FROM sales\n",
    "LIMIT 3"
   ]
  },
  {
   "cell_type": "markdown",
   "metadata": {},
   "source": [
    "## Business Questions"
   ]
  },
  {
   "cell_type": "markdown",
   "metadata": {},
   "source": [
    "### 1. General Sales Analysis\n",
    "- What is the total revenue generated by the supermarket across all branches?\n",
    "- Which branch generates the highest revenue?\n",
    "- How many transactions were made in each branch?\n",
    "- What are the top 3 products by revenue in each branch?\n",
    "\n",
    "SQL Skills:\n",
    "- Basic `SELECT`, `SUM`, `GROUP BY`, and `ORDER BY`."
   ]
  },
  {
   "cell_type": "code",
   "execution_count": 6,
   "metadata": {},
   "outputs": [
    {
     "name": "stdout",
     "output_type": "stream",
     "text": [
      " * sqlite:///supermarket_sales.db\n",
      "Done.\n"
     ]
    },
    {
     "data": {
      "text/html": [
       "<table>\n",
       "    <thead>\n",
       "        <tr>\n",
       "            <th>SUM(Total_Revenue)</th>\n",
       "        </tr>\n",
       "    </thead>\n",
       "    <tbody>\n",
       "        <tr>\n",
       "            <td>322966.749</td>\n",
       "        </tr>\n",
       "    </tbody>\n",
       "</table>"
      ],
      "text/plain": [
       "[(322966.749,)]"
      ]
     },
     "execution_count": 6,
     "metadata": {},
     "output_type": "execute_result"
    }
   ],
   "source": [
    "%%sql\n",
    "-- What is the total revenue generated by the supermarket across all branches?\n",
    "SELECT SUM(Total_Revenue)\n",
    "FROM sales"
   ]
  },
  {
   "cell_type": "code",
   "execution_count": 7,
   "metadata": {},
   "outputs": [
    {
     "name": "stdout",
     "output_type": "stream",
     "text": [
      " * sqlite:///supermarket_sales.db\n",
      "Done.\n"
     ]
    },
    {
     "data": {
      "text/html": [
       "<table>\n",
       "    <thead>\n",
       "        <tr>\n",
       "            <th>Branch</th>\n",
       "            <th>SUM(Total_Revenue)</th>\n",
       "        </tr>\n",
       "    </thead>\n",
       "    <tbody>\n",
       "        <tr>\n",
       "            <td>A</td>\n",
       "            <td>106200.3705</td>\n",
       "        </tr>\n",
       "        <tr>\n",
       "            <td>B</td>\n",
       "            <td>106197.672</td>\n",
       "        </tr>\n",
       "        <tr>\n",
       "            <td>C</td>\n",
       "            <td>110568.7065</td>\n",
       "        </tr>\n",
       "    </tbody>\n",
       "</table>"
      ],
      "text/plain": [
       "[('A', 106200.3705), ('B', 106197.672), ('C', 110568.7065)]"
      ]
     },
     "execution_count": 7,
     "metadata": {},
     "output_type": "execute_result"
    }
   ],
   "source": [
    "%%sql\n",
    "-- Which branch generates the highest revenue?\n",
    "SELECT Branch, SUM(Total_Revenue)\n",
    "FROM sales\n",
    "GROUP BY Branch\n",
    "ORDER BY Total_Revenue DESC"
   ]
  },
  {
   "cell_type": "code",
   "execution_count": 8,
   "metadata": {},
   "outputs": [
    {
     "name": "stdout",
     "output_type": "stream",
     "text": [
      " * sqlite:///supermarket_sales.db\n",
      "Done.\n"
     ]
    },
    {
     "data": {
      "text/html": [
       "<table>\n",
       "    <thead>\n",
       "        <tr>\n",
       "            <th>Branch</th>\n",
       "            <th>COUNT(Invoice_ID)</th>\n",
       "        </tr>\n",
       "    </thead>\n",
       "    <tbody>\n",
       "        <tr>\n",
       "            <td>A</td>\n",
       "            <td>340</td>\n",
       "        </tr>\n",
       "        <tr>\n",
       "            <td>B</td>\n",
       "            <td>332</td>\n",
       "        </tr>\n",
       "        <tr>\n",
       "            <td>C</td>\n",
       "            <td>328</td>\n",
       "        </tr>\n",
       "    </tbody>\n",
       "</table>"
      ],
      "text/plain": [
       "[('A', 340), ('B', 332), ('C', 328)]"
      ]
     },
     "execution_count": 8,
     "metadata": {},
     "output_type": "execute_result"
    }
   ],
   "source": [
    "%%sql\n",
    "-- How many transactions were made in each branch?\n",
    "SELECT Branch, COUNT(Invoice_ID)\n",
    "FROM sales\n",
    "GROUP BY Branch\n",
    "ORDER BY Invoice_ID DESC"
   ]
  },
  {
   "cell_type": "code",
   "execution_count": 74,
   "metadata": {},
   "outputs": [
    {
     "name": "stdout",
     "output_type": "stream",
     "text": [
      " * sqlite:///supermarket_sales.db\n",
      "Done.\n"
     ]
    },
    {
     "data": {
      "text/html": [
       "<table>\n",
       "    <thead>\n",
       "        <tr>\n",
       "            <th>Branch</th>\n",
       "            <th>Product_Line</th>\n",
       "            <th>total_rev</th>\n",
       "        </tr>\n",
       "    </thead>\n",
       "    <tbody>\n",
       "        <tr>\n",
       "            <td>A</td>\n",
       "            <td>Home and lifestyle</td>\n",
       "            <td>22417.2</td>\n",
       "        </tr>\n",
       "        <tr>\n",
       "            <td>A</td>\n",
       "            <td>Sports and travel</td>\n",
       "            <td>19372.7</td>\n",
       "        </tr>\n",
       "        <tr>\n",
       "            <td>A</td>\n",
       "            <td>Electronic accessories</td>\n",
       "            <td>18317.11</td>\n",
       "        </tr>\n",
       "        <tr>\n",
       "            <td>B</td>\n",
       "            <td>Sports and travel</td>\n",
       "            <td>19988.2</td>\n",
       "        </tr>\n",
       "        <tr>\n",
       "            <td>B</td>\n",
       "            <td>Health and beauty</td>\n",
       "            <td>19980.66</td>\n",
       "        </tr>\n",
       "        <tr>\n",
       "            <td>B</td>\n",
       "            <td>Home and lifestyle</td>\n",
       "            <td>17549.16</td>\n",
       "        </tr>\n",
       "        <tr>\n",
       "            <td>C</td>\n",
       "            <td>Food and beverages</td>\n",
       "            <td>23766.85</td>\n",
       "        </tr>\n",
       "        <tr>\n",
       "            <td>C</td>\n",
       "            <td>Fashion accessories</td>\n",
       "            <td>21560.07</td>\n",
       "        </tr>\n",
       "        <tr>\n",
       "            <td>C</td>\n",
       "            <td>Electronic accessories</td>\n",
       "            <td>18968.97</td>\n",
       "        </tr>\n",
       "    </tbody>\n",
       "</table>"
      ],
      "text/plain": [
       "[('A', 'Home and lifestyle', 22417.2),\n",
       " ('A', 'Sports and travel', 19372.7),\n",
       " ('A', 'Electronic accessories', 18317.11),\n",
       " ('B', 'Sports and travel', 19988.2),\n",
       " ('B', 'Health and beauty', 19980.66),\n",
       " ('B', 'Home and lifestyle', 17549.16),\n",
       " ('C', 'Food and beverages', 23766.85),\n",
       " ('C', 'Fashion accessories', 21560.07),\n",
       " ('C', 'Electronic accessories', 18968.97)]"
      ]
     },
     "execution_count": 74,
     "metadata": {},
     "output_type": "execute_result"
    }
   ],
   "source": [
    "%%sql\n",
    "-- What are the top 3 products by revenue in each branch?\n",
    "SELECT Branch, Product_line, total_rev\n",
    "FROM(\n",
    "    SELECT Branch, Product_Line, ROUND(SUM(Total_Revenue),2) as total_rev,\n",
    "        RANK() OVER(\n",
    "            PARTITION BY Branch\n",
    "            ORDER BY SUM(Total_Revenue) DESC\n",
    "        )AS rank_rev\n",
    "    FROM sales\n",
    "    GROUP BY Branch, Product_line) ranking_revenue\n",
    "WHERE rank_rev BETWEEN 1 AND 3"
   ]
  },
  {
   "cell_type": "markdown",
   "metadata": {},
   "source": [
    "### 2. Customer Behavior\n",
    "- What is the average spending per customer?\n",
    "- Which customer group (e.g., loyalty vs. non-loyalty) spends the most on average?\n",
    "- How many customers made multiple purchases?\n",
    "\n",
    "SQL Skills:\n",
    "- Use of aggregate functions like `AVG` and `COUNT`.\n",
    "- Mathematical operations in queries."
   ]
  },
  {
   "cell_type": "code",
   "execution_count": 9,
   "metadata": {},
   "outputs": [
    {
     "name": "stdout",
     "output_type": "stream",
     "text": [
      " * sqlite:///supermarket_sales.db\n",
      "Done.\n"
     ]
    },
    {
     "data": {
      "text/html": [
       "<table>\n",
       "    <thead>\n",
       "        <tr>\n",
       "            <th>AVG(Total_revenue)</th>\n",
       "        </tr>\n",
       "    </thead>\n",
       "    <tbody>\n",
       "        <tr>\n",
       "            <td>322.966749</td>\n",
       "        </tr>\n",
       "    </tbody>\n",
       "</table>"
      ],
      "text/plain": [
       "[(322.966749,)]"
      ]
     },
     "execution_count": 9,
     "metadata": {},
     "output_type": "execute_result"
    }
   ],
   "source": [
    "%%sql\n",
    "-- What is the average spending per customer?\n",
    "SELECT AVG(Total_revenue) FROM sales"
   ]
  },
  {
   "cell_type": "code",
   "execution_count": 12,
   "metadata": {},
   "outputs": [
    {
     "name": "stdout",
     "output_type": "stream",
     "text": [
      " * sqlite:///supermarket_sales.db\n",
      "Done.\n"
     ]
    },
    {
     "data": {
      "text/html": [
       "<table>\n",
       "    <thead>\n",
       "        <tr>\n",
       "            <th>Customer_type</th>\n",
       "            <th>avg_revenue</th>\n",
       "        </tr>\n",
       "    </thead>\n",
       "    <tbody>\n",
       "        <tr>\n",
       "            <td>Member</td>\n",
       "            <td>327.7913053892215</td>\n",
       "        </tr>\n",
       "        <tr>\n",
       "            <td>Normal</td>\n",
       "            <td>318.12285571142286</td>\n",
       "        </tr>\n",
       "    </tbody>\n",
       "</table>"
      ],
      "text/plain": [
       "[('Member', 327.7913053892215), ('Normal', 318.12285571142286)]"
      ]
     },
     "execution_count": 12,
     "metadata": {},
     "output_type": "execute_result"
    }
   ],
   "source": [
    "%%sql\n",
    "-- Which customer group (e.g., loyalty vs. non-loyalty) spends the most on average?\n",
    "SELECT Customer_type, AVG(Total_Revenue) as avg_revenue\n",
    "FROM sales\n",
    "GROUP BY Customer_type\n",
    "ORDER BY avg_revenue DESC"
   ]
  },
  {
   "cell_type": "code",
   "execution_count": 14,
   "metadata": {},
   "outputs": [
    {
     "name": "stdout",
     "output_type": "stream",
     "text": [
      " * sqlite:///supermarket_sales.db\n",
      "Done.\n"
     ]
    },
    {
     "data": {
      "text/html": [
       "<table>\n",
       "    <thead>\n",
       "        <tr>\n",
       "            <th>Branch</th>\n",
       "            <th>Customer_type</th>\n",
       "            <th>avg_revenue</th>\n",
       "        </tr>\n",
       "    </thead>\n",
       "    <tbody>\n",
       "        <tr>\n",
       "            <td>C</td>\n",
       "            <td>Normal</td>\n",
       "            <td>337.65675471698114</td>\n",
       "        </tr>\n",
       "        <tr>\n",
       "            <td>C</td>\n",
       "            <td>Member</td>\n",
       "            <td>336.57563609467456</td>\n",
       "        </tr>\n",
       "        <tr>\n",
       "            <td>B</td>\n",
       "            <td>Member</td>\n",
       "            <td>325.4829454545455</td>\n",
       "        </tr>\n",
       "        <tr>\n",
       "            <td>A</td>\n",
       "            <td>Member</td>\n",
       "            <td>321.1824880239521</td>\n",
       "        </tr>\n",
       "        <tr>\n",
       "            <td>B</td>\n",
       "            <td>Normal</td>\n",
       "            <td>314.3292574850299</td>\n",
       "        </tr>\n",
       "        <tr>\n",
       "            <td>A</td>\n",
       "            <td>Normal</td>\n",
       "            <td>303.8317630057803</td>\n",
       "        </tr>\n",
       "    </tbody>\n",
       "</table>"
      ],
      "text/plain": [
       "[('C', 'Normal', 337.65675471698114),\n",
       " ('C', 'Member', 336.57563609467456),\n",
       " ('B', 'Member', 325.4829454545455),\n",
       " ('A', 'Member', 321.1824880239521),\n",
       " ('B', 'Normal', 314.3292574850299),\n",
       " ('A', 'Normal', 303.8317630057803)]"
      ]
     },
     "execution_count": 14,
     "metadata": {},
     "output_type": "execute_result"
    }
   ],
   "source": [
    "%%sql\n",
    "-- How many loyal customers in each branch?\n",
    "SELECT Branch, Customer_type, AVG(Total_revenue) as avg_revenue\n",
    "FROM sales\n",
    "GROUP BY Branch, Customer_type\n",
    "ORDER BY avg_revenue DESC"
   ]
  },
  {
   "cell_type": "markdown",
   "metadata": {},
   "source": [
    "\n",
    "### 3. Product Performance\n",
    "- Which product category generates the most revenue?\n",
    "- What is the best-selling product in each branch?\n",
    "- How does the revenue of each product category compare between branches?\n",
    "\n",
    "SQL Skills:\n",
    "- Aggregations with `SUM` and `GROUP BY`.\n",
    "- `WHERE` for conditioning.\n",
    "- `ORDER BY`and `RANK` for ranking."
   ]
  },
  {
   "cell_type": "code",
   "execution_count": 15,
   "metadata": {},
   "outputs": [
    {
     "name": "stdout",
     "output_type": "stream",
     "text": [
      " * sqlite:///supermarket_sales.db\n",
      "Done.\n"
     ]
    },
    {
     "data": {
      "text/html": [
       "<table>\n",
       "    <thead>\n",
       "        <tr>\n",
       "            <th>Product_line</th>\n",
       "            <th>total_rev</th>\n",
       "        </tr>\n",
       "    </thead>\n",
       "    <tbody>\n",
       "        <tr>\n",
       "            <td>Food and beverages</td>\n",
       "            <td>56144.844</td>\n",
       "        </tr>\n",
       "        <tr>\n",
       "            <td>Sports and travel</td>\n",
       "            <td>55122.8265</td>\n",
       "        </tr>\n",
       "        <tr>\n",
       "            <td>Electronic accessories</td>\n",
       "            <td>54337.5315</td>\n",
       "        </tr>\n",
       "        <tr>\n",
       "            <td>Fashion accessories</td>\n",
       "            <td>54305.895</td>\n",
       "        </tr>\n",
       "        <tr>\n",
       "            <td>Home and lifestyle</td>\n",
       "            <td>53861.913</td>\n",
       "        </tr>\n",
       "        <tr>\n",
       "            <td>Health and beauty</td>\n",
       "            <td>49193.739</td>\n",
       "        </tr>\n",
       "    </tbody>\n",
       "</table>"
      ],
      "text/plain": [
       "[('Food and beverages', 56144.844),\n",
       " ('Sports and travel', 55122.8265),\n",
       " ('Electronic accessories', 54337.5315),\n",
       " ('Fashion accessories', 54305.895),\n",
       " ('Home and lifestyle', 53861.913),\n",
       " ('Health and beauty', 49193.739)]"
      ]
     },
     "execution_count": 15,
     "metadata": {},
     "output_type": "execute_result"
    }
   ],
   "source": [
    "%%sql\n",
    "-- Which product category generates the most revenue?\n",
    "SELECT Product_line, SUM(Total_revenue) as total_rev\n",
    "FROM sales\n",
    "GROUP BY Product_line\n",
    "ORDER BY total_rev DESC"
   ]
  },
  {
   "cell_type": "code",
   "execution_count": 46,
   "metadata": {},
   "outputs": [
    {
     "name": "stdout",
     "output_type": "stream",
     "text": [
      " * sqlite:///supermarket_sales.db\n",
      "Done.\n"
     ]
    },
    {
     "data": {
      "text/html": [
       "<table>\n",
       "    <thead>\n",
       "        <tr>\n",
       "            <th>Branch</th>\n",
       "            <th>Product_line</th>\n",
       "            <th>total_sold</th>\n",
       "        </tr>\n",
       "    </thead>\n",
       "    <tbody>\n",
       "        <tr>\n",
       "            <td>A</td>\n",
       "            <td>Home and lifestyle</td>\n",
       "            <td>371</td>\n",
       "        </tr>\n",
       "        <tr>\n",
       "            <td>B</td>\n",
       "            <td>Sports and travel</td>\n",
       "            <td>322</td>\n",
       "        </tr>\n",
       "        <tr>\n",
       "            <td>C</td>\n",
       "            <td>Food and beverages</td>\n",
       "            <td>369</td>\n",
       "        </tr>\n",
       "    </tbody>\n",
       "</table>"
      ],
      "text/plain": [
       "[('A', 'Home and lifestyle', 371),\n",
       " ('B', 'Sports and travel', 322),\n",
       " ('C', 'Food and beverages', 369)]"
      ]
     },
     "execution_count": 46,
     "metadata": {},
     "output_type": "execute_result"
    }
   ],
   "source": [
    "%%sql\n",
    "-- What is the best-selling product in each branch?\n",
    "SELECT Branch, Product_line, total_sold\n",
    "FROM (\n",
    "    SELECT Branch, Product_line, SUM(Quantity) AS total_sold,\n",
    "           RANK() OVER (\n",
    "               PARTITION BY Branch\n",
    "               ORDER BY SUM(Quantity) DESC\n",
    "           ) AS prod_rank\n",
    "    FROM sales\n",
    "    GROUP BY Branch, Product_line\n",
    ") ranking_subquery\n",
    "WHERE prod_rank = 1\n"
   ]
  },
  {
   "cell_type": "code",
   "execution_count": 49,
   "metadata": {},
   "outputs": [
    {
     "name": "stdout",
     "output_type": "stream",
     "text": [
      " * sqlite:///supermarket_sales.db\n",
      "Done.\n"
     ]
    },
    {
     "data": {
      "text/html": [
       "<table>\n",
       "    <thead>\n",
       "        <tr>\n",
       "            <th>Branch</th>\n",
       "            <th>Product_line</th>\n",
       "            <th>total_rev</th>\n",
       "        </tr>\n",
       "    </thead>\n",
       "    <tbody>\n",
       "        <tr>\n",
       "            <td>A</td>\n",
       "            <td>Electronic accessories</td>\n",
       "            <td>18317.1135</td>\n",
       "        </tr>\n",
       "        <tr>\n",
       "            <td>A</td>\n",
       "            <td>Fashion accessories</td>\n",
       "            <td>16332.5085</td>\n",
       "        </tr>\n",
       "        <tr>\n",
       "            <td>A</td>\n",
       "            <td>Food and beverages</td>\n",
       "            <td>17163.1005</td>\n",
       "        </tr>\n",
       "        <tr>\n",
       "            <td>A</td>\n",
       "            <td>Health and beauty</td>\n",
       "            <td>12597.753</td>\n",
       "        </tr>\n",
       "        <tr>\n",
       "            <td>A</td>\n",
       "            <td>Home and lifestyle</td>\n",
       "            <td>22417.1955</td>\n",
       "        </tr>\n",
       "        <tr>\n",
       "            <td>A</td>\n",
       "            <td>Sports and travel</td>\n",
       "            <td>19372.6995</td>\n",
       "        </tr>\n",
       "        <tr>\n",
       "            <td>B</td>\n",
       "            <td>Electronic accessories</td>\n",
       "            <td>17051.4435</td>\n",
       "        </tr>\n",
       "        <tr>\n",
       "            <td>B</td>\n",
       "            <td>Fashion accessories</td>\n",
       "            <td>16413.3165</td>\n",
       "        </tr>\n",
       "        <tr>\n",
       "            <td>B</td>\n",
       "            <td>Food and beverages</td>\n",
       "            <td>15214.8885</td>\n",
       "        </tr>\n",
       "        <tr>\n",
       "            <td>B</td>\n",
       "            <td>Health and beauty</td>\n",
       "            <td>19980.66</td>\n",
       "        </tr>\n",
       "        <tr>\n",
       "            <td>B</td>\n",
       "            <td>Home and lifestyle</td>\n",
       "            <td>17549.1645</td>\n",
       "        </tr>\n",
       "        <tr>\n",
       "            <td>B</td>\n",
       "            <td>Sports and travel</td>\n",
       "            <td>19988.199</td>\n",
       "        </tr>\n",
       "        <tr>\n",
       "            <td>C</td>\n",
       "            <td>Electronic accessories</td>\n",
       "            <td>18968.9745</td>\n",
       "        </tr>\n",
       "        <tr>\n",
       "            <td>C</td>\n",
       "            <td>Fashion accessories</td>\n",
       "            <td>21560.07</td>\n",
       "        </tr>\n",
       "        <tr>\n",
       "            <td>C</td>\n",
       "            <td>Food and beverages</td>\n",
       "            <td>23766.855</td>\n",
       "        </tr>\n",
       "        <tr>\n",
       "            <td>C</td>\n",
       "            <td>Health and beauty</td>\n",
       "            <td>16615.326</td>\n",
       "        </tr>\n",
       "        <tr>\n",
       "            <td>C</td>\n",
       "            <td>Home and lifestyle</td>\n",
       "            <td>13895.553</td>\n",
       "        </tr>\n",
       "        <tr>\n",
       "            <td>C</td>\n",
       "            <td>Sports and travel</td>\n",
       "            <td>15761.928</td>\n",
       "        </tr>\n",
       "    </tbody>\n",
       "</table>"
      ],
      "text/plain": [
       "[('A', 'Electronic accessories', 18317.1135),\n",
       " ('A', 'Fashion accessories', 16332.5085),\n",
       " ('A', 'Food and beverages', 17163.1005),\n",
       " ('A', 'Health and beauty', 12597.753),\n",
       " ('A', 'Home and lifestyle', 22417.1955),\n",
       " ('A', 'Sports and travel', 19372.6995),\n",
       " ('B', 'Electronic accessories', 17051.4435),\n",
       " ('B', 'Fashion accessories', 16413.3165),\n",
       " ('B', 'Food and beverages', 15214.8885),\n",
       " ('B', 'Health and beauty', 19980.66),\n",
       " ('B', 'Home and lifestyle', 17549.1645),\n",
       " ('B', 'Sports and travel', 19988.199),\n",
       " ('C', 'Electronic accessories', 18968.9745),\n",
       " ('C', 'Fashion accessories', 21560.07),\n",
       " ('C', 'Food and beverages', 23766.855),\n",
       " ('C', 'Health and beauty', 16615.326),\n",
       " ('C', 'Home and lifestyle', 13895.553),\n",
       " ('C', 'Sports and travel', 15761.928)]"
      ]
     },
     "execution_count": 49,
     "metadata": {},
     "output_type": "execute_result"
    }
   ],
   "source": [
    "%%sql\n",
    "-- How does the revenue of each product category compare between branches?\n",
    "SELECT Branch, Product_line, SUM(Total_Revenue) as total_rev\n",
    "FROM sales\n",
    "GROUP BY Branch, Product_line\n",
    "ORDER BY Branch, Product_line"
   ]
  },
  {
   "cell_type": "markdown",
   "metadata": {},
   "source": [
    "### 4. Revenue Trends\n",
    "- What is the revenue trend over time (e.g., by day, week, or month)?\n",
    "- Which day of the week has the highest sales?\n",
    "- Are there seasonal variations in revenue?\n",
    "\n",
    "SQL Skills:\n",
    "- Date manipulation and grouping (`DATE`, `EXTRACT`, `GROUP BY`).\n",
    "- Conditions with `CASE`."
   ]
  },
  {
   "cell_type": "code",
   "execution_count": null,
   "metadata": {},
   "outputs": [
    {
     "name": "stdout",
     "output_type": "stream",
     "text": [
      " * sqlite:///supermarket_sales.db\n",
      "Done.\n"
     ]
    },
    {
     "data": {
      "text/html": [
       "<table>\n",
       "    <thead>\n",
       "        <tr>\n",
       "            <th>Year</th>\n",
       "            <th>Month</th>\n",
       "            <th>Monthly_Revenue</th>\n",
       "        </tr>\n",
       "    </thead>\n",
       "    <tbody>\n",
       "        <tr>\n",
       "            <td>2019</td>\n",
       "            <td>01</td>\n",
       "            <td>116291.868</td>\n",
       "        </tr>\n",
       "        <tr>\n",
       "            <td>2019</td>\n",
       "            <td>02</td>\n",
       "            <td>97219.374</td>\n",
       "        </tr>\n",
       "        <tr>\n",
       "            <td>2019</td>\n",
       "            <td>03</td>\n",
       "            <td>109455.507</td>\n",
       "        </tr>\n",
       "    </tbody>\n",
       "</table>"
      ],
      "text/plain": [
       "[('2019', '01', 116291.868),\n",
       " ('2019', '02', 97219.374),\n",
       " ('2019', '03', 109455.507)]"
      ]
     },
     "execution_count": 16,
     "metadata": {},
     "output_type": "execute_result"
    }
   ],
   "source": [
    "%%sql\n",
    "-- What is the revenue trend over time (e.g., by day, week, or month)?\n",
    "SELECT \n",
    "    strftime('%Y', Date) AS Year, \n",
    "    strftime('%m', Date) AS Month, \n",
    "    SUM(Total_Revenue) AS Monthly_Revenue\n",
    "FROM sales\n",
    "GROUP BY Year, Month\n",
    "ORDER BY Year, Month\n",
    "\n",
    "-- Since this is a SQLite version, I need to use strftime to work with dates.\n",
    "-- If this was a MySQL database, I could use:\n",
    "-- EXTRACT(YEAR FROM Date)\n",
    "-- EXTRACT(MONTH FROM Date)"
   ]
  },
  {
   "cell_type": "code",
   "execution_count": 42,
   "metadata": {},
   "outputs": [
    {
     "name": "stdout",
     "output_type": "stream",
     "text": [
      " * sqlite:///supermarket_sales.db\n",
      "Done.\n"
     ]
    },
    {
     "data": {
      "text/html": [
       "<table>\n",
       "    <thead>\n",
       "        <tr>\n",
       "            <th>Day</th>\n",
       "            <th>total_rev</th>\n",
       "            <th>total_sold</th>\n",
       "            <th>DayName</th>\n",
       "        </tr>\n",
       "    </thead>\n",
       "    <tbody>\n",
       "        <tr>\n",
       "            <td>0</td>\n",
       "            <td>44457.8925</td>\n",
       "            <td>778</td>\n",
       "            <td>Sunday</td>\n",
       "        </tr>\n",
       "        <tr>\n",
       "            <td>1</td>\n",
       "            <td>37899.078</td>\n",
       "            <td>638</td>\n",
       "            <td>Monday</td>\n",
       "        </tr>\n",
       "        <tr>\n",
       "            <td>2</td>\n",
       "            <td>51482.2455</td>\n",
       "            <td>862</td>\n",
       "            <td>Tuesday</td>\n",
       "        </tr>\n",
       "        <tr>\n",
       "            <td>3</td>\n",
       "            <td>43731.135</td>\n",
       "            <td>800</td>\n",
       "            <td>Wednesday</td>\n",
       "        </tr>\n",
       "        <tr>\n",
       "            <td>4</td>\n",
       "            <td>45349.248</td>\n",
       "            <td>755</td>\n",
       "            <td>Thursday</td>\n",
       "        </tr>\n",
       "        <tr>\n",
       "            <td>5</td>\n",
       "            <td>43926.3405</td>\n",
       "            <td>758</td>\n",
       "            <td>Friday</td>\n",
       "        </tr>\n",
       "        <tr>\n",
       "            <td>6</td>\n",
       "            <td>56120.8095</td>\n",
       "            <td>919</td>\n",
       "            <td>Saturday</td>\n",
       "        </tr>\n",
       "    </tbody>\n",
       "</table>"
      ],
      "text/plain": [
       "[('0', 44457.8925, 778, 'Sunday'),\n",
       " ('1', 37899.078, 638, 'Monday'),\n",
       " ('2', 51482.2455, 862, 'Tuesday'),\n",
       " ('3', 43731.135, 800, 'Wednesday'),\n",
       " ('4', 45349.248, 755, 'Thursday'),\n",
       " ('5', 43926.3405, 758, 'Friday'),\n",
       " ('6', 56120.8095, 919, 'Saturday')]"
      ]
     },
     "execution_count": 42,
     "metadata": {},
     "output_type": "execute_result"
    }
   ],
   "source": [
    "%%sql\n",
    "-- Which day of the week has the highest sales?\n",
    "SELECT \n",
    "    strftime('%w', Date) AS Day,   \n",
    "    SUM(Total_Revenue) AS total_rev,\n",
    "    SUM(Quantity) AS total_sold,\n",
    "    CASE \n",
    "        WHEN strftime('%w', Date) = '0' THEN 'Sunday'\n",
    "        WHEN strftime('%w', Date) = '1' THEN 'Monday'\n",
    "        WHEN strftime('%w', Date) = '2' THEN 'Tuesday'\n",
    "        WHEN strftime('%w', Date) = '3' THEN 'Wednesday'\n",
    "        WHEN strftime('%w', Date) = '4' THEN 'Thursday'\n",
    "        WHEN strftime('%w', Date) = '5' THEN 'Friday'\n",
    "        WHEN strftime('%w', Date) = '6' THEN 'Saturday'\n",
    "    END AS DayName\n",
    "FROM sales\n",
    "GROUP BY DayName\n",
    "ORDER BY Day ASC\n"
   ]
  },
  {
   "cell_type": "markdown",
   "metadata": {},
   "source": [
    "### 5. Operational Insights\n",
    "- What is the Cost of Goods (CoG) per product?\n",
    "- What is the network net profit?\n",
    "- What is the distribution of payment methods (e.g., cash, credit card)?\n",
    "\n",
    "SQL Skills:\n",
    "- Filtering with `WHERE` and conditional calculations.\n",
    "- Aggregations and `CASE` for categorizing payment methods."
   ]
  },
  {
   "cell_type": "code",
   "execution_count": 50,
   "metadata": {},
   "outputs": [
    {
     "name": "stdout",
     "output_type": "stream",
     "text": [
      " * sqlite:///supermarket_sales.db\n",
      "Done.\n"
     ]
    },
    {
     "data": {
      "text/html": [
       "<table>\n",
       "    <thead>\n",
       "        <tr>\n",
       "            <th>Branch</th>\n",
       "            <th>Product_line</th>\n",
       "            <th>total_cogs</th>\n",
       "            <th>avg_cogs</th>\n",
       "        </tr>\n",
       "    </thead>\n",
       "    <tbody>\n",
       "        <tr>\n",
       "            <td>A</td>\n",
       "            <td>Electronic accessories</td>\n",
       "            <td>17444.87</td>\n",
       "            <td>290.75</td>\n",
       "        </tr>\n",
       "        <tr>\n",
       "            <td>A</td>\n",
       "            <td>Fashion accessories</td>\n",
       "            <td>15554.77</td>\n",
       "            <td>305.0</td>\n",
       "        </tr>\n",
       "        <tr>\n",
       "            <td>A</td>\n",
       "            <td>Food and beverages</td>\n",
       "            <td>16345.81</td>\n",
       "            <td>281.82</td>\n",
       "        </tr>\n",
       "        <tr>\n",
       "            <td>A</td>\n",
       "            <td>Health and beauty</td>\n",
       "            <td>11997.86</td>\n",
       "            <td>255.27</td>\n",
       "        </tr>\n",
       "        <tr>\n",
       "            <td>A</td>\n",
       "            <td>Home and lifestyle</td>\n",
       "            <td>21349.71</td>\n",
       "            <td>328.46</td>\n",
       "        </tr>\n",
       "        <tr>\n",
       "            <td>A</td>\n",
       "            <td>Sports and travel</td>\n",
       "            <td>18450.19</td>\n",
       "            <td>312.72</td>\n",
       "        </tr>\n",
       "        <tr>\n",
       "            <td>B</td>\n",
       "            <td>Electronic accessories</td>\n",
       "            <td>16239.47</td>\n",
       "            <td>295.26</td>\n",
       "        </tr>\n",
       "        <tr>\n",
       "            <td>B</td>\n",
       "            <td>Fashion accessories</td>\n",
       "            <td>15631.73</td>\n",
       "            <td>252.12</td>\n",
       "        </tr>\n",
       "        <tr>\n",
       "            <td>B</td>\n",
       "            <td>Food and beverages</td>\n",
       "            <td>14490.37</td>\n",
       "            <td>289.81</td>\n",
       "        </tr>\n",
       "        <tr>\n",
       "            <td>B</td>\n",
       "            <td>Health and beauty</td>\n",
       "            <td>19029.2</td>\n",
       "            <td>359.04</td>\n",
       "        </tr>\n",
       "        <tr>\n",
       "            <td>B</td>\n",
       "            <td>Home and lifestyle</td>\n",
       "            <td>16713.49</td>\n",
       "            <td>334.27</td>\n",
       "        </tr>\n",
       "        <tr>\n",
       "            <td>B</td>\n",
       "            <td>Sports and travel</td>\n",
       "            <td>19036.38</td>\n",
       "            <td>307.04</td>\n",
       "        </tr>\n",
       "        <tr>\n",
       "            <td>C</td>\n",
       "            <td>Electronic accessories</td>\n",
       "            <td>18065.69</td>\n",
       "            <td>328.47</td>\n",
       "        </tr>\n",
       "        <tr>\n",
       "            <td>C</td>\n",
       "            <td>Fashion accessories</td>\n",
       "            <td>20533.4</td>\n",
       "            <td>315.9</td>\n",
       "        </tr>\n",
       "        <tr>\n",
       "            <td>C</td>\n",
       "            <td>Food and beverages</td>\n",
       "            <td>22635.1</td>\n",
       "            <td>342.96</td>\n",
       "        </tr>\n",
       "        <tr>\n",
       "            <td>C</td>\n",
       "            <td>Health and beauty</td>\n",
       "            <td>15824.12</td>\n",
       "            <td>304.31</td>\n",
       "        </tr>\n",
       "        <tr>\n",
       "            <td>C</td>\n",
       "            <td>Home and lifestyle</td>\n",
       "            <td>13233.86</td>\n",
       "            <td>294.09</td>\n",
       "        </tr>\n",
       "        <tr>\n",
       "            <td>C</td>\n",
       "            <td>Sports and travel</td>\n",
       "            <td>15011.36</td>\n",
       "            <td>333.59</td>\n",
       "        </tr>\n",
       "    </tbody>\n",
       "</table>"
      ],
      "text/plain": [
       "[('A', 'Electronic accessories', 17444.87, 290.75),\n",
       " ('A', 'Fashion accessories', 15554.77, 305.0),\n",
       " ('A', 'Food and beverages', 16345.81, 281.82),\n",
       " ('A', 'Health and beauty', 11997.86, 255.27),\n",
       " ('A', 'Home and lifestyle', 21349.71, 328.46),\n",
       " ('A', 'Sports and travel', 18450.19, 312.72),\n",
       " ('B', 'Electronic accessories', 16239.47, 295.26),\n",
       " ('B', 'Fashion accessories', 15631.73, 252.12),\n",
       " ('B', 'Food and beverages', 14490.37, 289.81),\n",
       " ('B', 'Health and beauty', 19029.2, 359.04),\n",
       " ('B', 'Home and lifestyle', 16713.49, 334.27),\n",
       " ('B', 'Sports and travel', 19036.38, 307.04),\n",
       " ('C', 'Electronic accessories', 18065.69, 328.47),\n",
       " ('C', 'Fashion accessories', 20533.4, 315.9),\n",
       " ('C', 'Food and beverages', 22635.1, 342.96),\n",
       " ('C', 'Health and beauty', 15824.12, 304.31),\n",
       " ('C', 'Home and lifestyle', 13233.86, 294.09),\n",
       " ('C', 'Sports and travel', 15011.36, 333.59)]"
      ]
     },
     "execution_count": 50,
     "metadata": {},
     "output_type": "execute_result"
    }
   ],
   "source": [
    "%%sql\n",
    "-- What is the Cost of Goods (CoG) per product?\n",
    "SELECT Branch, Product_line, SUM(cogs) as total_cogs, ROUND(AVG(cogs),2) as avg_cogs\n",
    "FROM sales\n",
    "GROUP BY Branch, Product_line\n",
    "ORDER BY Branch \n"
   ]
  },
  {
   "cell_type": "code",
   "execution_count": 59,
   "metadata": {},
   "outputs": [
    {
     "name": "stdout",
     "output_type": "stream",
     "text": [
      " * sqlite:///supermarket_sales.db\n",
      "Done.\n"
     ]
    },
    {
     "data": {
      "text/html": [
       "<table>\n",
       "    <thead>\n",
       "        <tr>\n",
       "            <th>Branch</th>\n",
       "            <th>Product_line</th>\n",
       "            <th>Quantity</th>\n",
       "            <th>Net_profit</th>\n",
       "        </tr>\n",
       "    </thead>\n",
       "    <tbody>\n",
       "        <tr>\n",
       "            <td>A</td>\n",
       "            <td>Electronic accessories</td>\n",
       "            <td>6</td>\n",
       "            <td>872.24</td>\n",
       "        </tr>\n",
       "        <tr>\n",
       "            <td>A</td>\n",
       "            <td>Fashion accessories</td>\n",
       "            <td>2</td>\n",
       "            <td>777.74</td>\n",
       "        </tr>\n",
       "        <tr>\n",
       "            <td>A</td>\n",
       "            <td>Food and beverages</td>\n",
       "            <td>10</td>\n",
       "            <td>817.29</td>\n",
       "        </tr>\n",
       "        <tr>\n",
       "            <td>A</td>\n",
       "            <td>Health and beauty</td>\n",
       "            <td>7</td>\n",
       "            <td>599.89</td>\n",
       "        </tr>\n",
       "        <tr>\n",
       "            <td>A</td>\n",
       "            <td>Home and lifestyle</td>\n",
       "            <td>7</td>\n",
       "            <td>1067.49</td>\n",
       "        </tr>\n",
       "        <tr>\n",
       "            <td>A</td>\n",
       "            <td>Sports and travel</td>\n",
       "            <td>7</td>\n",
       "            <td>922.51</td>\n",
       "        </tr>\n",
       "        <tr>\n",
       "            <td>B</td>\n",
       "            <td>Electronic accessories</td>\n",
       "            <td>4</td>\n",
       "            <td>811.97</td>\n",
       "        </tr>\n",
       "        <tr>\n",
       "            <td>B</td>\n",
       "            <td>Fashion accessories</td>\n",
       "            <td>4</td>\n",
       "            <td>781.59</td>\n",
       "        </tr>\n",
       "        <tr>\n",
       "            <td>B</td>\n",
       "            <td>Food and beverages</td>\n",
       "            <td>3</td>\n",
       "            <td>724.52</td>\n",
       "        </tr>\n",
       "        <tr>\n",
       "            <td>B</td>\n",
       "            <td>Health and beauty</td>\n",
       "            <td>3</td>\n",
       "            <td>951.46</td>\n",
       "        </tr>\n",
       "        <tr>\n",
       "            <td>B</td>\n",
       "            <td>Home and lifestyle</td>\n",
       "            <td>2</td>\n",
       "            <td>835.67</td>\n",
       "        </tr>\n",
       "        <tr>\n",
       "            <td>B</td>\n",
       "            <td>Sports and travel</td>\n",
       "            <td>6</td>\n",
       "            <td>951.82</td>\n",
       "        </tr>\n",
       "        <tr>\n",
       "            <td>C</td>\n",
       "            <td>Electronic accessories</td>\n",
       "            <td>5</td>\n",
       "            <td>903.28</td>\n",
       "        </tr>\n",
       "        <tr>\n",
       "            <td>C</td>\n",
       "            <td>Fashion accessories</td>\n",
       "            <td>10</td>\n",
       "            <td>1026.67</td>\n",
       "        </tr>\n",
       "        <tr>\n",
       "            <td>C</td>\n",
       "            <td>Food and beverages</td>\n",
       "            <td>4</td>\n",
       "            <td>1131.76</td>\n",
       "        </tr>\n",
       "        <tr>\n",
       "            <td>C</td>\n",
       "            <td>Health and beauty</td>\n",
       "            <td>8</td>\n",
       "            <td>791.21</td>\n",
       "        </tr>\n",
       "        <tr>\n",
       "            <td>C</td>\n",
       "            <td>Home and lifestyle</td>\n",
       "            <td>10</td>\n",
       "            <td>661.69</td>\n",
       "        </tr>\n",
       "        <tr>\n",
       "            <td>C</td>\n",
       "            <td>Sports and travel</td>\n",
       "            <td>1</td>\n",
       "            <td>750.57</td>\n",
       "        </tr>\n",
       "    </tbody>\n",
       "</table>"
      ],
      "text/plain": [
       "[('A', 'Electronic accessories', 6, 872.24),\n",
       " ('A', 'Fashion accessories', 2, 777.74),\n",
       " ('A', 'Food and beverages', 10, 817.29),\n",
       " ('A', 'Health and beauty', 7, 599.89),\n",
       " ('A', 'Home and lifestyle', 7, 1067.49),\n",
       " ('A', 'Sports and travel', 7, 922.51),\n",
       " ('B', 'Electronic accessories', 4, 811.97),\n",
       " ('B', 'Fashion accessories', 4, 781.59),\n",
       " ('B', 'Food and beverages', 3, 724.52),\n",
       " ('B', 'Health and beauty', 3, 951.46),\n",
       " ('B', 'Home and lifestyle', 2, 835.67),\n",
       " ('B', 'Sports and travel', 6, 951.82),\n",
       " ('C', 'Electronic accessories', 5, 903.28),\n",
       " ('C', 'Fashion accessories', 10, 1026.67),\n",
       " ('C', 'Food and beverages', 4, 1131.76),\n",
       " ('C', 'Health and beauty', 8, 791.21),\n",
       " ('C', 'Home and lifestyle', 10, 661.69),\n",
       " ('C', 'Sports and travel', 1, 750.57)]"
      ]
     },
     "execution_count": 59,
     "metadata": {},
     "output_type": "execute_result"
    }
   ],
   "source": [
    "%%sql\n",
    "-- What is the network net profit?\n",
    "SELECT \n",
    "    Branch,\n",
    "    Product_line,\n",
    "    Quantity,\n",
    "    ROUND(SUM(Total_Revenue) - SUM(cogs)\n",
    "    ,2) as Net_profit\n",
    "FROM sales\n",
    "GROUP BY Branch, Product_line"
   ]
  },
  {
   "cell_type": "code",
   "execution_count": 62,
   "metadata": {},
   "outputs": [
    {
     "name": "stdout",
     "output_type": "stream",
     "text": [
      " * sqlite:///supermarket_sales.db\n",
      "Done.\n"
     ]
    },
    {
     "data": {
      "text/html": [
       "<table>\n",
       "    <thead>\n",
       "        <tr>\n",
       "            <th>Branch</th>\n",
       "            <th>Payment</th>\n",
       "            <th>total_rev</th>\n",
       "        </tr>\n",
       "    </thead>\n",
       "    <tbody>\n",
       "        <tr>\n",
       "            <td>A</td>\n",
       "            <td>Ewallet</td>\n",
       "            <td>39324.37</td>\n",
       "        </tr>\n",
       "        <tr>\n",
       "            <td>A</td>\n",
       "            <td>Cash</td>\n",
       "            <td>33781.25</td>\n",
       "        </tr>\n",
       "        <tr>\n",
       "            <td>A</td>\n",
       "            <td>Credit card</td>\n",
       "            <td>33094.75</td>\n",
       "        </tr>\n",
       "        <tr>\n",
       "            <td>B</td>\n",
       "            <td>Credit card</td>\n",
       "            <td>37344.86</td>\n",
       "        </tr>\n",
       "        <tr>\n",
       "            <td>B</td>\n",
       "            <td>Cash</td>\n",
       "            <td>35339.46</td>\n",
       "        </tr>\n",
       "        <tr>\n",
       "            <td>B</td>\n",
       "            <td>Ewallet</td>\n",
       "            <td>33513.35</td>\n",
       "        </tr>\n",
       "        <tr>\n",
       "            <td>C</td>\n",
       "            <td>Cash</td>\n",
       "            <td>43085.86</td>\n",
       "        </tr>\n",
       "        <tr>\n",
       "            <td>C</td>\n",
       "            <td>Ewallet</td>\n",
       "            <td>37155.38</td>\n",
       "        </tr>\n",
       "        <tr>\n",
       "            <td>C</td>\n",
       "            <td>Credit card</td>\n",
       "            <td>30327.47</td>\n",
       "        </tr>\n",
       "    </tbody>\n",
       "</table>"
      ],
      "text/plain": [
       "[('A', 'Ewallet', 39324.37),\n",
       " ('A', 'Cash', 33781.25),\n",
       " ('A', 'Credit card', 33094.75),\n",
       " ('B', 'Credit card', 37344.86),\n",
       " ('B', 'Cash', 35339.46),\n",
       " ('B', 'Ewallet', 33513.35),\n",
       " ('C', 'Cash', 43085.86),\n",
       " ('C', 'Ewallet', 37155.38),\n",
       " ('C', 'Credit card', 30327.47)]"
      ]
     },
     "execution_count": 62,
     "metadata": {},
     "output_type": "execute_result"
    }
   ],
   "source": [
    "%%sql\n",
    "-- What is the distribution of payment methods (e.g., cash, credit card)?\n",
    "SELECT Branch, Payment, ROUND(SUM(Total_Revenue), 2) as total_rev\n",
    "FROM sales\n",
    "GROUP BY Branch, Payment\n",
    "ORDER BY Branch, total_rev DESC"
   ]
  }
 ],
 "metadata": {
  "kernelspec": {
   "display_name": ".venv",
   "language": "python",
   "name": "python3"
  },
  "language_info": {
   "codemirror_mode": {
    "name": "ipython",
    "version": 3
   },
   "file_extension": ".py",
   "mimetype": "text/x-python",
   "name": "python",
   "nbconvert_exporter": "python",
   "pygments_lexer": "ipython3",
   "version": "3.11.9"
  }
 },
 "nbformat": 4,
 "nbformat_minor": 2
}

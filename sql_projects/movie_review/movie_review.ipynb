{
  "cells": [
    {
      "cell_type": "markdown",
      "metadata": {
        "id": "Lzw0KqyF04q6"
      },
      "source": [
        "# Movie Review (MR)\n",
        "Set notebook to read SQL commands."
      ]
    },
    {
      "cell_type": "code",
      "execution_count": 1,
      "metadata": {
        "id": "yIWa2-6k04q7"
      },
      "outputs": [],
      "source": [
        "import pandas as pd\n",
        "import sqlite3\n"
      ]
    },
    {
      "cell_type": "code",
      "execution_count": 3,
      "metadata": {
        "id": "PjxlSagF04q8"
      },
      "outputs": [],
      "source": [
        "# Import movie databases\n",
        "df1 = pd.read_csv('name.basics.tsv.gz', sep='\\t')\n",
        "df2 = pd.read_csv('title.crew.tsv.gz', sep='\\t')\n",
        "df3 = pd.read_csv('title.ratings.tsv.gz', sep='\\t')\n",
        "# df4 = pd.read_csv('title.principals.tsv.gz', sep='\\t')"
      ]
    },
    {
      "cell_type": "code",
      "execution_count": 7,
      "metadata": {
        "id": "9d8_qFdY04q9"
      },
      "outputs": [],
      "source": [
        "# Connect to sql\n",
        "conn = sqlite3.connect('movie.db')\n",
        "\n",
        "# Transform csv in db\n",
        "df1.to_sql('basic', conn, index = False, if_exists = 'replace')\n",
        "df2.to_sql('crew', conn, index = False, if_exists = 'replace')\n",
        "df3.to_sql('rating', conn, index = False, if_exists = 'replace')\n"
      ]
    },
    {
      "cell_type": "code",
      "source": [
        "# Load sql\n",
        "## Run in Google colab\n",
        "%load_ext sql\n",
        "## Run in your local idle\n",
        "#%load_ext sqlite3\n",
        "\n",
        "# Connect to sql server\n",
        "%sql sqlite:///movie.db"
      ],
      "metadata": {
        "id": "n7DpYT5dIsKG"
      },
      "execution_count": null,
      "outputs": []
    },
    {
      "cell_type": "code",
      "execution_count": 8,
      "metadata": {
        "colab": {
          "base_uri": "https://localhost:8080/",
          "height": 182
        },
        "id": "Kn0sopFr04q9",
        "outputId": "e9380cf4-f208-42ef-aadc-6e30f5dc6aeb"
      },
      "outputs": [
        {
          "output_type": "stream",
          "name": "stdout",
          "text": [
            " * sqlite:///movie.db\n",
            "Done.\n"
          ]
        },
        {
          "output_type": "execute_result",
          "data": {
            "text/plain": [
              "[('nm0000001', 'Fred Astaire', '1899', '1987', 'actor,miscellaneous,producer', 'tt0050419,tt0072308,tt0053137,tt0027125'),\n",
              " ('nm0000002', 'Lauren Bacall', '1924', '2014', 'actress,soundtrack,archive_footage', 'tt0037382,tt0075213,tt0117057,tt0038355'),\n",
              " ('nm0000003', 'Brigitte Bardot', '1934', '\\\\N', 'actress,music_department,producer', 'tt0057345,tt0049189,tt0056404,tt0054452'),\n",
              " ('nm0000004', 'John Belushi', '1949', '1982', 'actor,writer,music_department', 'tt0072562,tt0077975,tt0080455,tt0078723'),\n",
              " ('nm0000005', 'Ingmar Bergman', '1918', '2007', 'writer,director,actor', 'tt0050986,tt0069467,tt0050976,tt0083922')]"
            ],
            "text/html": [
              "<table>\n",
              "    <thead>\n",
              "        <tr>\n",
              "            <th>nconst</th>\n",
              "            <th>primaryName</th>\n",
              "            <th>birthYear</th>\n",
              "            <th>deathYear</th>\n",
              "            <th>primaryProfession</th>\n",
              "            <th>knownForTitles</th>\n",
              "        </tr>\n",
              "    </thead>\n",
              "    <tbody>\n",
              "        <tr>\n",
              "            <td>nm0000001</td>\n",
              "            <td>Fred Astaire</td>\n",
              "            <td>1899</td>\n",
              "            <td>1987</td>\n",
              "            <td>actor,miscellaneous,producer</td>\n",
              "            <td>tt0050419,tt0072308,tt0053137,tt0027125</td>\n",
              "        </tr>\n",
              "        <tr>\n",
              "            <td>nm0000002</td>\n",
              "            <td>Lauren Bacall</td>\n",
              "            <td>1924</td>\n",
              "            <td>2014</td>\n",
              "            <td>actress,soundtrack,archive_footage</td>\n",
              "            <td>tt0037382,tt0075213,tt0117057,tt0038355</td>\n",
              "        </tr>\n",
              "        <tr>\n",
              "            <td>nm0000003</td>\n",
              "            <td>Brigitte Bardot</td>\n",
              "            <td>1934</td>\n",
              "            <td>\\N</td>\n",
              "            <td>actress,music_department,producer</td>\n",
              "            <td>tt0057345,tt0049189,tt0056404,tt0054452</td>\n",
              "        </tr>\n",
              "        <tr>\n",
              "            <td>nm0000004</td>\n",
              "            <td>John Belushi</td>\n",
              "            <td>1949</td>\n",
              "            <td>1982</td>\n",
              "            <td>actor,writer,music_department</td>\n",
              "            <td>tt0072562,tt0077975,tt0080455,tt0078723</td>\n",
              "        </tr>\n",
              "        <tr>\n",
              "            <td>nm0000005</td>\n",
              "            <td>Ingmar Bergman</td>\n",
              "            <td>1918</td>\n",
              "            <td>2007</td>\n",
              "            <td>writer,director,actor</td>\n",
              "            <td>tt0050986,tt0069467,tt0050976,tt0083922</td>\n",
              "        </tr>\n",
              "    </tbody>\n",
              "</table>"
            ]
          },
          "metadata": {},
          "execution_count": 8
        }
      ],
      "source": [
        "%%sql\n",
        "SELECT * FROM basic LIMIT 5;"
      ]
    },
    {
      "cell_type": "markdown",
      "metadata": {
        "id": "maV-ZZZy04q9"
      },
      "source": [
        "## Business Questions"
      ]
    },
    {
      "cell_type": "markdown",
      "metadata": {
        "id": "A8_OMY9x04q-"
      },
      "source": [
        "### 1. Genre Popularity Analysis\n",
        "- What are the top 5 most popular genres based on the number of films released?\n",
        "- How does the average movie rating vary by genre?\n",
        "- Which genres saw the biggest increase in the number of releases over the last 5 years?\n",
        "\n",
        "SQL Skills:\n",
        "- Joins (linking title.basics with genre-related tables).\n",
        "- Aggregation functions (`COUNT()`, `AVG()`).\n",
        "- Subqueries (for filtering by recent years).\n",
        "- Sorting (`ORDER BY`)."
      ]
    },
    {
      "cell_type": "code",
      "execution_count": null,
      "metadata": {
        "id": "WHX1e0VD04q-"
      },
      "outputs": [],
      "source": []
    },
    {
      "cell_type": "code",
      "execution_count": null,
      "metadata": {
        "id": "l5d8g_an04q-"
      },
      "outputs": [],
      "source": []
    },
    {
      "cell_type": "code",
      "execution_count": null,
      "metadata": {
        "id": "BEcKmdrm04q-"
      },
      "outputs": [],
      "source": []
    },
    {
      "cell_type": "markdown",
      "metadata": {
        "id": "cCSCk6-604q-"
      },
      "source": [
        "### 2. Director Productivity Analysis\n",
        "- Who are the directors with the most films in the catalog?\n",
        "- What is the average rating for movies directed by each of the top 10 directors?\n",
        "- Which director worked across the most genres?\n",
        "\n",
        "SQL Skills:\n",
        "- Joins (linking title.crew with title.basics).\n",
        "- Aggregation functions (`COUNT()`, `AVG()`).\n",
        "- Subqueries (to rank directors by number of movies).\n",
        "- Grouping and filtering (`GROUP BY`, `HAVING`)."
      ]
    },
    {
      "cell_type": "code",
      "execution_count": null,
      "metadata": {
        "id": "KFhQ6akx04q-"
      },
      "outputs": [],
      "source": []
    },
    {
      "cell_type": "code",
      "execution_count": null,
      "metadata": {
        "id": "AQ3hhHah04q_"
      },
      "outputs": [],
      "source": []
    },
    {
      "cell_type": "code",
      "execution_count": null,
      "metadata": {
        "id": "NEF1guaH04q_"
      },
      "outputs": [],
      "source": []
    },
    {
      "cell_type": "markdown",
      "metadata": {
        "id": "wRRwE7qS04q_"
      },
      "source": [
        "### 3. Yearly Production Trends\n",
        "- Which year had the most film releases in total?\n",
        "- What is the trend of movie releases over the last 10 years?\n",
        "- How many movies and TV series were released in the same year?\n",
        "\n",
        "SQL Skills:\n",
        "- Date manipulation (using startYear and endYear).\n",
        "- Aggregation functions (`COUNT()`).\n",
        "- Subqueries (for year-over-year comparisons).\n",
        "- Sorting and filtering (`GROUP BY`, `HAVING`)."
      ]
    },
    {
      "cell_type": "code",
      "execution_count": null,
      "metadata": {
        "id": "8InojBl-04q_"
      },
      "outputs": [],
      "source": []
    },
    {
      "cell_type": "code",
      "execution_count": null,
      "metadata": {
        "id": "sC7zioH604q_"
      },
      "outputs": [],
      "source": []
    },
    {
      "cell_type": "code",
      "execution_count": null,
      "metadata": {
        "id": "IQwOJFgY04q_"
      },
      "outputs": [],
      "source": []
    },
    {
      "cell_type": "markdown",
      "metadata": {
        "id": "gYF6-72R04q_"
      },
      "source": [
        "### 4. Movie Rating Trends\n",
        "- What are the top 5 highest-rated movies?\n",
        "- Which genre has the highest average movie rating?\n",
        "- Is there a correlation between movie runtime and average rating?\n",
        "\n",
        "SQL Skills:\n",
        "- Joins (linking title.basics and title.ratings).\n",
        "- Aggregation functions (`AVG()`, `MAX()`).\n",
        "- Subqueries (for filtering by ratings).\n",
        "- Sorting (`ORDER BY`)."
      ]
    },
    {
      "cell_type": "code",
      "execution_count": null,
      "metadata": {
        "id": "r7xjKdYc04q_"
      },
      "outputs": [],
      "source": []
    },
    {
      "cell_type": "code",
      "execution_count": null,
      "metadata": {
        "id": "2voW9y2104q_"
      },
      "outputs": [],
      "source": []
    },
    {
      "cell_type": "code",
      "execution_count": null,
      "metadata": {
        "id": "JGUF6fLs04q_"
      },
      "outputs": [],
      "source": []
    },
    {
      "cell_type": "markdown",
      "metadata": {
        "id": "a2IVGsJq04q_"
      },
      "source": [
        "### 5. Actor and Role Analysis\n",
        "- Who are the most frequent actors in the top-rated movies?\n",
        "- What is the average rating of movies featuring actors with more than 10 appearances?\n",
        "- Which actors appear across multiple genres?\n",
        "\n",
        "SQL Skills:\n",
        "- Joins (linking title.principals and title.ratings).\n",
        "- Aggregation functions (`COUNT()`, `AVG()`).\n",
        "- Subqueries (to rank actors by frequency).\n",
        "- Grouping (`GROUP BY`) and filtering (`HAVING`)."
      ]
    },
    {
      "cell_type": "code",
      "execution_count": null,
      "metadata": {
        "id": "ESkqmPZo04q_"
      },
      "outputs": [],
      "source": []
    },
    {
      "cell_type": "code",
      "execution_count": null,
      "metadata": {
        "id": "36DDAae404q_"
      },
      "outputs": [],
      "source": []
    },
    {
      "cell_type": "code",
      "execution_count": null,
      "metadata": {
        "id": "htBCXTAl04rA"
      },
      "outputs": [],
      "source": []
    },
    {
      "cell_type": "markdown",
      "metadata": {
        "id": "cVwR-I0C04rA"
      },
      "source": [
        "### 6. TV Series and Movie Comparison\n",
        "- What is the average rating of TV series compared to movies?\n",
        "- Which TV series has the longest runtime and how does it compare to movies of similar genres?\n",
        "- What percentage of releases in the last 5 years were TV series?\n",
        "\n",
        "SQL Skills:\n",
        "- Joins (linking title.basics, title.episode).\n",
        "- Aggregation functions (`AVG()`, `COUNT()`).\n",
        "- Date manipulation (using startYear and endYear).\n",
        "- Sorting (`ORDER BY`) and filtering (`HAVING`)."
      ]
    },
    {
      "cell_type": "code",
      "execution_count": null,
      "metadata": {
        "id": "_5X5LbLX04rA"
      },
      "outputs": [],
      "source": []
    },
    {
      "cell_type": "code",
      "execution_count": null,
      "metadata": {
        "id": "Al609ob904rA"
      },
      "outputs": [],
      "source": []
    },
    {
      "cell_type": "code",
      "execution_count": null,
      "metadata": {
        "id": "VHr_WISZ04rA"
      },
      "outputs": [],
      "source": []
    }
  ],
  "metadata": {
    "kernelspec": {
      "display_name": ".venv",
      "language": "python",
      "name": "python3"
    },
    "language_info": {
      "codemirror_mode": {
        "name": "ipython",
        "version": 3
      },
      "file_extension": ".py",
      "mimetype": "text/x-python",
      "name": "python",
      "nbconvert_exporter": "python",
      "pygments_lexer": "ipython3",
      "version": "3.11.9"
    },
    "colab": {
      "provenance": []
    }
  },
  "nbformat": 4,
  "nbformat_minor": 0
}
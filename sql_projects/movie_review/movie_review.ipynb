{
  "cells": [
    {
      "cell_type": "markdown",
      "metadata": {
        "id": "Lzw0KqyF04q6"
      },
      "source": [
        "# Movie Review (MR)\n",
        "Set notebook to read SQL commands."
      ]
    },
    {
      "cell_type": "code",
      "execution_count": 17,
      "metadata": {
        "id": "yIWa2-6k04q7"
      },
      "outputs": [],
      "source": [
        "import pandas as pd\n",
        "import sqlite3\n"
      ]
    },
    {
      "cell_type": "code",
      "execution_count": 18,
      "metadata": {
        "colab": {
          "base_uri": "https://localhost:8080/"
        },
        "id": "PjxlSagF04q8",
        "outputId": "78bcc1e3-1ca4-46fa-9756-284ab005017a"
      },
      "outputs": [
        {
          "output_type": "stream",
          "name": "stderr",
          "text": [
            "<ipython-input-18-dc2309786ad1>:2: DtypeWarning: Columns (4) have mixed types. Specify dtype option on import or set low_memory=False.\n",
            "  df1 = pd.read_csv('title.basics.tsv.gz', sep='\\t')\n"
          ]
        }
      ],
      "source": [
        "# Import movie databases\n",
        "df1 = pd.read_csv('title.basics.tsv.gz', sep='\\t')\n",
        "df2 = pd.read_csv('title.crew.tsv.gz', sep='\\t')\n",
        "df3 = pd.read_csv('title.ratings.tsv.gz', sep='\\t')\n",
        "# df4 = pd.read_csv('title.principals.tsv.gz', sep='\\t')"
      ]
    },
    {
      "cell_type": "code",
      "execution_count": 19,
      "metadata": {
        "colab": {
          "base_uri": "https://localhost:8080/"
        },
        "id": "9d8_qFdY04q9",
        "outputId": "0273fb46-0828-4b92-cef9-2bff22c30403"
      },
      "outputs": [
        {
          "output_type": "execute_result",
          "data": {
            "text/plain": [
              "1503482"
            ]
          },
          "metadata": {},
          "execution_count": 19
        }
      ],
      "source": [
        "# Connect to sql\n",
        "conn = sqlite3.connect('movie.db')\n",
        "\n",
        "# Transform csv in db\n",
        "df1.to_sql('basic', conn, index = False, if_exists = 'replace')\n",
        "df2.to_sql('crew', conn, index = False, if_exists = 'replace')\n",
        "df3.to_sql('rating', conn, index = False, if_exists = 'replace')\n"
      ]
    },
    {
      "cell_type": "code",
      "source": [
        "# Load sql\n",
        "## Run in Google colab\n",
        "%load_ext sql\n",
        "## Run in your local idle\n",
        "#%load_ext sqlite3\n",
        "\n",
        "# Connect to sql server\n",
        "%sql sqlite:///movie.db"
      ],
      "metadata": {
        "colab": {
          "base_uri": "https://localhost:8080/"
        },
        "id": "n7DpYT5dIsKG",
        "outputId": "a415b695-2ebf-4106-b0c6-25e072a42faf"
      },
      "execution_count": 20,
      "outputs": [
        {
          "output_type": "stream",
          "name": "stdout",
          "text": [
            "The sql extension is already loaded. To reload it, use:\n",
            "  %reload_ext sql\n"
          ]
        }
      ]
    },
    {
      "cell_type": "code",
      "execution_count": 21,
      "metadata": {
        "colab": {
          "base_uri": "https://localhost:8080/",
          "height": 118
        },
        "id": "Kn0sopFr04q9",
        "outputId": "a77c3101-37e4-4550-fc4a-1bda2c87c5c2"
      },
      "outputs": [
        {
          "output_type": "stream",
          "name": "stdout",
          "text": [
            " * sqlite:///movie.db\n",
            "Done.\n"
          ]
        },
        {
          "output_type": "execute_result",
          "data": {
            "text/plain": [
              "[('tt0000001', 'short', 'Carmencita', 'Carmencita', '0', '1894', '\\\\N', '1', 'Documentary,Short'),\n",
              " ('tt0000002', 'short', 'Le clown et ses chiens', 'Le clown et ses chiens', '0', '1892', '\\\\N', '5', 'Animation,Short')]"
            ],
            "text/html": [
              "<table>\n",
              "    <thead>\n",
              "        <tr>\n",
              "            <th>tconst</th>\n",
              "            <th>titleType</th>\n",
              "            <th>primaryTitle</th>\n",
              "            <th>originalTitle</th>\n",
              "            <th>isAdult</th>\n",
              "            <th>startYear</th>\n",
              "            <th>endYear</th>\n",
              "            <th>runtimeMinutes</th>\n",
              "            <th>genres</th>\n",
              "        </tr>\n",
              "    </thead>\n",
              "    <tbody>\n",
              "        <tr>\n",
              "            <td>tt0000001</td>\n",
              "            <td>short</td>\n",
              "            <td>Carmencita</td>\n",
              "            <td>Carmencita</td>\n",
              "            <td>0</td>\n",
              "            <td>1894</td>\n",
              "            <td>\\N</td>\n",
              "            <td>1</td>\n",
              "            <td>Documentary,Short</td>\n",
              "        </tr>\n",
              "        <tr>\n",
              "            <td>tt0000002</td>\n",
              "            <td>short</td>\n",
              "            <td>Le clown et ses chiens</td>\n",
              "            <td>Le clown et ses chiens</td>\n",
              "            <td>0</td>\n",
              "            <td>1892</td>\n",
              "            <td>\\N</td>\n",
              "            <td>5</td>\n",
              "            <td>Animation,Short</td>\n",
              "        </tr>\n",
              "    </tbody>\n",
              "</table>"
            ]
          },
          "metadata": {},
          "execution_count": 21
        }
      ],
      "source": [
        "%%sql\n",
        "SELECT * FROM basic LIMIT 2;"
      ]
    },
    {
      "cell_type": "code",
      "source": [
        "%%sql\n",
        "SELECT * FROM crew LIMIT 2;"
      ],
      "metadata": {
        "id": "9M-89Wg2JU_n",
        "outputId": "c6af440e-c24f-431e-c2a3-59a23bd31948",
        "colab": {
          "base_uri": "https://localhost:8080/",
          "height": 118
        }
      },
      "execution_count": 22,
      "outputs": [
        {
          "output_type": "stream",
          "name": "stdout",
          "text": [
            " * sqlite:///movie.db\n",
            "Done.\n"
          ]
        },
        {
          "output_type": "execute_result",
          "data": {
            "text/plain": [
              "[('tt0000001', 'nm0005690', '\\\\N'), ('tt0000002', 'nm0721526', '\\\\N')]"
            ],
            "text/html": [
              "<table>\n",
              "    <thead>\n",
              "        <tr>\n",
              "            <th>tconst</th>\n",
              "            <th>directors</th>\n",
              "            <th>writers</th>\n",
              "        </tr>\n",
              "    </thead>\n",
              "    <tbody>\n",
              "        <tr>\n",
              "            <td>tt0000001</td>\n",
              "            <td>nm0005690</td>\n",
              "            <td>\\N</td>\n",
              "        </tr>\n",
              "        <tr>\n",
              "            <td>tt0000002</td>\n",
              "            <td>nm0721526</td>\n",
              "            <td>\\N</td>\n",
              "        </tr>\n",
              "    </tbody>\n",
              "</table>"
            ]
          },
          "metadata": {},
          "execution_count": 22
        }
      ]
    },
    {
      "cell_type": "code",
      "source": [
        "%%sql\n",
        "SELECT * FROM rating LIMIT 2;"
      ],
      "metadata": {
        "id": "I6y0AUpXJb_r",
        "outputId": "3cc7a27a-f7f3-4904-d839-e61eee2ca37b",
        "colab": {
          "base_uri": "https://localhost:8080/",
          "height": 118
        }
      },
      "execution_count": 23,
      "outputs": [
        {
          "output_type": "stream",
          "name": "stdout",
          "text": [
            " * sqlite:///movie.db\n",
            "Done.\n"
          ]
        },
        {
          "output_type": "execute_result",
          "data": {
            "text/plain": [
              "[('tt0000001', 5.7, 2104), ('tt0000002', 5.6, 282)]"
            ],
            "text/html": [
              "<table>\n",
              "    <thead>\n",
              "        <tr>\n",
              "            <th>tconst</th>\n",
              "            <th>averageRating</th>\n",
              "            <th>numVotes</th>\n",
              "        </tr>\n",
              "    </thead>\n",
              "    <tbody>\n",
              "        <tr>\n",
              "            <td>tt0000001</td>\n",
              "            <td>5.7</td>\n",
              "            <td>2104</td>\n",
              "        </tr>\n",
              "        <tr>\n",
              "            <td>tt0000002</td>\n",
              "            <td>5.6</td>\n",
              "            <td>282</td>\n",
              "        </tr>\n",
              "    </tbody>\n",
              "</table>"
            ]
          },
          "metadata": {},
          "execution_count": 23
        }
      ]
    },
    {
      "cell_type": "markdown",
      "metadata": {
        "id": "maV-ZZZy04q9"
      },
      "source": [
        "## Business Questions"
      ]
    },
    {
      "cell_type": "markdown",
      "metadata": {
        "id": "A8_OMY9x04q-"
      },
      "source": [
        "### 1. Genre Popularity Analysis\n",
        "- What are the top 5 most popular genres based on the number of films released?\n",
        "- How does the average movie rating vary by genre?\n",
        "- Which genres saw the biggest increase in the number of releases over the last 5 years?\n",
        "\n",
        "SQL Skills:\n",
        "- Joins (linking title.basics with genre-related tables).\n",
        "- Aggregation functions (`COUNT()`, `AVG()`).\n",
        "- Subqueries (for filtering by recent years).\n",
        "- Sorting (`ORDER BY`)."
      ]
    },
    {
      "cell_type": "code",
      "execution_count": 34,
      "metadata": {
        "colab": {
          "base_uri": "https://localhost:8080/",
          "height": 182
        },
        "id": "WHX1e0VD04q-",
        "outputId": "4d756c71-0a36-4f72-cc6f-49c871fcff85"
      },
      "outputs": [
        {
          "output_type": "stream",
          "name": "stdout",
          "text": [
            " * sqlite:///movie.db\n",
            "Done.\n"
          ]
        },
        {
          "output_type": "execute_result",
          "data": {
            "text/plain": [
              "[('Drama', 1276745),\n",
              " ('Comedy', 741025),\n",
              " ('Talk-Show', 703731),\n",
              " ('News', 586493),\n",
              " ('Documentary', 540870)]"
            ],
            "text/html": [
              "<table>\n",
              "    <thead>\n",
              "        <tr>\n",
              "            <th>genres</th>\n",
              "            <th>count_genres</th>\n",
              "        </tr>\n",
              "    </thead>\n",
              "    <tbody>\n",
              "        <tr>\n",
              "            <td>Drama</td>\n",
              "            <td>1276745</td>\n",
              "        </tr>\n",
              "        <tr>\n",
              "            <td>Comedy</td>\n",
              "            <td>741025</td>\n",
              "        </tr>\n",
              "        <tr>\n",
              "            <td>Talk-Show</td>\n",
              "            <td>703731</td>\n",
              "        </tr>\n",
              "        <tr>\n",
              "            <td>News</td>\n",
              "            <td>586493</td>\n",
              "        </tr>\n",
              "        <tr>\n",
              "            <td>Documentary</td>\n",
              "            <td>540870</td>\n",
              "        </tr>\n",
              "    </tbody>\n",
              "</table>"
            ]
          },
          "metadata": {},
          "execution_count": 34
        }
      ],
      "source": [
        "# What are the top 5 most popular genres based on the number of films released?\n",
        "%%sql\n",
        "SELECT genres, COUNT(genres) as count_genres\n",
        "FROM basic\n",
        "GROUP BY genres\n",
        "ORDER BY count_genres DESC\n",
        "LIMIT 5;"
      ]
    },
    {
      "cell_type": "code",
      "source": [
        "# How does the average movie rating vary by genre?\n",
        "%%sql\n",
        "SELECT genres, AVG(averageRating) as avg_rating\n",
        "FROM basic\n",
        "JOIN rating\n",
        "On basic.tconst = rating.tconst\n",
        "GROUP BY genres\n",
        "ORDER BY avg_rating DESC\n",
        "LIMIT 10; -- adding a limit so we can see better, but if you remove it you can see the entire list"
      ],
      "metadata": {
        "id": "gxKRqEvpYL9J",
        "outputId": "685ab9d7-e91a-46f4-a16d-342bececb1b3",
        "colab": {
          "base_uri": "https://localhost:8080/",
          "height": 289
        }
      },
      "execution_count": 37,
      "outputs": [
        {
          "output_type": "stream",
          "name": "stdout",
          "text": [
            " * sqlite:///movie.db\n",
            "Done.\n"
          ]
        },
        {
          "output_type": "execute_result",
          "data": {
            "text/plain": [
              "[('Documentary,Musical,Reality-TV', 9.5),\n",
              " ('Animation,Musical,Reality-TV', 9.4),\n",
              " ('Reality-TV,Short,Talk-Show', 9.254761904761901),\n",
              " ('Music,War', 9.25),\n",
              " ('Comedy,Game-Show,Musical', 9.21818181818182),\n",
              " ('Biography,Crime,Reality-TV', 9.216666666666667),\n",
              " ('Family,Game-Show,Romance', 9.200000000000001),\n",
              " ('Mystery,Sci-Fi,Talk-Show', 9.2),\n",
              " ('History,Music,News', 9.2),\n",
              " ('Family,History,Talk-Show', 9.2)]"
            ],
            "text/html": [
              "<table>\n",
              "    <thead>\n",
              "        <tr>\n",
              "            <th>genres</th>\n",
              "            <th>avg_rating</th>\n",
              "        </tr>\n",
              "    </thead>\n",
              "    <tbody>\n",
              "        <tr>\n",
              "            <td>Documentary,Musical,Reality-TV</td>\n",
              "            <td>9.5</td>\n",
              "        </tr>\n",
              "        <tr>\n",
              "            <td>Animation,Musical,Reality-TV</td>\n",
              "            <td>9.4</td>\n",
              "        </tr>\n",
              "        <tr>\n",
              "            <td>Reality-TV,Short,Talk-Show</td>\n",
              "            <td>9.254761904761901</td>\n",
              "        </tr>\n",
              "        <tr>\n",
              "            <td>Music,War</td>\n",
              "            <td>9.25</td>\n",
              "        </tr>\n",
              "        <tr>\n",
              "            <td>Comedy,Game-Show,Musical</td>\n",
              "            <td>9.21818181818182</td>\n",
              "        </tr>\n",
              "        <tr>\n",
              "            <td>Biography,Crime,Reality-TV</td>\n",
              "            <td>9.216666666666667</td>\n",
              "        </tr>\n",
              "        <tr>\n",
              "            <td>Family,Game-Show,Romance</td>\n",
              "            <td>9.200000000000001</td>\n",
              "        </tr>\n",
              "        <tr>\n",
              "            <td>Mystery,Sci-Fi,Talk-Show</td>\n",
              "            <td>9.2</td>\n",
              "        </tr>\n",
              "        <tr>\n",
              "            <td>History,Music,News</td>\n",
              "            <td>9.2</td>\n",
              "        </tr>\n",
              "        <tr>\n",
              "            <td>Family,History,Talk-Show</td>\n",
              "            <td>9.2</td>\n",
              "        </tr>\n",
              "    </tbody>\n",
              "</table>"
            ]
          },
          "metadata": {},
          "execution_count": 37
        }
      ]
    },
    {
      "cell_type": "code",
      "source": [
        "# Now just checking the bottom ratings\n",
        "%%sql\n",
        "SELECT genres, AVG(averageRating) as avg_rating\n",
        "FROM basic\n",
        "JOIN rating\n",
        "On basic.tconst = rating.tconst\n",
        "GROUP BY genres\n",
        "ORDER BY avg_rating ASC\n",
        "LIMIT 10;"
      ],
      "metadata": {
        "id": "uYM4xc0FZATl",
        "outputId": "178419cf-3349-437f-cbda-f70d2543bf02",
        "colab": {
          "base_uri": "https://localhost:8080/",
          "height": 289
        }
      },
      "execution_count": 38,
      "outputs": [
        {
          "output_type": "stream",
          "name": "stdout",
          "text": [
            " * sqlite:///movie.db\n",
            "Done.\n"
          ]
        },
        {
          "output_type": "execute_result",
          "data": {
            "text/plain": [
              "[('Drama,Family,Game-Show', 1.7),\n",
              " ('Biography,Reality-TV,Sport', 2.3),\n",
              " ('Comedy,Sport,War', 2.5),\n",
              " ('News,Short,War', 2.7),\n",
              " ('Sci-Fi,Thriller,War', 3.2),\n",
              " ('Fantasy,Sci-Fi,Western', 3.4),\n",
              " ('Horror,Sci-Fi,Western', 3.5),\n",
              " ('Adventure,Sci-Fi,Western', 3.6),\n",
              " ('Action,Music,Thriller', 3.7),\n",
              " ('Fantasy,Musical,Western', 3.7)]"
            ],
            "text/html": [
              "<table>\n",
              "    <thead>\n",
              "        <tr>\n",
              "            <th>genres</th>\n",
              "            <th>avg_rating</th>\n",
              "        </tr>\n",
              "    </thead>\n",
              "    <tbody>\n",
              "        <tr>\n",
              "            <td>Drama,Family,Game-Show</td>\n",
              "            <td>1.7</td>\n",
              "        </tr>\n",
              "        <tr>\n",
              "            <td>Biography,Reality-TV,Sport</td>\n",
              "            <td>2.3</td>\n",
              "        </tr>\n",
              "        <tr>\n",
              "            <td>Comedy,Sport,War</td>\n",
              "            <td>2.5</td>\n",
              "        </tr>\n",
              "        <tr>\n",
              "            <td>News,Short,War</td>\n",
              "            <td>2.7</td>\n",
              "        </tr>\n",
              "        <tr>\n",
              "            <td>Sci-Fi,Thriller,War</td>\n",
              "            <td>3.2</td>\n",
              "        </tr>\n",
              "        <tr>\n",
              "            <td>Fantasy,Sci-Fi,Western</td>\n",
              "            <td>3.4</td>\n",
              "        </tr>\n",
              "        <tr>\n",
              "            <td>Horror,Sci-Fi,Western</td>\n",
              "            <td>3.5</td>\n",
              "        </tr>\n",
              "        <tr>\n",
              "            <td>Adventure,Sci-Fi,Western</td>\n",
              "            <td>3.6</td>\n",
              "        </tr>\n",
              "        <tr>\n",
              "            <td>Action,Music,Thriller</td>\n",
              "            <td>3.7</td>\n",
              "        </tr>\n",
              "        <tr>\n",
              "            <td>Fantasy,Musical,Western</td>\n",
              "            <td>3.7</td>\n",
              "        </tr>\n",
              "    </tbody>\n",
              "</table>"
            ]
          },
          "metadata": {},
          "execution_count": 38
        }
      ]
    },
    {
      "cell_type": "code",
      "execution_count": 43,
      "metadata": {
        "colab": {
          "base_uri": "https://localhost:8080/",
          "height": 182
        },
        "id": "BEcKmdrm04q-",
        "outputId": "e3f2c27d-b4e1-4c1d-901f-5605b0a80ba3"
      },
      "outputs": [
        {
          "output_type": "stream",
          "name": "stdout",
          "text": [
            " * sqlite:///movie.db\n",
            "Done.\n"
          ]
        },
        {
          "output_type": "execute_result",
          "data": {
            "text/plain": [
              "[('Drama', 647329),\n",
              " ('Talk-Show', 293744),\n",
              " ('Comedy', 253035),\n",
              " ('News', 219342),\n",
              " ('Documentary', 177488)]"
            ],
            "text/html": [
              "<table>\n",
              "    <thead>\n",
              "        <tr>\n",
              "            <th>genres</th>\n",
              "            <th>count_genres</th>\n",
              "        </tr>\n",
              "    </thead>\n",
              "    <tbody>\n",
              "        <tr>\n",
              "            <td>Drama</td>\n",
              "            <td>647329</td>\n",
              "        </tr>\n",
              "        <tr>\n",
              "            <td>Talk-Show</td>\n",
              "            <td>293744</td>\n",
              "        </tr>\n",
              "        <tr>\n",
              "            <td>Comedy</td>\n",
              "            <td>253035</td>\n",
              "        </tr>\n",
              "        <tr>\n",
              "            <td>News</td>\n",
              "            <td>219342</td>\n",
              "        </tr>\n",
              "        <tr>\n",
              "            <td>Documentary</td>\n",
              "            <td>177488</td>\n",
              "        </tr>\n",
              "    </tbody>\n",
              "</table>"
            ]
          },
          "metadata": {},
          "execution_count": 43
        }
      ],
      "source": [
        "# Which genres saw the biggest increase in the number of releases over the last 5 years?\n",
        "%%sql\n",
        "SELECT genres, COUNT(genres) as count_genres\n",
        "FROM basic\n",
        "WHERE startYear >= DATE('now')-5\n",
        "GROUP BY genres\n",
        "ORDER BY count_genres DESC\n",
        "LIMIT 5;"
      ]
    },
    {
      "cell_type": "markdown",
      "metadata": {
        "id": "cCSCk6-604q-"
      },
      "source": [
        "### 2. Director Productivity Analysis\n",
        "- Who are the directors with the most films in the catalog?\n",
        "- What is the average rating for movies directed by each of the top 10 directors?\n",
        "- Which director worked across the most genres?\n",
        "\n",
        "SQL Skills:\n",
        "- Joins (linking title.crew with title.basics).\n",
        "- Aggregation functions (`COUNT()`, `AVG()`).\n",
        "- Subqueries (to rank directors by number of movies).\n",
        "- Grouping and filtering (`GROUP BY`, `HAVING`)."
      ]
    },
    {
      "cell_type": "code",
      "execution_count": 23,
      "metadata": {
        "id": "KFhQ6akx04q-"
      },
      "outputs": [],
      "source": []
    },
    {
      "cell_type": "code",
      "execution_count": 23,
      "metadata": {
        "id": "AQ3hhHah04q_"
      },
      "outputs": [],
      "source": []
    },
    {
      "cell_type": "code",
      "execution_count": 23,
      "metadata": {
        "id": "NEF1guaH04q_"
      },
      "outputs": [],
      "source": []
    },
    {
      "cell_type": "markdown",
      "metadata": {
        "id": "wRRwE7qS04q_"
      },
      "source": [
        "### 3. Yearly Production Trends\n",
        "- Which year had the most film releases in total?\n",
        "- What is the trend of movie releases over the last 10 years?\n",
        "- How many movies and TV series were released in the same year?\n",
        "\n",
        "SQL Skills:\n",
        "- Date manipulation (using startYear and endYear).\n",
        "- Aggregation functions (`COUNT()`).\n",
        "- Subqueries (for year-over-year comparisons).\n",
        "- Sorting and filtering (`GROUP BY`, `HAVING`)."
      ]
    },
    {
      "cell_type": "code",
      "execution_count": 23,
      "metadata": {
        "id": "8InojBl-04q_"
      },
      "outputs": [],
      "source": []
    },
    {
      "cell_type": "code",
      "execution_count": 23,
      "metadata": {
        "id": "sC7zioH604q_"
      },
      "outputs": [],
      "source": []
    },
    {
      "cell_type": "code",
      "execution_count": 23,
      "metadata": {
        "id": "IQwOJFgY04q_"
      },
      "outputs": [],
      "source": []
    },
    {
      "cell_type": "markdown",
      "metadata": {
        "id": "gYF6-72R04q_"
      },
      "source": [
        "### 4. Movie Rating Trends\n",
        "- What are the top 5 highest-rated movies?\n",
        "- Which genre has the highest average movie rating?\n",
        "- Is there a correlation between movie runtime and average rating?\n",
        "\n",
        "SQL Skills:\n",
        "- Joins (linking title.basics and title.ratings).\n",
        "- Aggregation functions (`AVG()`, `MAX()`).\n",
        "- Subqueries (for filtering by ratings).\n",
        "- Sorting (`ORDER BY`)."
      ]
    },
    {
      "cell_type": "code",
      "execution_count": 23,
      "metadata": {
        "id": "r7xjKdYc04q_"
      },
      "outputs": [],
      "source": []
    },
    {
      "cell_type": "code",
      "execution_count": 23,
      "metadata": {
        "id": "2voW9y2104q_"
      },
      "outputs": [],
      "source": []
    },
    {
      "cell_type": "code",
      "execution_count": 23,
      "metadata": {
        "id": "JGUF6fLs04q_"
      },
      "outputs": [],
      "source": []
    },
    {
      "cell_type": "markdown",
      "metadata": {
        "id": "a2IVGsJq04q_"
      },
      "source": [
        "### 5. Actor and Role Analysis\n",
        "- Who are the most frequent actors in the top-rated movies?\n",
        "- What is the average rating of movies featuring actors with more than 10 appearances?\n",
        "- Which actors appear across multiple genres?\n",
        "\n",
        "SQL Skills:\n",
        "- Joins (linking title.principals and title.ratings).\n",
        "- Aggregation functions (`COUNT()`, `AVG()`).\n",
        "- Subqueries (to rank actors by frequency).\n",
        "- Grouping (`GROUP BY`) and filtering (`HAVING`)."
      ]
    },
    {
      "cell_type": "code",
      "execution_count": 23,
      "metadata": {
        "id": "ESkqmPZo04q_"
      },
      "outputs": [],
      "source": []
    },
    {
      "cell_type": "code",
      "execution_count": 23,
      "metadata": {
        "id": "36DDAae404q_"
      },
      "outputs": [],
      "source": []
    },
    {
      "cell_type": "code",
      "execution_count": 23,
      "metadata": {
        "id": "htBCXTAl04rA"
      },
      "outputs": [],
      "source": []
    },
    {
      "cell_type": "markdown",
      "metadata": {
        "id": "cVwR-I0C04rA"
      },
      "source": [
        "### 6. TV Series and Movie Comparison\n",
        "- What is the average rating of TV series compared to movies?\n",
        "- Which TV series has the longest runtime and how does it compare to movies of similar genres?\n",
        "- What percentage of releases in the last 5 years were TV series?\n",
        "\n",
        "SQL Skills:\n",
        "- Joins (linking title.basics, title.episode).\n",
        "- Aggregation functions (`AVG()`, `COUNT()`).\n",
        "- Date manipulation (using startYear and endYear).\n",
        "- Sorting (`ORDER BY`) and filtering (`HAVING`)."
      ]
    },
    {
      "cell_type": "code",
      "execution_count": 23,
      "metadata": {
        "id": "_5X5LbLX04rA"
      },
      "outputs": [],
      "source": []
    },
    {
      "cell_type": "code",
      "execution_count": 23,
      "metadata": {
        "id": "Al609ob904rA"
      },
      "outputs": [],
      "source": []
    },
    {
      "cell_type": "code",
      "execution_count": 23,
      "metadata": {
        "id": "VHr_WISZ04rA"
      },
      "outputs": [],
      "source": []
    }
  ],
  "metadata": {
    "kernelspec": {
      "display_name": ".venv",
      "language": "python",
      "name": "python3"
    },
    "language_info": {
      "codemirror_mode": {
        "name": "ipython",
        "version": 3
      },
      "file_extension": ".py",
      "mimetype": "text/x-python",
      "name": "python",
      "nbconvert_exporter": "python",
      "pygments_lexer": "ipython3",
      "version": "3.11.9"
    },
    "colab": {
      "provenance": []
    }
  },
  "nbformat": 4,
  "nbformat_minor": 0
}
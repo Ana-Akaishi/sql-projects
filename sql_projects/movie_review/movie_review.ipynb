{
  "cells": [
    {
      "cell_type": "markdown",
      "metadata": {
        "id": "Lzw0KqyF04q6"
      },
      "source": [
        "# Movie Review (MR)\n",
        "Set notebook to read SQL commands."
      ]
    },
    {
      "cell_type": "code",
      "execution_count": 20,
      "metadata": {
        "id": "yIWa2-6k04q7"
      },
      "outputs": [],
      "source": [
        "# Import basic libraries\n",
        "import pandas as pd\n",
        "import sqlite3"
      ]
    },
    {
      "cell_type": "code",
      "source": [
        "!pip install prettytable==2.5.0"
      ],
      "metadata": {
        "id": "i0xKj95-WtYs",
        "outputId": "91784c98-44ad-41fe-ebf6-3fc7c7538462",
        "colab": {
          "base_uri": "https://localhost:8080/"
        }
      },
      "execution_count": 21,
      "outputs": [
        {
          "output_type": "stream",
          "name": "stdout",
          "text": [
            "Requirement already satisfied: prettytable==2.5.0 in /usr/local/lib/python3.10/dist-packages (2.5.0)\n",
            "Requirement already satisfied: wcwidth in /usr/local/lib/python3.10/dist-packages (from prettytable==2.5.0) (0.2.13)\n"
          ]
        }
      ]
    },
    {
      "cell_type": "code",
      "execution_count": 22,
      "metadata": {
        "colab": {
          "base_uri": "https://localhost:8080/"
        },
        "id": "PjxlSagF04q8",
        "outputId": "8fe214be-b162-44e4-ce59-9fe28d3b5c52"
      },
      "outputs": [
        {
          "output_type": "stream",
          "name": "stderr",
          "text": [
            "<ipython-input-22-dc2309786ad1>:2: DtypeWarning: Columns (4) have mixed types. Specify dtype option on import or set low_memory=False.\n",
            "  df1 = pd.read_csv('title.basics.tsv.gz', sep='\\t')\n"
          ]
        }
      ],
      "source": [
        "# Import movie databases\n",
        "df1 = pd.read_csv('title.basics.tsv.gz', sep='\\t')\n",
        "df2 = pd.read_csv('title.crew.tsv.gz', sep='\\t')\n",
        "df3 = pd.read_csv('title.ratings.tsv.gz', sep='\\t')\n",
        "# df4 = pd.read_csv('title.principals.tsv.gz', sep='\\t')"
      ]
    },
    {
      "cell_type": "code",
      "execution_count": 23,
      "metadata": {
        "colab": {
          "base_uri": "https://localhost:8080/"
        },
        "id": "9d8_qFdY04q9",
        "outputId": "b483ab69-ae97-4b9c-9cf4-7d66df4238e1"
      },
      "outputs": [
        {
          "output_type": "execute_result",
          "data": {
            "text/plain": [
              "1503482"
            ]
          },
          "metadata": {},
          "execution_count": 23
        }
      ],
      "source": [
        "# Connect to sql\n",
        "conn = sqlite3.connect('movie.db')\n",
        "\n",
        "# Transform csv in db\n",
        "df1.to_sql('basic', conn, index = False, if_exists = 'replace')\n",
        "df2.to_sql('crew', conn, index = False, if_exists = 'replace')\n",
        "df3.to_sql('rating', conn, index = False, if_exists = 'replace')\n"
      ]
    },
    {
      "cell_type": "code",
      "source": [
        "# Load sql\n",
        "## Run in Google colab\n",
        "%load_ext sql\n",
        "## Run in your local idle\n",
        "#%load_ext sqlite3\n",
        "\n",
        "# Connect to sql server\n",
        "%sql sqlite:///movie.db"
      ],
      "metadata": {
        "colab": {
          "base_uri": "https://localhost:8080/"
        },
        "id": "n7DpYT5dIsKG",
        "outputId": "e541966c-daaf-4370-f70e-c8ee86bafc9f"
      },
      "execution_count": 24,
      "outputs": [
        {
          "output_type": "stream",
          "name": "stdout",
          "text": [
            "The sql extension is already loaded. To reload it, use:\n",
            "  %reload_ext sql\n"
          ]
        }
      ]
    },
    {
      "cell_type": "code",
      "execution_count": 25,
      "metadata": {
        "colab": {
          "base_uri": "https://localhost:8080/",
          "height": 118
        },
        "id": "Kn0sopFr04q9",
        "outputId": "23c13c2f-dd25-49d1-cb9e-df02886f6022"
      },
      "outputs": [
        {
          "output_type": "stream",
          "name": "stdout",
          "text": [
            " * sqlite:///movie.db\n",
            "Done.\n"
          ]
        },
        {
          "output_type": "execute_result",
          "data": {
            "text/plain": [
              "[('tt0000001', 'short', 'Carmencita', 'Carmencita', '0', '1894', '\\\\N', '1', 'Documentary,Short'),\n",
              " ('tt0000002', 'short', 'Le clown et ses chiens', 'Le clown et ses chiens', '0', '1892', '\\\\N', '5', 'Animation,Short')]"
            ],
            "text/html": [
              "<table>\n",
              "    <thead>\n",
              "        <tr>\n",
              "            <th>tconst</th>\n",
              "            <th>titleType</th>\n",
              "            <th>primaryTitle</th>\n",
              "            <th>originalTitle</th>\n",
              "            <th>isAdult</th>\n",
              "            <th>startYear</th>\n",
              "            <th>endYear</th>\n",
              "            <th>runtimeMinutes</th>\n",
              "            <th>genres</th>\n",
              "        </tr>\n",
              "    </thead>\n",
              "    <tbody>\n",
              "        <tr>\n",
              "            <td>tt0000001</td>\n",
              "            <td>short</td>\n",
              "            <td>Carmencita</td>\n",
              "            <td>Carmencita</td>\n",
              "            <td>0</td>\n",
              "            <td>1894</td>\n",
              "            <td>\\N</td>\n",
              "            <td>1</td>\n",
              "            <td>Documentary,Short</td>\n",
              "        </tr>\n",
              "        <tr>\n",
              "            <td>tt0000002</td>\n",
              "            <td>short</td>\n",
              "            <td>Le clown et ses chiens</td>\n",
              "            <td>Le clown et ses chiens</td>\n",
              "            <td>0</td>\n",
              "            <td>1892</td>\n",
              "            <td>\\N</td>\n",
              "            <td>5</td>\n",
              "            <td>Animation,Short</td>\n",
              "        </tr>\n",
              "    </tbody>\n",
              "</table>"
            ]
          },
          "metadata": {},
          "execution_count": 25
        }
      ],
      "source": [
        "%%sql\n",
        "SELECT * FROM basic LIMIT 2;"
      ]
    },
    {
      "cell_type": "code",
      "source": [
        "%%sql\n",
        "SELECT * FROM crew LIMIT 2;"
      ],
      "metadata": {
        "id": "9M-89Wg2JU_n",
        "outputId": "d6fa7e64-3a0b-4919-d01c-be3e147bb916",
        "colab": {
          "base_uri": "https://localhost:8080/",
          "height": 118
        }
      },
      "execution_count": 26,
      "outputs": [
        {
          "output_type": "stream",
          "name": "stdout",
          "text": [
            " * sqlite:///movie.db\n",
            "Done.\n"
          ]
        },
        {
          "output_type": "execute_result",
          "data": {
            "text/plain": [
              "[('tt0000001', 'nm0005690', '\\\\N'), ('tt0000002', 'nm0721526', '\\\\N')]"
            ],
            "text/html": [
              "<table>\n",
              "    <thead>\n",
              "        <tr>\n",
              "            <th>tconst</th>\n",
              "            <th>directors</th>\n",
              "            <th>writers</th>\n",
              "        </tr>\n",
              "    </thead>\n",
              "    <tbody>\n",
              "        <tr>\n",
              "            <td>tt0000001</td>\n",
              "            <td>nm0005690</td>\n",
              "            <td>\\N</td>\n",
              "        </tr>\n",
              "        <tr>\n",
              "            <td>tt0000002</td>\n",
              "            <td>nm0721526</td>\n",
              "            <td>\\N</td>\n",
              "        </tr>\n",
              "    </tbody>\n",
              "</table>"
            ]
          },
          "metadata": {},
          "execution_count": 26
        }
      ]
    },
    {
      "cell_type": "code",
      "source": [
        "%%sql\n",
        "SELECT * FROM rating LIMIT 2;"
      ],
      "metadata": {
        "id": "I6y0AUpXJb_r",
        "outputId": "49147bf5-9ccf-4586-9b4b-95bfea80db45",
        "colab": {
          "base_uri": "https://localhost:8080/",
          "height": 118
        }
      },
      "execution_count": 27,
      "outputs": [
        {
          "output_type": "stream",
          "name": "stdout",
          "text": [
            " * sqlite:///movie.db\n",
            "Done.\n"
          ]
        },
        {
          "output_type": "execute_result",
          "data": {
            "text/plain": [
              "[('tt0000001', 5.7, 2104), ('tt0000002', 5.6, 282)]"
            ],
            "text/html": [
              "<table>\n",
              "    <thead>\n",
              "        <tr>\n",
              "            <th>tconst</th>\n",
              "            <th>averageRating</th>\n",
              "            <th>numVotes</th>\n",
              "        </tr>\n",
              "    </thead>\n",
              "    <tbody>\n",
              "        <tr>\n",
              "            <td>tt0000001</td>\n",
              "            <td>5.7</td>\n",
              "            <td>2104</td>\n",
              "        </tr>\n",
              "        <tr>\n",
              "            <td>tt0000002</td>\n",
              "            <td>5.6</td>\n",
              "            <td>282</td>\n",
              "        </tr>\n",
              "    </tbody>\n",
              "</table>"
            ]
          },
          "metadata": {},
          "execution_count": 27
        }
      ]
    },
    {
      "cell_type": "markdown",
      "metadata": {
        "id": "maV-ZZZy04q9"
      },
      "source": [
        "## Business Questions"
      ]
    },
    {
      "cell_type": "markdown",
      "metadata": {
        "id": "A8_OMY9x04q-"
      },
      "source": [
        "### 1. Genre Popularity Analysis\n",
        "- What are the top 5 most popular genres based on the number of films released?\n",
        "- How does the average movie rating vary by genre?\n",
        "- Which genres saw the biggest increase in the number of releases over the last 5 years?\n",
        "\n",
        "SQL Skills:\n",
        "- Joins (linking title.basics with genre-related tables).\n",
        "- Aggregation functions (`COUNT()`, `AVG()`).\n",
        "- Subqueries (for filtering by recent years).\n",
        "- Sorting (`ORDER BY`)."
      ]
    },
    {
      "cell_type": "code",
      "execution_count": 9,
      "metadata": {
        "colab": {
          "base_uri": "https://localhost:8080/",
          "height": 182
        },
        "id": "WHX1e0VD04q-",
        "outputId": "fadede3e-76bb-428a-f779-604c654f81d6"
      },
      "outputs": [
        {
          "output_type": "stream",
          "name": "stdout",
          "text": [
            " * sqlite:///movie.db\n",
            "Done.\n"
          ]
        },
        {
          "output_type": "execute_result",
          "data": {
            "text/plain": [
              "[('Drama', 1276745),\n",
              " ('Comedy', 741025),\n",
              " ('Talk-Show', 703731),\n",
              " ('News', 586493),\n",
              " ('Documentary', 540870)]"
            ],
            "text/html": [
              "<table>\n",
              "    <thead>\n",
              "        <tr>\n",
              "            <th>genres</th>\n",
              "            <th>count_genres</th>\n",
              "        </tr>\n",
              "    </thead>\n",
              "    <tbody>\n",
              "        <tr>\n",
              "            <td>Drama</td>\n",
              "            <td>1276745</td>\n",
              "        </tr>\n",
              "        <tr>\n",
              "            <td>Comedy</td>\n",
              "            <td>741025</td>\n",
              "        </tr>\n",
              "        <tr>\n",
              "            <td>Talk-Show</td>\n",
              "            <td>703731</td>\n",
              "        </tr>\n",
              "        <tr>\n",
              "            <td>News</td>\n",
              "            <td>586493</td>\n",
              "        </tr>\n",
              "        <tr>\n",
              "            <td>Documentary</td>\n",
              "            <td>540870</td>\n",
              "        </tr>\n",
              "    </tbody>\n",
              "</table>"
            ]
          },
          "metadata": {},
          "execution_count": 9
        }
      ],
      "source": [
        "# What are the top 5 most popular genres based on the number of films released?\n",
        "%%sql\n",
        "SELECT genres, COUNT(genres) as count_genres\n",
        "FROM basic\n",
        "GROUP BY genres\n",
        "ORDER BY count_genres DESC\n",
        "LIMIT 5;"
      ]
    },
    {
      "cell_type": "code",
      "source": [
        "# How does the average movie rating vary by genre?\n",
        "%%sql\n",
        "SELECT genres, AVG(averageRating) as avg_rating\n",
        "FROM basic\n",
        "JOIN rating\n",
        "On basic.tconst = rating.tconst\n",
        "GROUP BY genres\n",
        "ORDER BY avg_rating DESC\n",
        "LIMIT 10; -- adding a limit so we can see better, but if you remove it you can see the entire list"
      ],
      "metadata": {
        "id": "gxKRqEvpYL9J",
        "outputId": "30b503fa-02bb-4b5d-9cf8-785a58ce07da",
        "colab": {
          "base_uri": "https://localhost:8080/",
          "height": 289
        }
      },
      "execution_count": 10,
      "outputs": [
        {
          "output_type": "stream",
          "name": "stdout",
          "text": [
            " * sqlite:///movie.db\n",
            "Done.\n"
          ]
        },
        {
          "output_type": "execute_result",
          "data": {
            "text/plain": [
              "[('Documentary,Musical,Reality-TV', 9.5),\n",
              " ('Animation,Musical,Reality-TV', 9.4),\n",
              " ('Reality-TV,Short,Talk-Show', 9.254761904761901),\n",
              " ('Music,War', 9.25),\n",
              " ('Comedy,Game-Show,Musical', 9.21818181818182),\n",
              " ('Biography,Crime,Reality-TV', 9.216666666666667),\n",
              " ('Family,Game-Show,Romance', 9.200000000000001),\n",
              " ('Mystery,Sci-Fi,Talk-Show', 9.2),\n",
              " ('History,Music,News', 9.2),\n",
              " ('Family,History,Talk-Show', 9.2)]"
            ],
            "text/html": [
              "<table>\n",
              "    <thead>\n",
              "        <tr>\n",
              "            <th>genres</th>\n",
              "            <th>avg_rating</th>\n",
              "        </tr>\n",
              "    </thead>\n",
              "    <tbody>\n",
              "        <tr>\n",
              "            <td>Documentary,Musical,Reality-TV</td>\n",
              "            <td>9.5</td>\n",
              "        </tr>\n",
              "        <tr>\n",
              "            <td>Animation,Musical,Reality-TV</td>\n",
              "            <td>9.4</td>\n",
              "        </tr>\n",
              "        <tr>\n",
              "            <td>Reality-TV,Short,Talk-Show</td>\n",
              "            <td>9.254761904761901</td>\n",
              "        </tr>\n",
              "        <tr>\n",
              "            <td>Music,War</td>\n",
              "            <td>9.25</td>\n",
              "        </tr>\n",
              "        <tr>\n",
              "            <td>Comedy,Game-Show,Musical</td>\n",
              "            <td>9.21818181818182</td>\n",
              "        </tr>\n",
              "        <tr>\n",
              "            <td>Biography,Crime,Reality-TV</td>\n",
              "            <td>9.216666666666667</td>\n",
              "        </tr>\n",
              "        <tr>\n",
              "            <td>Family,Game-Show,Romance</td>\n",
              "            <td>9.200000000000001</td>\n",
              "        </tr>\n",
              "        <tr>\n",
              "            <td>Mystery,Sci-Fi,Talk-Show</td>\n",
              "            <td>9.2</td>\n",
              "        </tr>\n",
              "        <tr>\n",
              "            <td>History,Music,News</td>\n",
              "            <td>9.2</td>\n",
              "        </tr>\n",
              "        <tr>\n",
              "            <td>Family,History,Talk-Show</td>\n",
              "            <td>9.2</td>\n",
              "        </tr>\n",
              "    </tbody>\n",
              "</table>"
            ]
          },
          "metadata": {},
          "execution_count": 10
        }
      ]
    },
    {
      "cell_type": "code",
      "source": [
        "# Now just checking the bottom ratings\n",
        "%%sql\n",
        "SELECT genres, AVG(averageRating) as avg_rating\n",
        "FROM basic\n",
        "JOIN rating\n",
        "On basic.tconst = rating.tconst\n",
        "GROUP BY genres\n",
        "ORDER BY avg_rating ASC\n",
        "LIMIT 10;"
      ],
      "metadata": {
        "id": "uYM4xc0FZATl",
        "outputId": "38ee438d-f3da-4c7a-decc-258e4d1573a3",
        "colab": {
          "base_uri": "https://localhost:8080/",
          "height": 289
        }
      },
      "execution_count": 11,
      "outputs": [
        {
          "output_type": "stream",
          "name": "stdout",
          "text": [
            " * sqlite:///movie.db\n",
            "Done.\n"
          ]
        },
        {
          "output_type": "execute_result",
          "data": {
            "text/plain": [
              "[('Drama,Family,Game-Show', 1.7),\n",
              " ('Biography,Reality-TV,Sport', 2.3),\n",
              " ('Comedy,Sport,War', 2.5),\n",
              " ('News,Short,War', 2.7),\n",
              " ('Sci-Fi,Thriller,War', 3.2),\n",
              " ('Fantasy,Sci-Fi,Western', 3.4),\n",
              " ('Horror,Sci-Fi,Western', 3.5),\n",
              " ('Adventure,Sci-Fi,Western', 3.6),\n",
              " ('Action,Music,Thriller', 3.7),\n",
              " ('Fantasy,Musical,Western', 3.7)]"
            ],
            "text/html": [
              "<table>\n",
              "    <thead>\n",
              "        <tr>\n",
              "            <th>genres</th>\n",
              "            <th>avg_rating</th>\n",
              "        </tr>\n",
              "    </thead>\n",
              "    <tbody>\n",
              "        <tr>\n",
              "            <td>Drama,Family,Game-Show</td>\n",
              "            <td>1.7</td>\n",
              "        </tr>\n",
              "        <tr>\n",
              "            <td>Biography,Reality-TV,Sport</td>\n",
              "            <td>2.3</td>\n",
              "        </tr>\n",
              "        <tr>\n",
              "            <td>Comedy,Sport,War</td>\n",
              "            <td>2.5</td>\n",
              "        </tr>\n",
              "        <tr>\n",
              "            <td>News,Short,War</td>\n",
              "            <td>2.7</td>\n",
              "        </tr>\n",
              "        <tr>\n",
              "            <td>Sci-Fi,Thriller,War</td>\n",
              "            <td>3.2</td>\n",
              "        </tr>\n",
              "        <tr>\n",
              "            <td>Fantasy,Sci-Fi,Western</td>\n",
              "            <td>3.4</td>\n",
              "        </tr>\n",
              "        <tr>\n",
              "            <td>Horror,Sci-Fi,Western</td>\n",
              "            <td>3.5</td>\n",
              "        </tr>\n",
              "        <tr>\n",
              "            <td>Adventure,Sci-Fi,Western</td>\n",
              "            <td>3.6</td>\n",
              "        </tr>\n",
              "        <tr>\n",
              "            <td>Action,Music,Thriller</td>\n",
              "            <td>3.7</td>\n",
              "        </tr>\n",
              "        <tr>\n",
              "            <td>Fantasy,Musical,Western</td>\n",
              "            <td>3.7</td>\n",
              "        </tr>\n",
              "    </tbody>\n",
              "</table>"
            ]
          },
          "metadata": {},
          "execution_count": 11
        }
      ]
    },
    {
      "cell_type": "code",
      "execution_count": 12,
      "metadata": {
        "colab": {
          "base_uri": "https://localhost:8080/",
          "height": 182
        },
        "id": "BEcKmdrm04q-",
        "outputId": "ee54fb9f-6aea-4aa3-a834-d3c0fd10f143"
      },
      "outputs": [
        {
          "output_type": "stream",
          "name": "stdout",
          "text": [
            " * sqlite:///movie.db\n",
            "Done.\n"
          ]
        },
        {
          "output_type": "execute_result",
          "data": {
            "text/plain": [
              "[('Drama', 647329),\n",
              " ('Talk-Show', 293744),\n",
              " ('Comedy', 253035),\n",
              " ('News', 219342),\n",
              " ('Documentary', 177488)]"
            ],
            "text/html": [
              "<table>\n",
              "    <thead>\n",
              "        <tr>\n",
              "            <th>genres</th>\n",
              "            <th>count_genres</th>\n",
              "        </tr>\n",
              "    </thead>\n",
              "    <tbody>\n",
              "        <tr>\n",
              "            <td>Drama</td>\n",
              "            <td>647329</td>\n",
              "        </tr>\n",
              "        <tr>\n",
              "            <td>Talk-Show</td>\n",
              "            <td>293744</td>\n",
              "        </tr>\n",
              "        <tr>\n",
              "            <td>Comedy</td>\n",
              "            <td>253035</td>\n",
              "        </tr>\n",
              "        <tr>\n",
              "            <td>News</td>\n",
              "            <td>219342</td>\n",
              "        </tr>\n",
              "        <tr>\n",
              "            <td>Documentary</td>\n",
              "            <td>177488</td>\n",
              "        </tr>\n",
              "    </tbody>\n",
              "</table>"
            ]
          },
          "metadata": {},
          "execution_count": 12
        }
      ],
      "source": [
        "# Which genres saw the biggest increase in the number of releases over the last 5 years?\n",
        "%%sql\n",
        "SELECT genres, COUNT(genres) as count_genres\n",
        "FROM basic\n",
        "WHERE startYear >= DATE('now')-5\n",
        "GROUP BY genres\n",
        "ORDER BY count_genres DESC\n",
        "LIMIT 5;"
      ]
    },
    {
      "cell_type": "markdown",
      "metadata": {
        "id": "cCSCk6-604q-"
      },
      "source": [
        "### 2. Director Productivity Analysis\n",
        "- Who are the directors with the most films in the catalog?\n",
        "- What is the average rating for movies directed by each of the top 10 directors?\n",
        "- Which director worked across the most genres?\n",
        "\n",
        "SQL Skills:\n",
        "- Joins (linking title.crew with title.basics).\n",
        "- Aggregation functions (`COUNT()`, `AVG()`).\n",
        "- Subqueries (to rank directors by number of movies).\n",
        "- Grouping and filtering (`GROUP BY`, `HAVING`)."
      ]
    },
    {
      "cell_type": "code",
      "execution_count": 13,
      "metadata": {
        "id": "KFhQ6akx04q-",
        "outputId": "727ac3eb-b812-4afc-ea4e-25bcdf4f8829",
        "colab": {
          "base_uri": "https://localhost:8080/"
        }
      },
      "outputs": [
        {
          "output_type": "stream",
          "name": "stdout",
          "text": [
            " * sqlite:///movie.db\n",
            "Done.\n",
            "Buffered data was truncated after reaching the output size limit."
          ]
        }
      ],
      "source": [
        "# Who are the directors with the most films in the catalog?\n",
        "%%sql\n",
        "SELECT directors, COUNT(directors) as count_directors\n",
        "FROM crew\n",
        "GROUP BY directors\n",
        "ORDER BY count_directors DESC;"
      ]
    },
    {
      "cell_type": "code",
      "execution_count": 14,
      "metadata": {
        "id": "AQ3hhHah04q_",
        "outputId": "97e92020-b21f-47d0-98ea-6894ecbd36ee",
        "colab": {
          "base_uri": "https://localhost:8080/",
          "height": 289
        }
      },
      "outputs": [
        {
          "metadata": {
            "tags": null
          },
          "name": "stdout",
          "output_type": "stream",
          "text": [
            " * sqlite:///movie.db\n",
            "Done.\n"
          ]
        },
        {
          "data": {
            "text/html": [
              "<table>\n",
              "    <thead>\n",
              "        <tr>\n",
              "            <th>directors</th>\n",
              "            <th>avg_rating</th>\n",
              "        </tr>\n",
              "    </thead>\n",
              "    <tbody>\n",
              "        <tr>\n",
              "            <td>nm9948766</td>\n",
              "            <td>10.0</td>\n",
              "        </tr>\n",
              "        <tr>\n",
              "            <td>nm9937122</td>\n",
              "            <td>10.0</td>\n",
              "        </tr>\n",
              "        <tr>\n",
              "            <td>nm9902552</td>\n",
              "            <td>10.0</td>\n",
              "        </tr>\n",
              "        <tr>\n",
              "            <td>nm9884248,nm2481797,nm4492923</td>\n",
              "            <td>10.0</td>\n",
              "        </tr>\n",
              "        <tr>\n",
              "            <td>nm9845861</td>\n",
              "            <td>10.0</td>\n",
              "        </tr>\n",
              "        <tr>\n",
              "            <td>nm9833982</td>\n",
              "            <td>10.0</td>\n",
              "        </tr>\n",
              "        <tr>\n",
              "            <td>nm9801135</td>\n",
              "            <td>10.0</td>\n",
              "        </tr>\n",
              "        <tr>\n",
              "            <td>nm9659299</td>\n",
              "            <td>10.0</td>\n",
              "        </tr>\n",
              "        <tr>\n",
              "            <td>nm9646534,nm11107253</td>\n",
              "            <td>10.0</td>\n",
              "        </tr>\n",
              "        <tr>\n",
              "            <td>nm9612258</td>\n",
              "            <td>10.0</td>\n",
              "        </tr>\n",
              "    </tbody>\n",
              "</table>"
            ],
            "text/plain": [
              "[('nm9948766', 10.0),\n",
              " ('nm9937122', 10.0),\n",
              " ('nm9902552', 10.0),\n",
              " ('nm9884248,nm2481797,nm4492923', 10.0),\n",
              " ('nm9845861', 10.0),\n",
              " ('nm9833982', 10.0),\n",
              " ('nm9801135', 10.0),\n",
              " ('nm9659299', 10.0),\n",
              " ('nm9646534,nm11107253', 10.0),\n",
              " ('nm9612258', 10.0)]"
            ]
          },
          "execution_count": 14,
          "metadata": {},
          "output_type": "execute_result"
        }
      ],
      "source": [
        "# What is the average rating for movies directed by each of the top 10 directors?\n",
        "%%sql\n",
        "SELECT directors, AVG(averageRating) as avg_rating\n",
        "FROM crew\n",
        "JOIN rating ON crew.tconst = rating.tconst\n",
        "GROUP BY directors\n",
        "ORDER BY avg_rating DESC\n",
        "LIMIT 10;"
      ]
    },
    {
      "cell_type": "code",
      "execution_count": 15,
      "metadata": {
        "id": "NEF1guaH04q_",
        "outputId": "de7baae0-4fd8-41b0-b116-c49a90dfe643",
        "colab": {
          "base_uri": "https://localhost:8080/",
          "height": 289
        }
      },
      "outputs": [
        {
          "output_type": "stream",
          "name": "stdout",
          "text": [
            " * sqlite:///movie.db\n",
            "Done.\n"
          ]
        },
        {
          "output_type": "execute_result",
          "data": {
            "text/plain": [
              "[('\\\\N', 4010899),\n",
              " ('nm1203430', 11446),\n",
              " ('nm1409127', 10353),\n",
              " ('nm13220986', 8024),\n",
              " ('nm5236281,nm5239804', 7434),\n",
              " ('nm0022750', 6836),\n",
              " ('nm5727175', 6143),\n",
              " ('nm0565214', 6104),\n",
              " ('nm2544856', 6052),\n",
              " ('nm5262331', 5775)]"
            ],
            "text/html": [
              "<table>\n",
              "    <thead>\n",
              "        <tr>\n",
              "            <th>directors</th>\n",
              "            <th>gen_count</th>\n",
              "        </tr>\n",
              "    </thead>\n",
              "    <tbody>\n",
              "        <tr>\n",
              "            <td>\\N</td>\n",
              "            <td>4010899</td>\n",
              "        </tr>\n",
              "        <tr>\n",
              "            <td>nm1203430</td>\n",
              "            <td>11446</td>\n",
              "        </tr>\n",
              "        <tr>\n",
              "            <td>nm1409127</td>\n",
              "            <td>10353</td>\n",
              "        </tr>\n",
              "        <tr>\n",
              "            <td>nm13220986</td>\n",
              "            <td>8024</td>\n",
              "        </tr>\n",
              "        <tr>\n",
              "            <td>nm5236281,nm5239804</td>\n",
              "            <td>7434</td>\n",
              "        </tr>\n",
              "        <tr>\n",
              "            <td>nm0022750</td>\n",
              "            <td>6836</td>\n",
              "        </tr>\n",
              "        <tr>\n",
              "            <td>nm5727175</td>\n",
              "            <td>6143</td>\n",
              "        </tr>\n",
              "        <tr>\n",
              "            <td>nm0565214</td>\n",
              "            <td>6104</td>\n",
              "        </tr>\n",
              "        <tr>\n",
              "            <td>nm2544856</td>\n",
              "            <td>6052</td>\n",
              "        </tr>\n",
              "        <tr>\n",
              "            <td>nm5262331</td>\n",
              "            <td>5775</td>\n",
              "        </tr>\n",
              "    </tbody>\n",
              "</table>"
            ]
          },
          "metadata": {},
          "execution_count": 15
        }
      ],
      "source": [
        "# Which director worked across the most genres?\n",
        "%%sql\n",
        "SELECT directors, COUNT(genres) as gen_count\n",
        "FROM crew\n",
        "JOIN basic ON crew.tconst = basic.tconst\n",
        "GROUP BY directors\n",
        "ORDER BY gen_count DESC\n",
        "LIMIT 10;"
      ]
    },
    {
      "cell_type": "markdown",
      "metadata": {
        "id": "wRRwE7qS04q_"
      },
      "source": [
        "### 3. Yearly Production Trends\n",
        "- Which year had the most film releases in total?\n",
        "- What is the trend of movie releases over the last 10 years?\n",
        "- How many movies and TV series were released in the same year?\n",
        "\n",
        "SQL Skills:\n",
        "- Date manipulation (using startYear and endYear).\n",
        "- Aggregation functions (`COUNT()`).\n",
        "- Subqueries (for year-over-year comparisons).\n",
        "- Sorting and filtering (`GROUP BY`)."
      ]
    },
    {
      "cell_type": "code",
      "execution_count": 16,
      "metadata": {
        "id": "8InojBl-04q_",
        "outputId": "40327461-c02c-4dd4-970e-6bf233829121",
        "colab": {
          "base_uri": "https://localhost:8080/",
          "height": 182
        }
      },
      "outputs": [
        {
          "output_type": "stream",
          "name": "stdout",
          "text": [
            " * sqlite:///movie.db\n",
            "Done.\n"
          ]
        },
        {
          "output_type": "execute_result",
          "data": {
            "text/plain": [
              "[('2021', 499905),\n",
              " ('2022', 479505),\n",
              " ('2018', 453382),\n",
              " ('2019', 448853),\n",
              " ('2017', 447240)]"
            ],
            "text/html": [
              "<table>\n",
              "    <thead>\n",
              "        <tr>\n",
              "            <th>startYear</th>\n",
              "            <th>releases</th>\n",
              "        </tr>\n",
              "    </thead>\n",
              "    <tbody>\n",
              "        <tr>\n",
              "            <td>2021</td>\n",
              "            <td>499905</td>\n",
              "        </tr>\n",
              "        <tr>\n",
              "            <td>2022</td>\n",
              "            <td>479505</td>\n",
              "        </tr>\n",
              "        <tr>\n",
              "            <td>2018</td>\n",
              "            <td>453382</td>\n",
              "        </tr>\n",
              "        <tr>\n",
              "            <td>2019</td>\n",
              "            <td>448853</td>\n",
              "        </tr>\n",
              "        <tr>\n",
              "            <td>2017</td>\n",
              "            <td>447240</td>\n",
              "        </tr>\n",
              "    </tbody>\n",
              "</table>"
            ]
          },
          "metadata": {},
          "execution_count": 16
        }
      ],
      "source": [
        "# Which year had the most film releases in total?\n",
        "%%sql\n",
        "SELECT startYear, COUNT(startYear) as releases\n",
        "FROM basic\n",
        "WHERE startYear IS NOT '\\N'\n",
        "GROUP BY startYear\n",
        "ORDER BY releases DESC\n",
        "LIMIT 5;"
      ]
    },
    {
      "cell_type": "code",
      "execution_count": 32,
      "metadata": {
        "id": "sC7zioH604q_",
        "outputId": "4ad8d839-d316-4758-9c0f-2cd1e662c382",
        "colab": {
          "base_uri": "https://localhost:8080/",
          "height": 310
        }
      },
      "outputs": [
        {
          "output_type": "stream",
          "name": "stdout",
          "text": [
            " * sqlite:///movie.db\n",
            "Done.\n"
          ]
        },
        {
          "output_type": "execute_result",
          "data": {
            "text/plain": [
              "[('2024', 326613, 'Drama'),\n",
              " ('2023', 440555, 'Short'),\n",
              " ('2022', 479505, 'Comedy,Drama,Music'),\n",
              " ('2021', 499905, 'Short'),\n",
              " ('2020', 430596, 'Documentary,Short'),\n",
              " ('2019', 448853, 'Action,Crime'),\n",
              " ('2018', 453382, 'Drama'),\n",
              " ('2017', 447240, 'Comedy,Drama,Fantasy'),\n",
              " ('2016', 423535, 'Short'),\n",
              " ('2015', 399092, 'Comedy,Drama'),\n",
              " ('2014', 378571, 'Documentary,Music,Short')]"
            ],
            "text/html": [
              "<table>\n",
              "    <thead>\n",
              "        <tr>\n",
              "            <th>startYear</th>\n",
              "            <th>releases</th>\n",
              "            <th>genres</th>\n",
              "        </tr>\n",
              "    </thead>\n",
              "    <tbody>\n",
              "        <tr>\n",
              "            <td>2024</td>\n",
              "            <td>326613</td>\n",
              "            <td>Drama</td>\n",
              "        </tr>\n",
              "        <tr>\n",
              "            <td>2023</td>\n",
              "            <td>440555</td>\n",
              "            <td>Short</td>\n",
              "        </tr>\n",
              "        <tr>\n",
              "            <td>2022</td>\n",
              "            <td>479505</td>\n",
              "            <td>Comedy,Drama,Music</td>\n",
              "        </tr>\n",
              "        <tr>\n",
              "            <td>2021</td>\n",
              "            <td>499905</td>\n",
              "            <td>Short</td>\n",
              "        </tr>\n",
              "        <tr>\n",
              "            <td>2020</td>\n",
              "            <td>430596</td>\n",
              "            <td>Documentary,Short</td>\n",
              "        </tr>\n",
              "        <tr>\n",
              "            <td>2019</td>\n",
              "            <td>448853</td>\n",
              "            <td>Action,Crime</td>\n",
              "        </tr>\n",
              "        <tr>\n",
              "            <td>2018</td>\n",
              "            <td>453382</td>\n",
              "            <td>Drama</td>\n",
              "        </tr>\n",
              "        <tr>\n",
              "            <td>2017</td>\n",
              "            <td>447240</td>\n",
              "            <td>Comedy,Drama,Fantasy</td>\n",
              "        </tr>\n",
              "        <tr>\n",
              "            <td>2016</td>\n",
              "            <td>423535</td>\n",
              "            <td>Short</td>\n",
              "        </tr>\n",
              "        <tr>\n",
              "            <td>2015</td>\n",
              "            <td>399092</td>\n",
              "            <td>Comedy,Drama</td>\n",
              "        </tr>\n",
              "        <tr>\n",
              "            <td>2014</td>\n",
              "            <td>378571</td>\n",
              "            <td>Documentary,Music,Short</td>\n",
              "        </tr>\n",
              "    </tbody>\n",
              "</table>"
            ]
          },
          "metadata": {},
          "execution_count": 32
        }
      ],
      "source": [
        "# What is the trend of movie releases over the last 10 years?\n",
        "%%sql\n",
        "SELECT startYear, COUNT(genres) AS releases, genres\n",
        "FROM  basic\n",
        "WHERE startYear IS NOT '\\N' AND startYear BETWEEN DATE('now') - 10 AND DATE('now')\n",
        "GROUP BY startYear\n",
        "ORDER BY startYear DESC;"
      ]
    },
    {
      "cell_type": "code",
      "execution_count": 46,
      "metadata": {
        "id": "IQwOJFgY04q_",
        "outputId": "be2aebfc-2829-417a-8d96-3fb146e38878",
        "colab": {
          "base_uri": "https://localhost:8080/",
          "height": 289
        }
      },
      "outputs": [
        {
          "output_type": "stream",
          "name": "stdout",
          "text": [
            " * sqlite:///movie.db\n",
            "Done.\n"
          ]
        },
        {
          "output_type": "execute_result",
          "data": {
            "text/plain": [
              "[('2024', 17512, 6605),\n",
              " ('2023', 20106, 9011),\n",
              " ('2022', 20558, 10384),\n",
              " ('2021', 18886, 11911),\n",
              " ('2020', 16491, 12476),\n",
              " ('2019', 19210, 11352),\n",
              " ('2018', 19260, 11527),\n",
              " ('2017', 19025, 11549),\n",
              " ('2016', 18562, 11294),\n",
              " ('2015', 17372, 11072)]"
            ],
            "text/html": [
              "<table>\n",
              "    <thead>\n",
              "        <tr>\n",
              "            <th>startYear</th>\n",
              "            <th>movie_count</th>\n",
              "            <th>show_count</th>\n",
              "        </tr>\n",
              "    </thead>\n",
              "    <tbody>\n",
              "        <tr>\n",
              "            <td>2024</td>\n",
              "            <td>17512</td>\n",
              "            <td>6605</td>\n",
              "        </tr>\n",
              "        <tr>\n",
              "            <td>2023</td>\n",
              "            <td>20106</td>\n",
              "            <td>9011</td>\n",
              "        </tr>\n",
              "        <tr>\n",
              "            <td>2022</td>\n",
              "            <td>20558</td>\n",
              "            <td>10384</td>\n",
              "        </tr>\n",
              "        <tr>\n",
              "            <td>2021</td>\n",
              "            <td>18886</td>\n",
              "            <td>11911</td>\n",
              "        </tr>\n",
              "        <tr>\n",
              "            <td>2020</td>\n",
              "            <td>16491</td>\n",
              "            <td>12476</td>\n",
              "        </tr>\n",
              "        <tr>\n",
              "            <td>2019</td>\n",
              "            <td>19210</td>\n",
              "            <td>11352</td>\n",
              "        </tr>\n",
              "        <tr>\n",
              "            <td>2018</td>\n",
              "            <td>19260</td>\n",
              "            <td>11527</td>\n",
              "        </tr>\n",
              "        <tr>\n",
              "            <td>2017</td>\n",
              "            <td>19025</td>\n",
              "            <td>11549</td>\n",
              "        </tr>\n",
              "        <tr>\n",
              "            <td>2016</td>\n",
              "            <td>18562</td>\n",
              "            <td>11294</td>\n",
              "        </tr>\n",
              "        <tr>\n",
              "            <td>2015</td>\n",
              "            <td>17372</td>\n",
              "            <td>11072</td>\n",
              "        </tr>\n",
              "    </tbody>\n",
              "</table>"
            ]
          },
          "metadata": {},
          "execution_count": 46
        }
      ],
      "source": [
        "# How many movies and TV series were released in the same year?\n",
        "%%sql\n",
        "SELECT\n",
        "  startYear,\n",
        "  SUM( CASE WHEN titleType LIKE 'movie' THEN 1 END) AS movie_count,\n",
        "  SUM( CASE WHEN titleType LIKE 'tvseries' THEN 1 END) AS show_count\n",
        "FROM basic\n",
        "WHERE startYear IS NOT '\\N' AND startYear BETWEEN DATE('now') - 10 AND DATE('now')\n",
        "GROUP BY startYear\n",
        "ORDER BY startYear DESC\n",
        "LIMIT 10;"
      ]
    },
    {
      "cell_type": "markdown",
      "metadata": {
        "id": "gYF6-72R04q_"
      },
      "source": [
        "### 4. Movie Rating Trends\n",
        "- What are the top 5 highest-rated movies?\n",
        "- Which genre has the highest average movie rating?\n",
        "- Is there a correlation between movie runtime and average rating?\n",
        "\n",
        "SQL Skills:\n",
        "- Joins (linking title.basics and title.ratings).\n",
        "- Aggregation functions (`AVG()`, `MAX()`).\n",
        "- Subqueries (for filtering by ratings).\n",
        "- Sorting (`ORDER BY`)."
      ]
    },
    {
      "cell_type": "code",
      "execution_count": 50,
      "metadata": {
        "id": "r7xjKdYc04q_",
        "outputId": "97edda07-fd2b-49a0-efe0-ce477f4e4d9f",
        "colab": {
          "base_uri": "https://localhost:8080/",
          "height": 182
        }
      },
      "outputs": [
        {
          "output_type": "stream",
          "name": "stdout",
          "text": [
            " * sqlite:///movie.db\n",
            "Done.\n"
          ]
        },
        {
          "output_type": "execute_result",
          "data": {
            "text/plain": [
              "[('All I Know Is', 10.0, '1992', 'Drama'),\n",
              " ('Em Busca da Ilha Desconhecida', 10.0, '2001', 'Documentary'),\n",
              " ('Kaputol', 10.0, '2019', 'Drama'),\n",
              " ('Rainy in Glenageary', 10.0, '2019', 'Drama'),\n",
              " ('Love Live! Series 9th Anniversary LOVE LIVE! FEST', 10.0, '2020', 'Music')]"
            ],
            "text/html": [
              "<table>\n",
              "    <thead>\n",
              "        <tr>\n",
              "            <th>primaryTitle</th>\n",
              "            <th>averageRating</th>\n",
              "            <th>startYear</th>\n",
              "            <th>genres</th>\n",
              "        </tr>\n",
              "    </thead>\n",
              "    <tbody>\n",
              "        <tr>\n",
              "            <td>All I Know Is</td>\n",
              "            <td>10.0</td>\n",
              "            <td>1992</td>\n",
              "            <td>Drama</td>\n",
              "        </tr>\n",
              "        <tr>\n",
              "            <td>Em Busca da Ilha Desconhecida</td>\n",
              "            <td>10.0</td>\n",
              "            <td>2001</td>\n",
              "            <td>Documentary</td>\n",
              "        </tr>\n",
              "        <tr>\n",
              "            <td>Kaputol</td>\n",
              "            <td>10.0</td>\n",
              "            <td>2019</td>\n",
              "            <td>Drama</td>\n",
              "        </tr>\n",
              "        <tr>\n",
              "            <td>Rainy in Glenageary</td>\n",
              "            <td>10.0</td>\n",
              "            <td>2019</td>\n",
              "            <td>Drama</td>\n",
              "        </tr>\n",
              "        <tr>\n",
              "            <td>Love Live! Series 9th Anniversary LOVE LIVE! FEST</td>\n",
              "            <td>10.0</td>\n",
              "            <td>2020</td>\n",
              "            <td>Music</td>\n",
              "        </tr>\n",
              "    </tbody>\n",
              "</table>"
            ]
          },
          "metadata": {},
          "execution_count": 50
        }
      ],
      "source": [
        "# What are the top 5 highest-rated movies?\n",
        "%%sql\n",
        "SELECT primaryTitle, averageRating, startYear, genres\n",
        "FROM basic\n",
        "JOIN rating ON basic.tconst = rating.tconst\n",
        "WHERE basic.titleType LIKE 'movie'\n",
        "ORDER BY averageRating DESC\n",
        "LIMIT 5;"
      ]
    },
    {
      "cell_type": "code",
      "execution_count": 63,
      "metadata": {
        "id": "2voW9y2104q_",
        "outputId": "71ad6183-de4c-4516-c88d-d1d41f4fec0c",
        "colab": {
          "base_uri": "https://localhost:8080/",
          "height": 139
        }
      },
      "outputs": [
        {
          "output_type": "stream",
          "name": "stdout",
          "text": [
            " * sqlite:///movie.db\n",
            "Done.\n"
          ]
        },
        {
          "output_type": "execute_result",
          "data": {
            "text/plain": [
              "[('Thriller', 10.0), ('Reality-TV', 10.0), ('Mystery,Thriller', 10.0)]"
            ],
            "text/html": [
              "<table>\n",
              "    <thead>\n",
              "        <tr>\n",
              "            <th>genres</th>\n",
              "            <th>max_rating</th>\n",
              "        </tr>\n",
              "    </thead>\n",
              "    <tbody>\n",
              "        <tr>\n",
              "            <td>Thriller</td>\n",
              "            <td>10.0</td>\n",
              "        </tr>\n",
              "        <tr>\n",
              "            <td>Reality-TV</td>\n",
              "            <td>10.0</td>\n",
              "        </tr>\n",
              "        <tr>\n",
              "            <td>Mystery,Thriller</td>\n",
              "            <td>10.0</td>\n",
              "        </tr>\n",
              "    </tbody>\n",
              "</table>"
            ]
          },
          "metadata": {},
          "execution_count": 63
        }
      ],
      "source": [
        "# Which genre has the highest average movie rating?\n",
        "%%sql\n",
        "SELECT genres, MAX(averageRating) AS max_rating\n",
        "FROM basic\n",
        "JOIN rating ON basic.tconst = rating.tconst\n",
        "WHERE basic.titleType LIKE 'movie' AND genres IS NOT '\\N'\n",
        "GROUP BY genres\n",
        "ORDER BY max_rating DESC\n",
        "LIMIT 3;"
      ]
    },
    {
      "cell_type": "code",
      "execution_count": 89,
      "metadata": {
        "id": "JGUF6fLs04q_",
        "outputId": "9ac0e1c7-2889-4286-c4a8-34d97fc26269",
        "colab": {
          "base_uri": "https://localhost:8080/",
          "height": 182
        }
      },
      "outputs": [
        {
          "output_type": "stream",
          "name": "stdout",
          "text": [
            " * sqlite:///movie.db\n",
            "Done.\n"
          ]
        },
        {
          "output_type": "execute_result",
          "data": {
            "text/plain": [
              "[(10.0, '8', 'Music'),\n",
              " (9.45, '2', 'Music'),\n",
              " (9.4, '379', 'Documentary'),\n",
              " (9.1, '607', 'Documentary'),\n",
              " (9.0, '286', 'Documentary')]"
            ],
            "text/html": [
              "<table>\n",
              "    <thead>\n",
              "        <tr>\n",
              "            <th>avg_rating</th>\n",
              "            <th>runtimeMinutes</th>\n",
              "            <th>genres</th>\n",
              "        </tr>\n",
              "    </thead>\n",
              "    <tbody>\n",
              "        <tr>\n",
              "            <td>10.0</td>\n",
              "            <td>8</td>\n",
              "            <td>Music</td>\n",
              "        </tr>\n",
              "        <tr>\n",
              "            <td>9.45</td>\n",
              "            <td>2</td>\n",
              "            <td>Music</td>\n",
              "        </tr>\n",
              "        <tr>\n",
              "            <td>9.4</td>\n",
              "            <td>379</td>\n",
              "            <td>Documentary</td>\n",
              "        </tr>\n",
              "        <tr>\n",
              "            <td>9.1</td>\n",
              "            <td>607</td>\n",
              "            <td>Documentary</td>\n",
              "        </tr>\n",
              "        <tr>\n",
              "            <td>9.0</td>\n",
              "            <td>286</td>\n",
              "            <td>Documentary</td>\n",
              "        </tr>\n",
              "    </tbody>\n",
              "</table>"
            ]
          },
          "metadata": {},
          "execution_count": 89
        }
      ],
      "source": [
        "# Is there a correlation between movie runtime and average rating?\n",
        "%%sql\n",
        "SELECT AVG(averageRating) AS avg_rating, runtimeMinutes, genres\n",
        "FROM basic\n",
        "JOIN rating ON basic.tconst = rating.tconst\n",
        "WHERE basic.titleType LIKE 'movie' and runtimeMinutes IS NOT '\\N'\n",
        "GROUP BY runtimeMinutes\n",
        "ORDER BY avg_rating DESC\n",
        "LIMIT 5;"
      ]
    },
    {
      "cell_type": "markdown",
      "metadata": {
        "id": "cVwR-I0C04rA"
      },
      "source": [
        "### 5. TV Series and Movie Comparison\n",
        "- What is the average rating of TV series compared to movies?\n",
        "- Which TV series has the longest runtime and how does it compare to movies of similar genres?\n",
        "- What percentage of releases in the last 5 years were TV series?\n",
        "\n",
        "SQL Skills:\n",
        "- Joins (linking title.basics, title.episode).\n",
        "- Aggregation functions (`AVG()`, `COUNT()`).\n",
        "- Date manipulation (using startYear and endYear).\n",
        "- Sorting (`ORDER BY`) and filtering (`HAVING`)."
      ]
    },
    {
      "cell_type": "code",
      "execution_count": 100,
      "metadata": {
        "id": "_5X5LbLX04rA",
        "outputId": "2c7843ad-0d11-47e7-9d6a-82b224bfdbd2",
        "colab": {
          "base_uri": "https://localhost:8080/",
          "height": 118
        }
      },
      "outputs": [
        {
          "output_type": "stream",
          "name": "stdout",
          "text": [
            " * sqlite:///movie.db\n",
            "Done.\n"
          ]
        },
        {
          "output_type": "execute_result",
          "data": {
            "text/plain": [
              "[('movie', 6.17), ('tvSeries', 6.85)]"
            ],
            "text/html": [
              "<table>\n",
              "    <thead>\n",
              "        <tr>\n",
              "            <th>titleType</th>\n",
              "            <th>avg_rating</th>\n",
              "        </tr>\n",
              "    </thead>\n",
              "    <tbody>\n",
              "        <tr>\n",
              "            <td>movie</td>\n",
              "            <td>6.17</td>\n",
              "        </tr>\n",
              "        <tr>\n",
              "            <td>tvSeries</td>\n",
              "            <td>6.85</td>\n",
              "        </tr>\n",
              "    </tbody>\n",
              "</table>"
            ]
          },
          "metadata": {},
          "execution_count": 100
        }
      ],
      "source": [
        "# What is the average rating of TV series compared to movies?\n",
        "%%sql\n",
        "SELECT titleType,  ROUND(AVG(averageRating), 2) AS avg_rating\n",
        "from rating\n",
        "JOIN basic ON rating.tconst = basic.tconst\n",
        "WHERE titleType IN ('movie', 'tvSeries')\n",
        "GROUP BY titleType;"
      ]
    },
    {
      "cell_type": "code",
      "execution_count": 102,
      "metadata": {
        "id": "Al609ob904rA",
        "outputId": "ede334d8-bf2f-4ee3-8c1f-d24911699a98",
        "colab": {
          "base_uri": "https://localhost:8080/",
          "height": 96
        }
      },
      "outputs": [
        {
          "output_type": "stream",
          "name": "stdout",
          "text": [
            " * sqlite:///movie.db\n",
            "Done.\n"
          ]
        },
        {
          "output_type": "execute_result",
          "data": {
            "text/plain": [
              "[('The Girl and the Game', '\\\\N', 'movie', 'Action')]"
            ],
            "text/html": [
              "<table>\n",
              "    <thead>\n",
              "        <tr>\n",
              "            <th>primaryTitle</th>\n",
              "            <th>MAX(runtimeMinutes)</th>\n",
              "            <th>titleType</th>\n",
              "            <th>genres</th>\n",
              "        </tr>\n",
              "    </thead>\n",
              "    <tbody>\n",
              "        <tr>\n",
              "            <td>The Girl and the Game</td>\n",
              "            <td>\\N</td>\n",
              "            <td>movie</td>\n",
              "            <td>Action</td>\n",
              "        </tr>\n",
              "    </tbody>\n",
              "</table>"
            ]
          },
          "metadata": {},
          "execution_count": 102
        }
      ],
      "source": [
        "# Which TV series has the longest runtime and how does it compare to movies of similar genres?\n",
        "%%sql\n",
        "WITH longest_tvshow AS (\n",
        "  SELECT genres, runtimeMinute as tv_runtime, primaryTitle as series_name\n",
        "  FROM basic\n",
        "  WHERE primaryTitle LIKE 'tvSeries' AND runtimeMinute IS NOT '\\N'\n",
        "  ORDER BY runtimeMinute DESC\n",
        "  LIMIT 1\n",
        ")\n",
        "SELECT genres,  primaryTitle as movie_name, runtimeMinute as movie_runtime\n",
        "FROM basic\n",
        "JOIN longest_tvshow ON basic.genres = longest_tvshow.genres\n",
        "WHERE primaryTitle LIKE 'movie' AND runtimeMinute IS NOT '\\N'\n",
        "ORDER BY longest_tvshow.tv_runtime DESC;"
      ]
    },
    {
      "cell_type": "code",
      "execution_count": 19,
      "metadata": {
        "id": "VHr_WISZ04rA"
      },
      "outputs": [],
      "source": [
        "# What percentage of releases in the last 5 years were TV series?\n",
        "%%sql\n",
        "SELECT startYear, SUM(CASE WHEN primaryTitle LIKE 'tvSeries' THEN 1 END)/(COUNT(primaryTitle)) as tv_percentage\n",
        "FROM basic\n",
        "WHERE startYear BETWEEN DATE('now') - 5 AND DATE('now')\n",
        "GROUP BY startYear\n",
        "ORDER BY startYear DESC"
      ]
    }
  ],
  "metadata": {
    "kernelspec": {
      "display_name": ".venv",
      "language": "python",
      "name": "python3"
    },
    "language_info": {
      "codemirror_mode": {
        "name": "ipython",
        "version": 3
      },
      "file_extension": ".py",
      "mimetype": "text/x-python",
      "name": "python",
      "nbconvert_exporter": "python",
      "pygments_lexer": "ipython3",
      "version": "3.11.9"
    },
    "colab": {
      "provenance": []
    }
  },
  "nbformat": 4,
  "nbformat_minor": 0
}
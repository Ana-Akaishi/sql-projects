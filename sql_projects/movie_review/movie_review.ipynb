{
  "cells": [
    {
      "cell_type": "markdown",
      "metadata": {
        "id": "Lzw0KqyF04q6"
      },
      "source": [
        "# Movie Review (MR)\n",
        "Set notebook to read SQL commands."
      ]
    },
    {
      "cell_type": "code",
      "execution_count": 1,
      "metadata": {
        "id": "yIWa2-6k04q7"
      },
      "outputs": [],
      "source": [
        "import pandas as pd\n",
        "import sqlite3\n"
      ]
    },
    {
      "cell_type": "code",
      "execution_count": 2,
      "metadata": {
        "id": "PjxlSagF04q8"
      },
      "outputs": [],
      "source": [
        "# Import movie databases\n",
        "df1 = pd.read_csv('name.basics.tsv.gz', sep='\\t')\n",
        "df2 = pd.read_csv('title.crew.tsv.gz', sep='\\t')\n",
        "df3 = pd.read_csv('title.ratings.tsv.gz', sep='\\t')\n",
        "# df4 = pd.read_csv('title.principals.tsv.gz', sep='\\t')"
      ]
    },
    {
      "cell_type": "code",
      "source": [
        "df3 = pd.read_csv('title.principals.tsv.gz', sep='\\t')\n",
        "df4 = pd.read_csv('title.ratings.tsv.gz', sep='\\t')"
      ],
      "metadata": {
        "id": "Q1hJy7oC60dG"
      },
      "execution_count": null,
      "outputs": []
    },
    {
      "cell_type": "code",
      "execution_count": null,
      "metadata": {
        "id": "9d8_qFdY04q9",
        "outputId": "0ce9bc9e-c6e1-44f4-87cc-debe0bca1eb4"
      },
      "outputs": [
        {
          "ename": "NameError",
          "evalue": "name 'df2' is not defined",
          "output_type": "error",
          "traceback": [
            "\u001b[1;31m---------------------------------------------------------------------------\u001b[0m",
            "\u001b[1;31mNameError\u001b[0m                                 Traceback (most recent call last)",
            "Cell \u001b[1;32mIn[6], line 6\u001b[0m\n\u001b[0;32m      4\u001b[0m \u001b[38;5;66;03m# Transform csv in db\u001b[39;00m\n\u001b[0;32m      5\u001b[0m df1\u001b[38;5;241m.\u001b[39mto_sql(\u001b[38;5;124m'\u001b[39m\u001b[38;5;124mbasic\u001b[39m\u001b[38;5;124m'\u001b[39m, conn, index \u001b[38;5;241m=\u001b[39m \u001b[38;5;28;01mFalse\u001b[39;00m, if_exists \u001b[38;5;241m=\u001b[39m \u001b[38;5;124m'\u001b[39m\u001b[38;5;124mreplace\u001b[39m\u001b[38;5;124m'\u001b[39m)\n\u001b[1;32m----> 6\u001b[0m \u001b[43mdf2\u001b[49m\u001b[38;5;241m.\u001b[39mto_sql(\u001b[38;5;124m'\u001b[39m\u001b[38;5;124mcrew\u001b[39m\u001b[38;5;124m'\u001b[39m, conn, index \u001b[38;5;241m=\u001b[39m \u001b[38;5;28;01mFalse\u001b[39;00m, if_exists \u001b[38;5;241m=\u001b[39m \u001b[38;5;124m'\u001b[39m\u001b[38;5;124mreplace\u001b[39m\u001b[38;5;124m'\u001b[39m)\n\u001b[0;32m      7\u001b[0m df3\u001b[38;5;241m.\u001b[39mto_sql(\u001b[38;5;124m'\u001b[39m\u001b[38;5;124mprincipals\u001b[39m\u001b[38;5;124m'\u001b[39m, conn, index \u001b[38;5;241m=\u001b[39m \u001b[38;5;28;01mFalse\u001b[39;00m, if_exists \u001b[38;5;241m=\u001b[39m \u001b[38;5;124m'\u001b[39m\u001b[38;5;124mreplace\u001b[39m\u001b[38;5;124m'\u001b[39m)\n\u001b[0;32m      8\u001b[0m df4\u001b[38;5;241m.\u001b[39mto_sql(\u001b[38;5;124m'\u001b[39m\u001b[38;5;124mepisodes\u001b[39m\u001b[38;5;124m'\u001b[39m, conn, index \u001b[38;5;241m=\u001b[39m \u001b[38;5;28;01mFalse\u001b[39;00m, if_exists \u001b[38;5;241m=\u001b[39m \u001b[38;5;124m'\u001b[39m\u001b[38;5;124mreplace\u001b[39m\u001b[38;5;124m'\u001b[39m)\n",
            "\u001b[1;31mNameError\u001b[0m: name 'df2' is not defined"
          ]
        }
      ],
      "source": [
        "# Connect to sql\n",
        "conn = sqlite3.connect('movie.db')\n",
        "\n",
        "# Transform csv in db\n",
        "df1.to_sql('basic', conn, index = False, if_exists = 'replace')\n",
        "df2.to_sql('crew', conn, index = False, if_exists = 'replace')\n",
        "df3.to_sql('rating', conn, index = False, if_exists = 'replace')\n",
        "\n",
        "# Load sql\n",
        "%load_ext sqlite3\n",
        "\n",
        "# Connect to sql server\n",
        "%sql sqlite:///movie.db"
      ]
    },
    {
      "cell_type": "code",
      "execution_count": null,
      "metadata": {
        "id": "Kn0sopFr04q9"
      },
      "outputs": [],
      "source": []
    },
    {
      "cell_type": "code",
      "execution_count": null,
      "metadata": {
        "id": "nVlI6Eb004q9"
      },
      "outputs": [],
      "source": []
    },
    {
      "cell_type": "markdown",
      "metadata": {
        "id": "maV-ZZZy04q9"
      },
      "source": [
        "## Business Questions"
      ]
    },
    {
      "cell_type": "markdown",
      "metadata": {
        "id": "A8_OMY9x04q-"
      },
      "source": [
        "### 1. Genre Popularity Analysis\n",
        "- What are the top 5 most popular genres based on the number of films released?\n",
        "- How does the average movie rating vary by genre?\n",
        "- Which genres saw the biggest increase in the number of releases over the last 5 years?\n",
        "\n",
        "SQL Skills:\n",
        "- Joins (linking title.basics with genre-related tables).\n",
        "- Aggregation functions (`COUNT()`, `AVG()`).\n",
        "- Subqueries (for filtering by recent years).\n",
        "- Sorting (`ORDER BY`)."
      ]
    },
    {
      "cell_type": "code",
      "execution_count": null,
      "metadata": {
        "id": "WHX1e0VD04q-"
      },
      "outputs": [],
      "source": []
    },
    {
      "cell_type": "code",
      "execution_count": null,
      "metadata": {
        "id": "l5d8g_an04q-"
      },
      "outputs": [],
      "source": []
    },
    {
      "cell_type": "code",
      "execution_count": null,
      "metadata": {
        "id": "BEcKmdrm04q-"
      },
      "outputs": [],
      "source": []
    },
    {
      "cell_type": "markdown",
      "metadata": {
        "id": "cCSCk6-604q-"
      },
      "source": [
        "### 2. Director Productivity Analysis\n",
        "- Who are the directors with the most films in the catalog?\n",
        "- What is the average rating for movies directed by each of the top 10 directors?\n",
        "- Which director worked across the most genres?\n",
        "\n",
        "SQL Skills:\n",
        "- Joins (linking title.crew with title.basics).\n",
        "- Aggregation functions (`COUNT()`, `AVG()`).\n",
        "- Subqueries (to rank directors by number of movies).\n",
        "- Grouping and filtering (`GROUP BY`, `HAVING`)."
      ]
    },
    {
      "cell_type": "code",
      "execution_count": null,
      "metadata": {
        "id": "KFhQ6akx04q-"
      },
      "outputs": [],
      "source": []
    },
    {
      "cell_type": "code",
      "execution_count": null,
      "metadata": {
        "id": "AQ3hhHah04q_"
      },
      "outputs": [],
      "source": []
    },
    {
      "cell_type": "code",
      "execution_count": null,
      "metadata": {
        "id": "NEF1guaH04q_"
      },
      "outputs": [],
      "source": []
    },
    {
      "cell_type": "markdown",
      "metadata": {
        "id": "wRRwE7qS04q_"
      },
      "source": [
        "### 3. Yearly Production Trends\n",
        "- Which year had the most film releases in total?\n",
        "- What is the trend of movie releases over the last 10 years?\n",
        "- How many movies and TV series were released in the same year?\n",
        "\n",
        "SQL Skills:\n",
        "- Date manipulation (using startYear and endYear).\n",
        "- Aggregation functions (`COUNT()`).\n",
        "- Subqueries (for year-over-year comparisons).\n",
        "- Sorting and filtering (`GROUP BY`, `HAVING`)."
      ]
    },
    {
      "cell_type": "code",
      "execution_count": null,
      "metadata": {
        "id": "8InojBl-04q_"
      },
      "outputs": [],
      "source": []
    },
    {
      "cell_type": "code",
      "execution_count": null,
      "metadata": {
        "id": "sC7zioH604q_"
      },
      "outputs": [],
      "source": []
    },
    {
      "cell_type": "code",
      "execution_count": null,
      "metadata": {
        "id": "IQwOJFgY04q_"
      },
      "outputs": [],
      "source": []
    },
    {
      "cell_type": "markdown",
      "metadata": {
        "id": "gYF6-72R04q_"
      },
      "source": [
        "### 4. Movie Rating Trends\n",
        "- What are the top 5 highest-rated movies?\n",
        "- Which genre has the highest average movie rating?\n",
        "- Is there a correlation between movie runtime and average rating?\n",
        "\n",
        "SQL Skills:\n",
        "- Joins (linking title.basics and title.ratings).\n",
        "- Aggregation functions (`AVG()`, `MAX()`).\n",
        "- Subqueries (for filtering by ratings).\n",
        "- Sorting (`ORDER BY`)."
      ]
    },
    {
      "cell_type": "code",
      "execution_count": null,
      "metadata": {
        "id": "r7xjKdYc04q_"
      },
      "outputs": [],
      "source": []
    },
    {
      "cell_type": "code",
      "execution_count": null,
      "metadata": {
        "id": "2voW9y2104q_"
      },
      "outputs": [],
      "source": []
    },
    {
      "cell_type": "code",
      "execution_count": null,
      "metadata": {
        "id": "JGUF6fLs04q_"
      },
      "outputs": [],
      "source": []
    },
    {
      "cell_type": "markdown",
      "metadata": {
        "id": "a2IVGsJq04q_"
      },
      "source": [
        "### 5. Actor and Role Analysis\n",
        "- Who are the most frequent actors in the top-rated movies?\n",
        "- What is the average rating of movies featuring actors with more than 10 appearances?\n",
        "- Which actors appear across multiple genres?\n",
        "\n",
        "SQL Skills:\n",
        "- Joins (linking title.principals and title.ratings).\n",
        "- Aggregation functions (`COUNT()`, `AVG()`).\n",
        "- Subqueries (to rank actors by frequency).\n",
        "- Grouping (`GROUP BY`) and filtering (`HAVING`)."
      ]
    },
    {
      "cell_type": "code",
      "execution_count": null,
      "metadata": {
        "id": "ESkqmPZo04q_"
      },
      "outputs": [],
      "source": []
    },
    {
      "cell_type": "code",
      "execution_count": null,
      "metadata": {
        "id": "36DDAae404q_"
      },
      "outputs": [],
      "source": []
    },
    {
      "cell_type": "code",
      "execution_count": null,
      "metadata": {
        "id": "htBCXTAl04rA"
      },
      "outputs": [],
      "source": []
    },
    {
      "cell_type": "markdown",
      "metadata": {
        "id": "cVwR-I0C04rA"
      },
      "source": [
        "### 6. TV Series and Movie Comparison\n",
        "- What is the average rating of TV series compared to movies?\n",
        "- Which TV series has the longest runtime and how does it compare to movies of similar genres?\n",
        "- What percentage of releases in the last 5 years were TV series?\n",
        "\n",
        "SQL Skills:\n",
        "- Joins (linking title.basics, title.episode).\n",
        "- Aggregation functions (`AVG()`, `COUNT()`).\n",
        "- Date manipulation (using startYear and endYear).\n",
        "- Sorting (`ORDER BY`) and filtering (`HAVING`)."
      ]
    },
    {
      "cell_type": "code",
      "execution_count": null,
      "metadata": {
        "id": "_5X5LbLX04rA"
      },
      "outputs": [],
      "source": []
    },
    {
      "cell_type": "code",
      "execution_count": null,
      "metadata": {
        "id": "Al609ob904rA"
      },
      "outputs": [],
      "source": []
    },
    {
      "cell_type": "code",
      "execution_count": null,
      "metadata": {
        "id": "VHr_WISZ04rA"
      },
      "outputs": [],
      "source": []
    }
  ],
  "metadata": {
    "kernelspec": {
      "display_name": ".venv",
      "language": "python",
      "name": "python3"
    },
    "language_info": {
      "codemirror_mode": {
        "name": "ipython",
        "version": 3
      },
      "file_extension": ".py",
      "mimetype": "text/x-python",
      "name": "python",
      "nbconvert_exporter": "python",
      "pygments_lexer": "ipython3",
      "version": "3.11.9"
    },
    "colab": {
      "provenance": []
    }
  },
  "nbformat": 4,
  "nbformat_minor": 0
}
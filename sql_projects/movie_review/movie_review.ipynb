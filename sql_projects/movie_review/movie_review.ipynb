{
  "cells": [
    {
      "cell_type": "markdown",
      "metadata": {
        "id": "Lzw0KqyF04q6"
      },
      "source": [
        "# Movie Review (MR)\n",
        "Set notebook to read SQL commands."
      ]
    },
    {
      "cell_type": "code",
      "execution_count": 1,
      "metadata": {
        "id": "yIWa2-6k04q7"
      },
      "outputs": [],
      "source": [
        "# Import basic libraries\n",
        "import pandas as pd\n",
        "import sqlite3"
      ]
    },
    {
      "cell_type": "code",
      "source": [
        "!pip install prettytable==2.5.0"
      ],
      "metadata": {
        "id": "i0xKj95-WtYs",
        "outputId": "9a529f0b-4e88-42cf-d0ad-a4306807b987",
        "colab": {
          "base_uri": "https://localhost:8080/"
        }
      },
      "execution_count": 2,
      "outputs": [
        {
          "output_type": "stream",
          "name": "stdout",
          "text": [
            "Requirement already satisfied: prettytable==2.5.0 in /usr/local/lib/python3.10/dist-packages (2.5.0)\n",
            "Requirement already satisfied: wcwidth in /usr/local/lib/python3.10/dist-packages (from prettytable==2.5.0) (0.2.13)\n"
          ]
        }
      ]
    },
    {
      "cell_type": "code",
      "execution_count": 3,
      "metadata": {
        "colab": {
          "base_uri": "https://localhost:8080/"
        },
        "id": "PjxlSagF04q8",
        "outputId": "562bf60e-0669-4170-a741-3e56d0a52c2b"
      },
      "outputs": [
        {
          "output_type": "stream",
          "name": "stderr",
          "text": [
            "<ipython-input-3-b72dd7853022>:2: DtypeWarning: Columns (4) have mixed types. Specify dtype option on import or set low_memory=False.\n",
            "  df1 = pd.read_csv('title.basics.tsv.gz', sep='\\t')\n"
          ]
        }
      ],
      "source": [
        "# Import movie databases\n",
        "df1 = pd.read_csv('title.basics.tsv.gz', sep='\\t')\n",
        "df2 = pd.read_csv('title.crew.tsv.gz', sep='\\t')\n",
        "df3 = pd.read_csv('title.ratings.tsv.gz', sep='\\t')"
      ]
    },
    {
      "cell_type": "code",
      "execution_count": 4,
      "metadata": {
        "colab": {
          "base_uri": "https://localhost:8080/"
        },
        "id": "9d8_qFdY04q9",
        "outputId": "19048fdb-6590-43d6-c0bc-61c4f0b98cc2"
      },
      "outputs": [
        {
          "output_type": "execute_result",
          "data": {
            "text/plain": [
              "1503482"
            ]
          },
          "metadata": {},
          "execution_count": 4
        }
      ],
      "source": [
        "# Connect to sql\n",
        "conn = sqlite3.connect('movie.db')\n",
        "\n",
        "# Transform csv in db\n",
        "df1.to_sql('basic', conn, index = False, if_exists = 'replace')\n",
        "df2.to_sql('crew', conn, index = False, if_exists = 'replace')\n",
        "df3.to_sql('rating', conn, index = False, if_exists = 'replace')\n"
      ]
    },
    {
      "cell_type": "code",
      "source": [
        "# Load sql\n",
        "## Run in Google colab\n",
        "%load_ext sql\n",
        "## Run in your local idle\n",
        "#%load_ext sqlite3\n",
        "\n",
        "# Connect to sql server\n",
        "%sql sqlite:///movie.db"
      ],
      "metadata": {
        "id": "n7DpYT5dIsKG"
      },
      "execution_count": 5,
      "outputs": []
    },
    {
      "cell_type": "markdown",
      "metadata": {
        "id": "maV-ZZZy04q9"
      },
      "source": [
        "## Business Questions"
      ]
    },
    {
      "cell_type": "markdown",
      "metadata": {
        "id": "A8_OMY9x04q-"
      },
      "source": [
        "### 1. Genre Popularity Analysis\n",
        "- What are the top 5 most popular genres based on the number of films released?\n",
        "- How does the average movie rating vary by genre?\n",
        "- Which genres saw the biggest increase in the number of releases over the last 5 years?\n",
        "\n",
        "SQL Skills:\n",
        "- Joins (linking title.basics with genre-related tables).\n",
        "- Aggregation functions (`COUNT()`, `AVG()`).\n",
        "- Subqueries (for filtering by recent years).\n",
        "- Sorting (`ORDER BY`)."
      ]
    },
    {
      "cell_type": "code",
      "execution_count": 23,
      "metadata": {
        "colab": {
          "base_uri": "https://localhost:8080/",
          "height": 182
        },
        "id": "WHX1e0VD04q-",
        "outputId": "31f9206d-226e-45e7-def1-7dd8724fab11"
      },
      "outputs": [
        {
          "output_type": "stream",
          "name": "stdout",
          "text": [
            " * sqlite:///movie.db\n",
            "Done.\n"
          ]
        },
        {
          "output_type": "execute_result",
          "data": {
            "text/plain": [
              "[('Drama', 1276745),\n",
              " ('Comedy', 741025),\n",
              " ('Talk-Show', 703731),\n",
              " ('News', 586493),\n",
              " ('Documentary', 540870)]"
            ],
            "text/html": [
              "<table>\n",
              "    <thead>\n",
              "        <tr>\n",
              "            <th>genres</th>\n",
              "            <th>count_genres</th>\n",
              "        </tr>\n",
              "    </thead>\n",
              "    <tbody>\n",
              "        <tr>\n",
              "            <td>Drama</td>\n",
              "            <td>1276745</td>\n",
              "        </tr>\n",
              "        <tr>\n",
              "            <td>Comedy</td>\n",
              "            <td>741025</td>\n",
              "        </tr>\n",
              "        <tr>\n",
              "            <td>Talk-Show</td>\n",
              "            <td>703731</td>\n",
              "        </tr>\n",
              "        <tr>\n",
              "            <td>News</td>\n",
              "            <td>586493</td>\n",
              "        </tr>\n",
              "        <tr>\n",
              "            <td>Documentary</td>\n",
              "            <td>540870</td>\n",
              "        </tr>\n",
              "    </tbody>\n",
              "</table>"
            ]
          },
          "metadata": {},
          "execution_count": 23
        }
      ],
      "source": [
        "# What are the top 5 most popular genres based on the number of films released?\n",
        "%%sql\n",
        "SELECT genres, COUNT(genres) as count_genres\n",
        "FROM basic\n",
        "GROUP BY genres\n",
        "ORDER BY count_genres DESC\n",
        "LIMIT 5;"
      ]
    },
    {
      "cell_type": "code",
      "source": [
        "# How does the average movie rating vary by genre?\n",
        "%%sql\n",
        "SELECT genres, AVG(averageRating) as avg_rating\n",
        "FROM basic\n",
        "JOIN rating\n",
        "On basic.tconst = rating.tconst\n",
        "GROUP BY genres\n",
        "ORDER BY avg_rating DESC\n",
        "LIMIT 10; -- adding a limit so we can see better, but if you remove it you can see the entire list"
      ],
      "metadata": {
        "id": "gxKRqEvpYL9J",
        "outputId": "0a798a96-740a-4a59-a468-df309c8a53b7",
        "colab": {
          "base_uri": "https://localhost:8080/",
          "height": 289
        }
      },
      "execution_count": 24,
      "outputs": [
        {
          "output_type": "stream",
          "name": "stdout",
          "text": [
            " * sqlite:///movie.db\n",
            "Done.\n"
          ]
        },
        {
          "output_type": "execute_result",
          "data": {
            "text/plain": [
              "[('Documentary,Musical,Reality-TV', 9.5),\n",
              " ('Animation,Musical,Reality-TV', 9.4),\n",
              " ('Reality-TV,Short,Talk-Show', 9.254761904761901),\n",
              " ('Music,War', 9.25),\n",
              " ('Comedy,Game-Show,Musical', 9.21818181818182),\n",
              " ('Biography,Crime,Reality-TV', 9.216666666666667),\n",
              " ('Family,Game-Show,Romance', 9.200000000000001),\n",
              " ('Mystery,Sci-Fi,Talk-Show', 9.2),\n",
              " ('History,Music,News', 9.2),\n",
              " ('Family,History,Talk-Show', 9.2)]"
            ],
            "text/html": [
              "<table>\n",
              "    <thead>\n",
              "        <tr>\n",
              "            <th>genres</th>\n",
              "            <th>avg_rating</th>\n",
              "        </tr>\n",
              "    </thead>\n",
              "    <tbody>\n",
              "        <tr>\n",
              "            <td>Documentary,Musical,Reality-TV</td>\n",
              "            <td>9.5</td>\n",
              "        </tr>\n",
              "        <tr>\n",
              "            <td>Animation,Musical,Reality-TV</td>\n",
              "            <td>9.4</td>\n",
              "        </tr>\n",
              "        <tr>\n",
              "            <td>Reality-TV,Short,Talk-Show</td>\n",
              "            <td>9.254761904761901</td>\n",
              "        </tr>\n",
              "        <tr>\n",
              "            <td>Music,War</td>\n",
              "            <td>9.25</td>\n",
              "        </tr>\n",
              "        <tr>\n",
              "            <td>Comedy,Game-Show,Musical</td>\n",
              "            <td>9.21818181818182</td>\n",
              "        </tr>\n",
              "        <tr>\n",
              "            <td>Biography,Crime,Reality-TV</td>\n",
              "            <td>9.216666666666667</td>\n",
              "        </tr>\n",
              "        <tr>\n",
              "            <td>Family,Game-Show,Romance</td>\n",
              "            <td>9.200000000000001</td>\n",
              "        </tr>\n",
              "        <tr>\n",
              "            <td>Mystery,Sci-Fi,Talk-Show</td>\n",
              "            <td>9.2</td>\n",
              "        </tr>\n",
              "        <tr>\n",
              "            <td>History,Music,News</td>\n",
              "            <td>9.2</td>\n",
              "        </tr>\n",
              "        <tr>\n",
              "            <td>Family,History,Talk-Show</td>\n",
              "            <td>9.2</td>\n",
              "        </tr>\n",
              "    </tbody>\n",
              "</table>"
            ]
          },
          "metadata": {},
          "execution_count": 24
        }
      ]
    },
    {
      "cell_type": "code",
      "source": [
        "# Now just checking the bottom ratings\n",
        "%%sql\n",
        "SELECT genres, AVG(averageRating) as avg_rating\n",
        "FROM basic\n",
        "JOIN rating\n",
        "On basic.tconst = rating.tconst\n",
        "GROUP BY genres\n",
        "ORDER BY avg_rating ASC\n",
        "LIMIT 3;"
      ],
      "metadata": {
        "id": "uYM4xc0FZATl",
        "outputId": "413d7284-05b4-4b81-81d0-b1efdc19d653",
        "colab": {
          "base_uri": "https://localhost:8080/",
          "height": 139
        }
      },
      "execution_count": 25,
      "outputs": [
        {
          "output_type": "stream",
          "name": "stdout",
          "text": [
            " * sqlite:///movie.db\n",
            "Done.\n"
          ]
        },
        {
          "output_type": "execute_result",
          "data": {
            "text/plain": [
              "[('Drama,Family,Game-Show', 1.7),\n",
              " ('Biography,Reality-TV,Sport', 2.3),\n",
              " ('Comedy,Sport,War', 2.5)]"
            ],
            "text/html": [
              "<table>\n",
              "    <thead>\n",
              "        <tr>\n",
              "            <th>genres</th>\n",
              "            <th>avg_rating</th>\n",
              "        </tr>\n",
              "    </thead>\n",
              "    <tbody>\n",
              "        <tr>\n",
              "            <td>Drama,Family,Game-Show</td>\n",
              "            <td>1.7</td>\n",
              "        </tr>\n",
              "        <tr>\n",
              "            <td>Biography,Reality-TV,Sport</td>\n",
              "            <td>2.3</td>\n",
              "        </tr>\n",
              "        <tr>\n",
              "            <td>Comedy,Sport,War</td>\n",
              "            <td>2.5</td>\n",
              "        </tr>\n",
              "    </tbody>\n",
              "</table>"
            ]
          },
          "metadata": {},
          "execution_count": 25
        }
      ]
    },
    {
      "cell_type": "code",
      "execution_count": 26,
      "metadata": {
        "colab": {
          "base_uri": "https://localhost:8080/",
          "height": 182
        },
        "id": "BEcKmdrm04q-",
        "outputId": "f556bff6-6ee6-4a40-fee7-78367697315d"
      },
      "outputs": [
        {
          "output_type": "stream",
          "name": "stdout",
          "text": [
            " * sqlite:///movie.db\n",
            "Done.\n"
          ]
        },
        {
          "output_type": "execute_result",
          "data": {
            "text/plain": [
              "[('Drama', 647329),\n",
              " ('Talk-Show', 293744),\n",
              " ('Comedy', 253035),\n",
              " ('News', 219342),\n",
              " ('Documentary', 177488)]"
            ],
            "text/html": [
              "<table>\n",
              "    <thead>\n",
              "        <tr>\n",
              "            <th>genres</th>\n",
              "            <th>count_genres</th>\n",
              "        </tr>\n",
              "    </thead>\n",
              "    <tbody>\n",
              "        <tr>\n",
              "            <td>Drama</td>\n",
              "            <td>647329</td>\n",
              "        </tr>\n",
              "        <tr>\n",
              "            <td>Talk-Show</td>\n",
              "            <td>293744</td>\n",
              "        </tr>\n",
              "        <tr>\n",
              "            <td>Comedy</td>\n",
              "            <td>253035</td>\n",
              "        </tr>\n",
              "        <tr>\n",
              "            <td>News</td>\n",
              "            <td>219342</td>\n",
              "        </tr>\n",
              "        <tr>\n",
              "            <td>Documentary</td>\n",
              "            <td>177488</td>\n",
              "        </tr>\n",
              "    </tbody>\n",
              "</table>"
            ]
          },
          "metadata": {},
          "execution_count": 26
        }
      ],
      "source": [
        "# Which genres saw the biggest increase in the number of releases over the last 5 years?\n",
        "%%sql\n",
        "SELECT genres, COUNT(genres) as count_genres\n",
        "FROM basic\n",
        "WHERE startYear >= DATE('now')-5\n",
        "GROUP BY genres\n",
        "ORDER BY count_genres DESC\n",
        "LIMIT 5;"
      ]
    },
    {
      "cell_type": "markdown",
      "metadata": {
        "id": "cCSCk6-604q-"
      },
      "source": [
        "### 2. Director Productivity Analysis\n",
        "- Who are the directors with the most films in the catalog?\n",
        "- What is the average rating for movies directed by each of the top 10 directors?\n",
        "- Which director worked across the most genres?\n",
        "\n",
        "SQL Skills:\n",
        "- Joins (linking title.crew with title.basics).\n",
        "- Aggregation functions (`COUNT()`, `AVG()`).\n",
        "- Subqueries (to rank directors by number of movies).\n",
        "- Grouping and filtering (`GROUP BY`, `HAVING`)."
      ]
    },
    {
      "cell_type": "code",
      "execution_count": 28,
      "metadata": {
        "id": "KFhQ6akx04q-",
        "outputId": "faba8600-2039-4179-b816-e810afca8041",
        "colab": {
          "base_uri": "https://localhost:8080/",
          "height": 139
        }
      },
      "outputs": [
        {
          "output_type": "stream",
          "name": "stdout",
          "text": [
            " * sqlite:///movie.db\n",
            "Done.\n"
          ]
        },
        {
          "output_type": "execute_result",
          "data": {
            "text/plain": [
              "[('nm1203430', 11449), ('nm1409127', 10363), ('nm13220986', 8024)]"
            ],
            "text/html": [
              "<table>\n",
              "    <thead>\n",
              "        <tr>\n",
              "            <th>directors</th>\n",
              "            <th>count_directors</th>\n",
              "        </tr>\n",
              "    </thead>\n",
              "    <tbody>\n",
              "        <tr>\n",
              "            <td>nm1203430</td>\n",
              "            <td>11449</td>\n",
              "        </tr>\n",
              "        <tr>\n",
              "            <td>nm1409127</td>\n",
              "            <td>10363</td>\n",
              "        </tr>\n",
              "        <tr>\n",
              "            <td>nm13220986</td>\n",
              "            <td>8024</td>\n",
              "        </tr>\n",
              "    </tbody>\n",
              "</table>"
            ]
          },
          "metadata": {},
          "execution_count": 28
        }
      ],
      "source": [
        "# Who are the directors with the most films in the catalog?\n",
        "%%sql\n",
        "SELECT directors, COUNT(directors) as count_directors\n",
        "FROM crew\n",
        "WHERE directors IS NOT '\\N'\n",
        "GROUP BY directors\n",
        "ORDER BY count_directors DESC\n",
        "LIMIT 3;"
      ]
    },
    {
      "cell_type": "code",
      "execution_count": 29,
      "metadata": {
        "id": "AQ3hhHah04q_",
        "outputId": "6d2019f3-1593-4a4a-e204-23bc41ee09b0",
        "colab": {
          "base_uri": "https://localhost:8080/",
          "height": 289
        }
      },
      "outputs": [
        {
          "output_type": "stream",
          "name": "stdout",
          "text": [
            " * sqlite:///movie.db\n",
            "Done.\n"
          ]
        },
        {
          "output_type": "execute_result",
          "data": {
            "text/plain": [
              "[('nm9948766', 10.0),\n",
              " ('nm9937122', 10.0),\n",
              " ('nm9902552', 10.0),\n",
              " ('nm9884248,nm2481797,nm4492923', 10.0),\n",
              " ('nm9845861', 10.0),\n",
              " ('nm9833982', 10.0),\n",
              " ('nm9801135', 10.0),\n",
              " ('nm9659299', 10.0),\n",
              " ('nm9646534,nm11107253', 10.0),\n",
              " ('nm9612258', 10.0)]"
            ],
            "text/html": [
              "<table>\n",
              "    <thead>\n",
              "        <tr>\n",
              "            <th>directors</th>\n",
              "            <th>avg_rating</th>\n",
              "        </tr>\n",
              "    </thead>\n",
              "    <tbody>\n",
              "        <tr>\n",
              "            <td>nm9948766</td>\n",
              "            <td>10.0</td>\n",
              "        </tr>\n",
              "        <tr>\n",
              "            <td>nm9937122</td>\n",
              "            <td>10.0</td>\n",
              "        </tr>\n",
              "        <tr>\n",
              "            <td>nm9902552</td>\n",
              "            <td>10.0</td>\n",
              "        </tr>\n",
              "        <tr>\n",
              "            <td>nm9884248,nm2481797,nm4492923</td>\n",
              "            <td>10.0</td>\n",
              "        </tr>\n",
              "        <tr>\n",
              "            <td>nm9845861</td>\n",
              "            <td>10.0</td>\n",
              "        </tr>\n",
              "        <tr>\n",
              "            <td>nm9833982</td>\n",
              "            <td>10.0</td>\n",
              "        </tr>\n",
              "        <tr>\n",
              "            <td>nm9801135</td>\n",
              "            <td>10.0</td>\n",
              "        </tr>\n",
              "        <tr>\n",
              "            <td>nm9659299</td>\n",
              "            <td>10.0</td>\n",
              "        </tr>\n",
              "        <tr>\n",
              "            <td>nm9646534,nm11107253</td>\n",
              "            <td>10.0</td>\n",
              "        </tr>\n",
              "        <tr>\n",
              "            <td>nm9612258</td>\n",
              "            <td>10.0</td>\n",
              "        </tr>\n",
              "    </tbody>\n",
              "</table>"
            ]
          },
          "metadata": {},
          "execution_count": 29
        }
      ],
      "source": [
        "# What is the average rating for movies directed by each of the top 10 directors?\n",
        "%%sql\n",
        "SELECT directors, AVG(averageRating) as avg_rating\n",
        "FROM crew\n",
        "JOIN rating ON crew.tconst = rating.tconst\n",
        "GROUP BY directors\n",
        "ORDER BY avg_rating DESC\n",
        "LIMIT 10;"
      ]
    },
    {
      "cell_type": "code",
      "execution_count": 30,
      "metadata": {
        "id": "NEF1guaH04q_",
        "outputId": "02df8db9-1080-4346-e0e9-96cde3b3a999",
        "colab": {
          "base_uri": "https://localhost:8080/",
          "height": 182
        }
      },
      "outputs": [
        {
          "output_type": "stream",
          "name": "stdout",
          "text": [
            " * sqlite:///movie.db\n",
            "Done.\n"
          ]
        },
        {
          "output_type": "execute_result",
          "data": {
            "text/plain": [
              "[('nm1203430', 11141),\n",
              " ('nm1409127', 10353),\n",
              " ('nm13220986', 8024),\n",
              " ('nm5236281,nm5239804', 7434),\n",
              " ('nm0022750', 6834)]"
            ],
            "text/html": [
              "<table>\n",
              "    <thead>\n",
              "        <tr>\n",
              "            <th>directors</th>\n",
              "            <th>gen_count</th>\n",
              "        </tr>\n",
              "    </thead>\n",
              "    <tbody>\n",
              "        <tr>\n",
              "            <td>nm1203430</td>\n",
              "            <td>11141</td>\n",
              "        </tr>\n",
              "        <tr>\n",
              "            <td>nm1409127</td>\n",
              "            <td>10353</td>\n",
              "        </tr>\n",
              "        <tr>\n",
              "            <td>nm13220986</td>\n",
              "            <td>8024</td>\n",
              "        </tr>\n",
              "        <tr>\n",
              "            <td>nm5236281,nm5239804</td>\n",
              "            <td>7434</td>\n",
              "        </tr>\n",
              "        <tr>\n",
              "            <td>nm0022750</td>\n",
              "            <td>6834</td>\n",
              "        </tr>\n",
              "    </tbody>\n",
              "</table>"
            ]
          },
          "metadata": {},
          "execution_count": 30
        }
      ],
      "source": [
        "# Which director worked across the most genres?\n",
        "%%sql\n",
        "SELECT directors, COUNT(genres) as gen_count\n",
        "FROM crew\n",
        "JOIN basic ON crew.tconst = basic.tconst\n",
        "WHERE directors IS NOT '\\N' AND genres IS NOT '\\N'\n",
        "GROUP BY directors\n",
        "ORDER BY gen_count DESC\n",
        "LIMIT 5;"
      ]
    },
    {
      "cell_type": "markdown",
      "metadata": {
        "id": "wRRwE7qS04q_"
      },
      "source": [
        "### 3. Yearly Production Trends\n",
        "- Which year had the most film releases in total?\n",
        "- What is the trend of movie releases over the last 10 years?\n",
        "- How many movies and TV series were released in the same year?\n",
        "\n",
        "SQL Skills:\n",
        "- Date manipulation (using startYear and endYear).\n",
        "- Aggregation functions (`COUNT()`).\n",
        "- Subqueries (for year-over-year comparisons).\n",
        "- Sorting and filtering (`GROUP BY`)."
      ]
    },
    {
      "cell_type": "code",
      "execution_count": 13,
      "metadata": {
        "id": "8InojBl-04q_",
        "outputId": "947ef951-66dd-4e69-f6f1-ed702cf97cef",
        "colab": {
          "base_uri": "https://localhost:8080/",
          "height": 182
        }
      },
      "outputs": [
        {
          "output_type": "stream",
          "name": "stdout",
          "text": [
            " * sqlite:///movie.db\n",
            "Done.\n"
          ]
        },
        {
          "output_type": "execute_result",
          "data": {
            "text/plain": [
              "[('2021', 499905),\n",
              " ('2022', 479505),\n",
              " ('2018', 453382),\n",
              " ('2019', 448853),\n",
              " ('2017', 447240)]"
            ],
            "text/html": [
              "<table>\n",
              "    <thead>\n",
              "        <tr>\n",
              "            <th>startYear</th>\n",
              "            <th>releases</th>\n",
              "        </tr>\n",
              "    </thead>\n",
              "    <tbody>\n",
              "        <tr>\n",
              "            <td>2021</td>\n",
              "            <td>499905</td>\n",
              "        </tr>\n",
              "        <tr>\n",
              "            <td>2022</td>\n",
              "            <td>479505</td>\n",
              "        </tr>\n",
              "        <tr>\n",
              "            <td>2018</td>\n",
              "            <td>453382</td>\n",
              "        </tr>\n",
              "        <tr>\n",
              "            <td>2019</td>\n",
              "            <td>448853</td>\n",
              "        </tr>\n",
              "        <tr>\n",
              "            <td>2017</td>\n",
              "            <td>447240</td>\n",
              "        </tr>\n",
              "    </tbody>\n",
              "</table>"
            ]
          },
          "metadata": {},
          "execution_count": 13
        }
      ],
      "source": [
        "# Which year had the most film releases in total?\n",
        "%%sql\n",
        "SELECT startYear, COUNT(startYear) as releases\n",
        "FROM basic\n",
        "WHERE startYear IS NOT '\\N'\n",
        "GROUP BY startYear\n",
        "ORDER BY releases DESC\n",
        "LIMIT 5;"
      ]
    },
    {
      "cell_type": "code",
      "execution_count": 14,
      "metadata": {
        "id": "sC7zioH604q_",
        "outputId": "35feea92-e976-4cf3-f5b8-89567a5eea68",
        "colab": {
          "base_uri": "https://localhost:8080/",
          "height": 310
        }
      },
      "outputs": [
        {
          "output_type": "stream",
          "name": "stdout",
          "text": [
            " * sqlite:///movie.db\n",
            "Done.\n"
          ]
        },
        {
          "output_type": "execute_result",
          "data": {
            "text/plain": [
              "[('2024', 326613, 'Drama'),\n",
              " ('2023', 440555, 'Short'),\n",
              " ('2022', 479505, 'Comedy,Drama,Music'),\n",
              " ('2021', 499905, 'Short'),\n",
              " ('2020', 430596, 'Documentary,Short'),\n",
              " ('2019', 448853, 'Action,Crime'),\n",
              " ('2018', 453382, 'Drama'),\n",
              " ('2017', 447240, 'Comedy,Drama,Fantasy'),\n",
              " ('2016', 423535, 'Short'),\n",
              " ('2015', 399092, 'Comedy,Drama'),\n",
              " ('2014', 378571, 'Documentary,Music,Short')]"
            ],
            "text/html": [
              "<table>\n",
              "    <thead>\n",
              "        <tr>\n",
              "            <th>startYear</th>\n",
              "            <th>releases</th>\n",
              "            <th>genres</th>\n",
              "        </tr>\n",
              "    </thead>\n",
              "    <tbody>\n",
              "        <tr>\n",
              "            <td>2024</td>\n",
              "            <td>326613</td>\n",
              "            <td>Drama</td>\n",
              "        </tr>\n",
              "        <tr>\n",
              "            <td>2023</td>\n",
              "            <td>440555</td>\n",
              "            <td>Short</td>\n",
              "        </tr>\n",
              "        <tr>\n",
              "            <td>2022</td>\n",
              "            <td>479505</td>\n",
              "            <td>Comedy,Drama,Music</td>\n",
              "        </tr>\n",
              "        <tr>\n",
              "            <td>2021</td>\n",
              "            <td>499905</td>\n",
              "            <td>Short</td>\n",
              "        </tr>\n",
              "        <tr>\n",
              "            <td>2020</td>\n",
              "            <td>430596</td>\n",
              "            <td>Documentary,Short</td>\n",
              "        </tr>\n",
              "        <tr>\n",
              "            <td>2019</td>\n",
              "            <td>448853</td>\n",
              "            <td>Action,Crime</td>\n",
              "        </tr>\n",
              "        <tr>\n",
              "            <td>2018</td>\n",
              "            <td>453382</td>\n",
              "            <td>Drama</td>\n",
              "        </tr>\n",
              "        <tr>\n",
              "            <td>2017</td>\n",
              "            <td>447240</td>\n",
              "            <td>Comedy,Drama,Fantasy</td>\n",
              "        </tr>\n",
              "        <tr>\n",
              "            <td>2016</td>\n",
              "            <td>423535</td>\n",
              "            <td>Short</td>\n",
              "        </tr>\n",
              "        <tr>\n",
              "            <td>2015</td>\n",
              "            <td>399092</td>\n",
              "            <td>Comedy,Drama</td>\n",
              "        </tr>\n",
              "        <tr>\n",
              "            <td>2014</td>\n",
              "            <td>378571</td>\n",
              "            <td>Documentary,Music,Short</td>\n",
              "        </tr>\n",
              "    </tbody>\n",
              "</table>"
            ]
          },
          "metadata": {},
          "execution_count": 14
        }
      ],
      "source": [
        "# What is the trend of movie releases over the last 10 years?\n",
        "%%sql\n",
        "SELECT startYear, COUNT(genres) AS releases, genres\n",
        "FROM  basic\n",
        "WHERE startYear IS NOT '\\N' AND startYear BETWEEN DATE('now') - 10 AND DATE('now')\n",
        "GROUP BY startYear\n",
        "ORDER BY startYear DESC;"
      ]
    },
    {
      "cell_type": "code",
      "execution_count": 15,
      "metadata": {
        "id": "IQwOJFgY04q_",
        "outputId": "a9f18669-bbe2-48cd-ce8e-93fd2486e1ee",
        "colab": {
          "base_uri": "https://localhost:8080/",
          "height": 289
        }
      },
      "outputs": [
        {
          "output_type": "stream",
          "name": "stdout",
          "text": [
            " * sqlite:///movie.db\n",
            "Done.\n"
          ]
        },
        {
          "output_type": "execute_result",
          "data": {
            "text/plain": [
              "[('2024', 17512, 6605),\n",
              " ('2023', 20106, 9011),\n",
              " ('2022', 20558, 10384),\n",
              " ('2021', 18886, 11911),\n",
              " ('2020', 16491, 12476),\n",
              " ('2019', 19210, 11352),\n",
              " ('2018', 19260, 11527),\n",
              " ('2017', 19025, 11549),\n",
              " ('2016', 18562, 11294),\n",
              " ('2015', 17372, 11072)]"
            ],
            "text/html": [
              "<table>\n",
              "    <thead>\n",
              "        <tr>\n",
              "            <th>startYear</th>\n",
              "            <th>movie_count</th>\n",
              "            <th>show_count</th>\n",
              "        </tr>\n",
              "    </thead>\n",
              "    <tbody>\n",
              "        <tr>\n",
              "            <td>2024</td>\n",
              "            <td>17512</td>\n",
              "            <td>6605</td>\n",
              "        </tr>\n",
              "        <tr>\n",
              "            <td>2023</td>\n",
              "            <td>20106</td>\n",
              "            <td>9011</td>\n",
              "        </tr>\n",
              "        <tr>\n",
              "            <td>2022</td>\n",
              "            <td>20558</td>\n",
              "            <td>10384</td>\n",
              "        </tr>\n",
              "        <tr>\n",
              "            <td>2021</td>\n",
              "            <td>18886</td>\n",
              "            <td>11911</td>\n",
              "        </tr>\n",
              "        <tr>\n",
              "            <td>2020</td>\n",
              "            <td>16491</td>\n",
              "            <td>12476</td>\n",
              "        </tr>\n",
              "        <tr>\n",
              "            <td>2019</td>\n",
              "            <td>19210</td>\n",
              "            <td>11352</td>\n",
              "        </tr>\n",
              "        <tr>\n",
              "            <td>2018</td>\n",
              "            <td>19260</td>\n",
              "            <td>11527</td>\n",
              "        </tr>\n",
              "        <tr>\n",
              "            <td>2017</td>\n",
              "            <td>19025</td>\n",
              "            <td>11549</td>\n",
              "        </tr>\n",
              "        <tr>\n",
              "            <td>2016</td>\n",
              "            <td>18562</td>\n",
              "            <td>11294</td>\n",
              "        </tr>\n",
              "        <tr>\n",
              "            <td>2015</td>\n",
              "            <td>17372</td>\n",
              "            <td>11072</td>\n",
              "        </tr>\n",
              "    </tbody>\n",
              "</table>"
            ]
          },
          "metadata": {},
          "execution_count": 15
        }
      ],
      "source": [
        "# How many movies and TV series were released in the same year?\n",
        "%%sql\n",
        "SELECT\n",
        "  startYear,\n",
        "  SUM( CASE WHEN titleType LIKE 'movie' THEN 1 END) AS movie_count,\n",
        "  SUM( CASE WHEN titleType LIKE 'tvseries' THEN 1 END) AS show_count\n",
        "FROM basic\n",
        "WHERE startYear IS NOT '\\N' AND startYear BETWEEN DATE('now') - 5 AND DATE('now')\n",
        "GROUP BY startYear\n",
        "ORDER BY startYear DESC\n",
        "LIMIT 5;"
      ]
    },
    {
      "cell_type": "markdown",
      "metadata": {
        "id": "gYF6-72R04q_"
      },
      "source": [
        "### 4. Movie Rating Trends\n",
        "- What are the top 5 highest-rated movies?\n",
        "- Which genre has the highest average movie rating?\n",
        "- Is there a correlation between movie runtime and average rating?\n",
        "\n",
        "SQL Skills:\n",
        "- Joins (linking title.basics and title.ratings).\n",
        "- Aggregation functions (`AVG()`, `MAX()`).\n",
        "- Subqueries (for filtering by ratings).\n",
        "- Sorting (`ORDER BY`)."
      ]
    },
    {
      "cell_type": "code",
      "execution_count": 16,
      "metadata": {
        "id": "r7xjKdYc04q_",
        "outputId": "93afb63c-ece4-4803-be09-be53c540de13",
        "colab": {
          "base_uri": "https://localhost:8080/",
          "height": 182
        }
      },
      "outputs": [
        {
          "output_type": "stream",
          "name": "stdout",
          "text": [
            " * sqlite:///movie.db\n",
            "Done.\n"
          ]
        },
        {
          "output_type": "execute_result",
          "data": {
            "text/plain": [
              "[('All I Know Is', 10.0, '1992', 'Drama'),\n",
              " ('Em Busca da Ilha Desconhecida', 10.0, '2001', 'Documentary'),\n",
              " ('Kaputol', 10.0, '2019', 'Drama'),\n",
              " ('Rainy in Glenageary', 10.0, '2019', 'Drama'),\n",
              " ('Love Live! Series 9th Anniversary LOVE LIVE! FEST', 10.0, '2020', 'Music')]"
            ],
            "text/html": [
              "<table>\n",
              "    <thead>\n",
              "        <tr>\n",
              "            <th>primaryTitle</th>\n",
              "            <th>averageRating</th>\n",
              "            <th>startYear</th>\n",
              "            <th>genres</th>\n",
              "        </tr>\n",
              "    </thead>\n",
              "    <tbody>\n",
              "        <tr>\n",
              "            <td>All I Know Is</td>\n",
              "            <td>10.0</td>\n",
              "            <td>1992</td>\n",
              "            <td>Drama</td>\n",
              "        </tr>\n",
              "        <tr>\n",
              "            <td>Em Busca da Ilha Desconhecida</td>\n",
              "            <td>10.0</td>\n",
              "            <td>2001</td>\n",
              "            <td>Documentary</td>\n",
              "        </tr>\n",
              "        <tr>\n",
              "            <td>Kaputol</td>\n",
              "            <td>10.0</td>\n",
              "            <td>2019</td>\n",
              "            <td>Drama</td>\n",
              "        </tr>\n",
              "        <tr>\n",
              "            <td>Rainy in Glenageary</td>\n",
              "            <td>10.0</td>\n",
              "            <td>2019</td>\n",
              "            <td>Drama</td>\n",
              "        </tr>\n",
              "        <tr>\n",
              "            <td>Love Live! Series 9th Anniversary LOVE LIVE! FEST</td>\n",
              "            <td>10.0</td>\n",
              "            <td>2020</td>\n",
              "            <td>Music</td>\n",
              "        </tr>\n",
              "    </tbody>\n",
              "</table>"
            ]
          },
          "metadata": {},
          "execution_count": 16
        }
      ],
      "source": [
        "# What are the top 5 highest-rated movies?\n",
        "%%sql\n",
        "SELECT primaryTitle, averageRating, startYear, genres\n",
        "FROM basic\n",
        "JOIN rating ON basic.tconst = rating.tconst\n",
        "WHERE basic.titleType LIKE 'movie'\n",
        "ORDER BY averageRating DESC\n",
        "LIMIT 5;"
      ]
    },
    {
      "cell_type": "code",
      "execution_count": 17,
      "metadata": {
        "id": "2voW9y2104q_",
        "outputId": "a26bb22d-ca12-46ac-ea83-c00bd2466940",
        "colab": {
          "base_uri": "https://localhost:8080/",
          "height": 139
        }
      },
      "outputs": [
        {
          "output_type": "stream",
          "name": "stdout",
          "text": [
            " * sqlite:///movie.db\n",
            "Done.\n"
          ]
        },
        {
          "output_type": "execute_result",
          "data": {
            "text/plain": [
              "[('Thriller', 10.0), ('Reality-TV', 10.0), ('Mystery,Thriller', 10.0)]"
            ],
            "text/html": [
              "<table>\n",
              "    <thead>\n",
              "        <tr>\n",
              "            <th>genres</th>\n",
              "            <th>max_rating</th>\n",
              "        </tr>\n",
              "    </thead>\n",
              "    <tbody>\n",
              "        <tr>\n",
              "            <td>Thriller</td>\n",
              "            <td>10.0</td>\n",
              "        </tr>\n",
              "        <tr>\n",
              "            <td>Reality-TV</td>\n",
              "            <td>10.0</td>\n",
              "        </tr>\n",
              "        <tr>\n",
              "            <td>Mystery,Thriller</td>\n",
              "            <td>10.0</td>\n",
              "        </tr>\n",
              "    </tbody>\n",
              "</table>"
            ]
          },
          "metadata": {},
          "execution_count": 17
        }
      ],
      "source": [
        "# Which genre has the highest average movie rating?\n",
        "%%sql\n",
        "SELECT genres, MAX(averageRating) AS max_rating\n",
        "FROM basic\n",
        "JOIN rating ON basic.tconst = rating.tconst\n",
        "WHERE basic.titleType LIKE 'movie' AND genres IS NOT '\\N'\n",
        "GROUP BY genres\n",
        "ORDER BY max_rating DESC\n",
        "LIMIT 3;"
      ]
    },
    {
      "cell_type": "code",
      "execution_count": 18,
      "metadata": {
        "id": "JGUF6fLs04q_",
        "outputId": "36a83587-c11f-4527-fbe6-c065996051b0",
        "colab": {
          "base_uri": "https://localhost:8080/",
          "height": 182
        }
      },
      "outputs": [
        {
          "output_type": "stream",
          "name": "stdout",
          "text": [
            " * sqlite:///movie.db\n",
            "Done.\n"
          ]
        },
        {
          "output_type": "execute_result",
          "data": {
            "text/plain": [
              "[(10.0, '8', 'Music'),\n",
              " (9.45, '2', 'Music'),\n",
              " (9.4, '379', 'Documentary'),\n",
              " (9.1, '607', 'Documentary'),\n",
              " (9.0, '286', 'Documentary')]"
            ],
            "text/html": [
              "<table>\n",
              "    <thead>\n",
              "        <tr>\n",
              "            <th>avg_rating</th>\n",
              "            <th>runtimeMinutes</th>\n",
              "            <th>genres</th>\n",
              "        </tr>\n",
              "    </thead>\n",
              "    <tbody>\n",
              "        <tr>\n",
              "            <td>10.0</td>\n",
              "            <td>8</td>\n",
              "            <td>Music</td>\n",
              "        </tr>\n",
              "        <tr>\n",
              "            <td>9.45</td>\n",
              "            <td>2</td>\n",
              "            <td>Music</td>\n",
              "        </tr>\n",
              "        <tr>\n",
              "            <td>9.4</td>\n",
              "            <td>379</td>\n",
              "            <td>Documentary</td>\n",
              "        </tr>\n",
              "        <tr>\n",
              "            <td>9.1</td>\n",
              "            <td>607</td>\n",
              "            <td>Documentary</td>\n",
              "        </tr>\n",
              "        <tr>\n",
              "            <td>9.0</td>\n",
              "            <td>286</td>\n",
              "            <td>Documentary</td>\n",
              "        </tr>\n",
              "    </tbody>\n",
              "</table>"
            ]
          },
          "metadata": {},
          "execution_count": 18
        }
      ],
      "source": [
        "# Is there a correlation between movie runtime and average rating?\n",
        "%%sql\n",
        "SELECT AVG(averageRating) AS avg_rating, runtimeMinutes, genres\n",
        "FROM basic\n",
        "JOIN rating ON basic.tconst = rating.tconst\n",
        "WHERE basic.titleType LIKE 'movie' and runtimeMinutes IS NOT '\\N'\n",
        "GROUP BY runtimeMinutes\n",
        "ORDER BY avg_rating DESC\n",
        "LIMIT 5;"
      ]
    },
    {
      "cell_type": "markdown",
      "metadata": {
        "id": "cVwR-I0C04rA"
      },
      "source": [
        "### 5. TV Series and Movie Comparison\n",
        "- What is the average rating of TV series compared to movies?\n",
        "- Which TV series has the longest runtime and how does it compare to movies of similar genres?\n",
        "- What percentage of releases in the last 5 years were TV series?\n",
        "\n",
        "SQL Skills:\n",
        "- Joins (linking title.basics, title.episode).\n",
        "- Aggregation functions (`AVG()`, `COUNT()`).\n",
        "- Date manipulation (using startYear and endYear).\n",
        "- Sorting (`ORDER BY`) and filtering (`HAVING`)."
      ]
    },
    {
      "cell_type": "code",
      "execution_count": 19,
      "metadata": {
        "id": "_5X5LbLX04rA",
        "outputId": "e00076c5-501b-4fdf-892f-5abfcea1c16d",
        "colab": {
          "base_uri": "https://localhost:8080/",
          "height": 118
        }
      },
      "outputs": [
        {
          "output_type": "stream",
          "name": "stdout",
          "text": [
            " * sqlite:///movie.db\n",
            "Done.\n"
          ]
        },
        {
          "output_type": "execute_result",
          "data": {
            "text/plain": [
              "[('movie', 6.17), ('tvSeries', 6.85)]"
            ],
            "text/html": [
              "<table>\n",
              "    <thead>\n",
              "        <tr>\n",
              "            <th>titleType</th>\n",
              "            <th>avg_rating</th>\n",
              "        </tr>\n",
              "    </thead>\n",
              "    <tbody>\n",
              "        <tr>\n",
              "            <td>movie</td>\n",
              "            <td>6.17</td>\n",
              "        </tr>\n",
              "        <tr>\n",
              "            <td>tvSeries</td>\n",
              "            <td>6.85</td>\n",
              "        </tr>\n",
              "    </tbody>\n",
              "</table>"
            ]
          },
          "metadata": {},
          "execution_count": 19
        }
      ],
      "source": [
        "# What is the average rating of TV series compared to movies?\n",
        "%%sql\n",
        "SELECT titleType,  ROUND(AVG(averageRating), 2) AS avg_rating\n",
        "from rating\n",
        "JOIN basic ON rating.tconst = basic.tconst\n",
        "WHERE titleType IN ('movie', 'tvSeries')\n",
        "GROUP BY titleType;"
      ]
    },
    {
      "cell_type": "code",
      "execution_count": 20,
      "metadata": {
        "id": "Al609ob904rA",
        "outputId": "0ce6de31-0323-498a-8b71-7ca6ce65dc77",
        "colab": {
          "base_uri": "https://localhost:8080/",
          "height": 96
        }
      },
      "outputs": [
        {
          "output_type": "stream",
          "name": "stdout",
          "text": [
            " * sqlite:///movie.db\n",
            "Done.\n"
          ]
        },
        {
          "output_type": "execute_result",
          "data": {
            "text/plain": [
              "[('Drama', 'The Prodigal Son', '90', 'Shôkin Kasegi', '990')]"
            ],
            "text/html": [
              "<table>\n",
              "    <thead>\n",
              "        <tr>\n",
              "            <th>genres</th>\n",
              "            <th>movie_name</th>\n",
              "            <th>movie_runtime</th>\n",
              "            <th>longest_tv_series</th>\n",
              "            <th>longest_tv_runtime</th>\n",
              "        </tr>\n",
              "    </thead>\n",
              "    <tbody>\n",
              "        <tr>\n",
              "            <td>Drama</td>\n",
              "            <td>The Prodigal Son</td>\n",
              "            <td>90</td>\n",
              "            <td>Shôkin Kasegi</td>\n",
              "            <td>990</td>\n",
              "        </tr>\n",
              "    </tbody>\n",
              "</table>"
            ]
          },
          "metadata": {},
          "execution_count": 20
        }
      ],
      "source": [
        "# Which TV series has the longest runtime and how does it compare to movies of similar genres?\n",
        "%%sql\n",
        "WITH longest_tvshow AS (\n",
        "  SELECT\n",
        "    b.genres,\n",
        "    b.runtimeMinutes AS tv_runtime,\n",
        "    b.primaryTitle AS series_name\n",
        "  FROM basic b\n",
        "  WHERE b.titleType LIKE 'tvseries' AND b.runtimeMinutes IS NOT '\\N'\n",
        "  ORDER BY b.runtimeMinutes DESC\n",
        "  LIMIT 1\n",
        ")\n",
        "SELECT\n",
        "  b.genres,\n",
        "  b.primaryTitle AS movie_name,\n",
        "  b.runtimeMinutes AS movie_runtime,\n",
        "  l.series_name AS longest_tv_series,\n",
        "  l.tv_runtime AS longest_tv_runtime\n",
        "FROM basic b\n",
        "JOIN longest_tvshow l ON b.genres = l.genres\n",
        "WHERE b.titleType LIKE 'movie' AND b.runtimeMinutes IS NOT '\\N'\n",
        "GROUP BY b.genres\n",
        "ORDER BY l.tv_runtime DESC;\n"
      ]
    },
    {
      "cell_type": "code",
      "source": [
        "# What percentage of releases in the last 5 years were TV series?\n",
        "%%sql\n",
        "SELECT\n",
        "    startYear,\n",
        "    SUM( CASE WHEN titleType LIKE 'tvseries' THEN 1 END) as tv_count,\n",
        "    COUNT(titleType) AS total_releases,\n",
        "    ROUND(100.00 * (SUM( CASE WHEN titleType LIKE 'tvseries' THEN 1 END) *1.0/COUNT(titleType)),2) as tv_percentage\n",
        "FROM basic\n",
        "WHERE startYear BETWEEN DATE('now') - 5 AND DATE('now')\n",
        "GROUP BY startYear\n",
        "ORDER BY startYear DESC"
      ],
      "metadata": {
        "colab": {
          "base_uri": "https://localhost:8080/",
          "height": 203
        },
        "id": "O3U64eAGebNt",
        "outputId": "8dd22e66-61dd-4bbb-8d75-ca873efd0da4"
      },
      "execution_count": 21,
      "outputs": [
        {
          "output_type": "stream",
          "name": "stdout",
          "text": [
            " * sqlite:///movie.db\n",
            "Done.\n"
          ]
        },
        {
          "output_type": "execute_result",
          "data": {
            "text/plain": [
              "[('2024', 6605, 326613, 2.02),\n",
              " ('2023', 9011, 440555, 2.05),\n",
              " ('2022', 10384, 479505, 2.17),\n",
              " ('2021', 11911, 499905, 2.38),\n",
              " ('2020', 12476, 430596, 2.9),\n",
              " ('2019', 11352, 448853, 2.53)]"
            ],
            "text/html": [
              "<table>\n",
              "    <thead>\n",
              "        <tr>\n",
              "            <th>startYear</th>\n",
              "            <th>tv_count</th>\n",
              "            <th>total_releases</th>\n",
              "            <th>tv_percentage</th>\n",
              "        </tr>\n",
              "    </thead>\n",
              "    <tbody>\n",
              "        <tr>\n",
              "            <td>2024</td>\n",
              "            <td>6605</td>\n",
              "            <td>326613</td>\n",
              "            <td>2.02</td>\n",
              "        </tr>\n",
              "        <tr>\n",
              "            <td>2023</td>\n",
              "            <td>9011</td>\n",
              "            <td>440555</td>\n",
              "            <td>2.05</td>\n",
              "        </tr>\n",
              "        <tr>\n",
              "            <td>2022</td>\n",
              "            <td>10384</td>\n",
              "            <td>479505</td>\n",
              "            <td>2.17</td>\n",
              "        </tr>\n",
              "        <tr>\n",
              "            <td>2021</td>\n",
              "            <td>11911</td>\n",
              "            <td>499905</td>\n",
              "            <td>2.38</td>\n",
              "        </tr>\n",
              "        <tr>\n",
              "            <td>2020</td>\n",
              "            <td>12476</td>\n",
              "            <td>430596</td>\n",
              "            <td>2.9</td>\n",
              "        </tr>\n",
              "        <tr>\n",
              "            <td>2019</td>\n",
              "            <td>11352</td>\n",
              "            <td>448853</td>\n",
              "            <td>2.53</td>\n",
              "        </tr>\n",
              "    </tbody>\n",
              "</table>"
            ]
          },
          "metadata": {},
          "execution_count": 21
        }
      ]
    }
  ],
  "metadata": {
    "kernelspec": {
      "display_name": ".venv",
      "language": "python",
      "name": "python3"
    },
    "language_info": {
      "codemirror_mode": {
        "name": "ipython",
        "version": 3
      },
      "file_extension": ".py",
      "mimetype": "text/x-python",
      "name": "python",
      "nbconvert_exporter": "python",
      "pygments_lexer": "ipython3",
      "version": "3.11.9"
    },
    "colab": {
      "provenance": []
    }
  },
  "nbformat": 4,
  "nbformat_minor": 0
}
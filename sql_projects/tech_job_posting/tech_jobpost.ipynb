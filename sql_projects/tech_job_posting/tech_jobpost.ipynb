{
 "cells": [
  {
   "cell_type": "markdown",
   "metadata": {},
   "source": [
    "# Tech Job Posting"
   ]
  },
  {
   "cell_type": "code",
   "execution_count": null,
   "metadata": {},
   "outputs": [],
   "source": [
    "# Import libraries\n",
    "import pandas as pd\n",
    "import sqlite3"
   ]
  },
  {
   "cell_type": "code",
   "execution_count": null,
   "metadata": {},
   "outputs": [],
   "source": []
  },
  {
   "cell_type": "code",
   "execution_count": null,
   "metadata": {},
   "outputs": [],
   "source": []
  },
  {
   "cell_type": "markdown",
   "metadata": {},
   "source": [
    "## **Business Questions**"
   ]
  },
  {
   "cell_type": "markdown",
   "metadata": {},
   "source": [
    "### 1. Salary Analysis  \n",
    "- What is the average salary for data science roles across experience levels?\n",
    "- Which job titles have the highest salaries, and how do they vary by company size?\n",
    "- How do remote and on-site roles compare in salary ranges?\n",
    "\n",
    "**SQL Skills:**  \n",
    "- **INNER JOIN** to link job titles and company size.  \n",
    "- **Aggregations** (`AVG`, `MAX`) for salary comparisons.  \n",
    "- **Window Functions** to rank salaries by job title and experience level."
   ]
  },
  {
   "cell_type": "code",
   "execution_count": null,
   "metadata": {},
   "outputs": [],
   "source": []
  },
  {
   "cell_type": "code",
   "execution_count": null,
   "metadata": {},
   "outputs": [],
   "source": []
  },
  {
   "cell_type": "code",
   "execution_count": null,
   "metadata": {},
   "outputs": [],
   "source": []
  },
  {
   "cell_type": "markdown",
   "metadata": {},
   "source": [
    "### **2. Regional Insights**  \n",
    "- Which countries offer the highest salaries for data science jobs?\n",
    "- How does an employee’s residence compare to the company’s location for remote roles?\n",
    "- What is the proportion of fully remote roles by region?\n",
    "\n",
    "**SQL Skills:**  \n",
    "- **INNER JOIN** between `employee_residence` and `company_location` for regional analysis.  \n",
    "- **LEFT JOIN** to include companies with incomplete remote data.  \n",
    "- **CASE** to classify remote work levels (`0`, `50`, `100`)."
   ]
  },
  {
   "cell_type": "code",
   "execution_count": null,
   "metadata": {},
   "outputs": [],
   "source": []
  },
  {
   "cell_type": "code",
   "execution_count": null,
   "metadata": {},
   "outputs": [],
   "source": []
  },
  {
   "cell_type": "code",
   "execution_count": null,
   "metadata": {},
   "outputs": [],
   "source": []
  },
  {
   "cell_type": "markdown",
   "metadata": {},
   "source": [
    "### **3. Skill Demand Trends**  \n",
    "- What are the top 10 most frequently required technical skills?\n",
    "- Which industries demand specific skills like AI or cloud computing?  \n",
    "- How does skill demand vary by company size? \n",
    "\n",
    "**SQL Skills:**  \n",
    "- **INNER JOIN** between `job_postings.csv` and `job_skills.csv`.  \n",
    "- **FULL OUTER JOIN** to compare skill demand across industries.  \n",
    "- **CTEs** to extract and rank the most in-demand skills."
   ]
  },
  {
   "cell_type": "code",
   "execution_count": null,
   "metadata": {},
   "outputs": [],
   "source": []
  },
  {
   "cell_type": "code",
   "execution_count": null,
   "metadata": {},
   "outputs": [],
   "source": []
  },
  {
   "cell_type": "code",
   "execution_count": null,
   "metadata": {},
   "outputs": [],
   "source": []
  },
  {
   "cell_type": "markdown",
   "metadata": {},
   "source": [
    "### **4. Benefits and Perks**  \n",
    "- What are the most common benefits offered for remote roles? \n",
    "- Which company sizes are most likely to offer comprehensive perks?\n",
    "- How do benefits vary across different industries?\n",
    "\n",
    "**SQL Skills:**  \n",
    "- **LEFT JOIN** between `benefits.csv` and `job_postings.csv` to analyze job perks.  \n",
    "- **Aggregations** to calculate the prevalence of benefits by job type.  \n",
    "- **Subqueries** to identify roles with multiple benefits."
   ]
  },
  {
   "cell_type": "code",
   "execution_count": null,
   "metadata": {},
   "outputs": [],
   "source": []
  },
  {
   "cell_type": "code",
   "execution_count": null,
   "metadata": {},
   "outputs": [],
   "source": []
  },
  {
   "cell_type": "code",
   "execution_count": null,
   "metadata": {},
   "outputs": [],
   "source": []
  },
  {
   "cell_type": "markdown",
   "metadata": {},
   "source": [
    "### **5. Emerging Industries and Future Trends**\n",
    "- Which industries are hiring the most data professionals?\n",
    "- What percentage of companies in emerging industries offer remote opportunities?\n",
    "- How do salaries vary across industries for data-related roles?\n",
    "\n",
    "**SQL Skills:**  \n",
    "- **INNER JOIN** between `job_postings.csv` and `company_industries.csv` for analyzing industry-specific hiring trends.  \n",
    "- **LEFT JOIN** to include companies missing specific job postings.  \n",
    "- **Aggregations** to compute averages and percentages across industries.  \n",
    "- **Window Functions** to rank industries by the number of remote opportunities and average salaries.\n",
    "\n"
   ]
  },
  {
   "cell_type": "code",
   "execution_count": null,
   "metadata": {},
   "outputs": [],
   "source": []
  }
 ],
 "metadata": {
  "language_info": {
   "name": "python"
  }
 },
 "nbformat": 4,
 "nbformat_minor": 2
}

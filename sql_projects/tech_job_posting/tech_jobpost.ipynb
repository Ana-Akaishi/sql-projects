{
 "cells": [
  {
   "cell_type": "markdown",
   "metadata": {},
   "source": [
    "# Tech Job Posting"
   ]
  },
  {
   "cell_type": "code",
   "execution_count": 1,
   "metadata": {},
   "outputs": [],
   "source": [
    "# Import libraries\n",
    "import pandas as pd\n",
    "import sqlite3"
   ]
  },
  {
   "cell_type": "code",
   "execution_count": 2,
   "metadata": {},
   "outputs": [],
   "source": [
    "# Import datasets\n",
    "salaries = pd.read_csv('ds_salaries_2023.csv')\n",
    "posting = pd.read_csv('postings.csv')\n",
    "companies = pd.read_csv('companies.csv')\n",
    "skills = pd.read_csv('job_skills.csv')\n",
    "benefits = pd.read_csv('benefits.csv')\n",
    "industry = pd.read_csv('company_industries.csv')"
   ]
  },
  {
   "cell_type": "code",
   "execution_count": 3,
   "metadata": {},
   "outputs": [],
   "source": [
    "# Set SQL server\n",
    "## Connector\n",
    "conn = sqlite3.connect('tech_jobmarket.db')\n",
    "\n",
    "# Transform csv to db\n",
    "salaries.to_sql('salaries', conn, index=False, if_exists='replace')\n",
    "posting.to_sql('posting', conn, index=False, if_exists='replace')\n",
    "companies.to_sql('companies', conn, index=False, if_exists='replace')\n",
    "skills.to_sql('skills', conn, index=False, if_exists='replace')\n",
    "benefits.to_sql('benefits', conn, index=False, if_exists='replace')\n",
    "industry.to_sql('industry', conn, index=False, if_exists='replace')\n",
    "\n",
    "# Activate SQL extension\n",
    "%load_ext sql\n",
    "\n",
    "# Connect SQL Magic (to use SQl commands) to our databse\n",
    "%sql sqlite:///tech_jobmarket.db"
   ]
  },
  {
   "cell_type": "markdown",
   "metadata": {},
   "source": [
    "## **Business Questions**"
   ]
  },
  {
   "cell_type": "markdown",
   "metadata": {},
   "source": [
    "### 1. Salary Trends and Insights\n",
    "- What is the average salary for data science jobs across different industries?\n",
    "- How do company sizes impact the salaries offered for data science roles?\n",
    "- Which job titles offer the highest average salary for data professionals?\n",
    "\n",
    "SQL Skills:\n",
    "- JOINs (INNER JOIN between job_postings, job_industries, and companies to connect salary, industry, and company data).\n",
    "- Aggregations (AVG to calculate averages and trends over time)."
   ]
  },
  {
   "cell_type": "markdown",
   "metadata": {},
   "source": [
    "- What is the average salary for data science jobs across different industries?"
   ]
  },
  {
   "cell_type": "code",
   "execution_count": null,
   "metadata": {},
   "outputs": [
    {
     "name": "stdout",
     "output_type": "stream",
     "text": [
      " * sqlite:///tech_jobmarket.db\n",
      "Done.\n"
     ]
    },
    {
     "data": {
      "text/html": [
       "<table>\n",
       "    <thead>\n",
       "        <tr>\n",
       "            <th>industry</th>\n",
       "            <th>pay_period</th>\n",
       "            <th>top_salary</th>\n",
       "            <th>avg_salary</th>\n",
       "            <th>min_salary</th>\n",
       "        </tr>\n",
       "    </thead>\n",
       "    <tbody>\n",
       "        <tr>\n",
       "            <td>Technology, Information and Internet</td>\n",
       "            <td>YEARLY</td>\n",
       "            <td>239000.0</td>\n",
       "            <td>None</td>\n",
       "            <td>177000.0</td>\n",
       "        </tr>\n",
       "        <tr>\n",
       "            <td>Information Services</td>\n",
       "            <td>YEARLY</td>\n",
       "            <td>200000.0</td>\n",
       "            <td>None</td>\n",
       "            <td>160000.0</td>\n",
       "        </tr>\n",
       "        <tr>\n",
       "            <td>Biotechnology Research</td>\n",
       "            <td>YEARLY</td>\n",
       "            <td>195500.0</td>\n",
       "            <td>None</td>\n",
       "            <td>153000.0</td>\n",
       "        </tr>\n",
       "        <tr>\n",
       "            <td>Industrial Machinery Manufacturing</td>\n",
       "            <td>YEARLY</td>\n",
       "            <td>189200.0</td>\n",
       "            <td>None</td>\n",
       "            <td>142800.0</td>\n",
       "        </tr>\n",
       "        <tr>\n",
       "            <td>Truck Transportation</td>\n",
       "            <td>YEARLY</td>\n",
       "            <td>160000.0</td>\n",
       "            <td>None</td>\n",
       "            <td>140000.0</td>\n",
       "        </tr>\n",
       "        <tr>\n",
       "            <td>Defense and Space Manufacturing</td>\n",
       "            <td>YEARLY</td>\n",
       "            <td>209500.0</td>\n",
       "            <td>None</td>\n",
       "            <td>139700.0</td>\n",
       "        </tr>\n",
       "        <tr>\n",
       "            <td>Software Development</td>\n",
       "            <td>YEARLY</td>\n",
       "            <td>219922.5</td>\n",
       "            <td>None</td>\n",
       "            <td>137499.0</td>\n",
       "        </tr>\n",
       "        <tr>\n",
       "            <td>Advertising Services</td>\n",
       "            <td>YEARLY</td>\n",
       "            <td>188050.17</td>\n",
       "            <td>None</td>\n",
       "            <td>135205.0</td>\n",
       "        </tr>\n",
       "        <tr>\n",
       "            <td>Government Administration</td>\n",
       "            <td>YEARLY</td>\n",
       "            <td>171305.2</td>\n",
       "            <td>None</td>\n",
       "            <td>120055.0</td>\n",
       "        </tr>\n",
       "        <tr>\n",
       "            <td>Mental Health Care</td>\n",
       "            <td>YEARLY</td>\n",
       "            <td>160000.0</td>\n",
       "            <td>None</td>\n",
       "            <td>120000.0</td>\n",
       "        </tr>\n",
       "        <tr>\n",
       "            <td>Paper and Forest Product Manufacturing</td>\n",
       "            <td>YEARLY</td>\n",
       "            <td>122500.0</td>\n",
       "            <td>None</td>\n",
       "            <td>116600.0</td>\n",
       "        </tr>\n",
       "        <tr>\n",
       "            <td>Financial Services</td>\n",
       "            <td>YEARLY</td>\n",
       "            <td>200763.0</td>\n",
       "            <td>None</td>\n",
       "            <td>114797.0</td>\n",
       "        </tr>\n",
       "        <tr>\n",
       "            <td>Entertainment Providers</td>\n",
       "            <td>YEARLY</td>\n",
       "            <td>214081.33</td>\n",
       "            <td>None</td>\n",
       "            <td>114646.0</td>\n",
       "        </tr>\n",
       "        <tr>\n",
       "            <td>Research Services</td>\n",
       "            <td>YEARLY</td>\n",
       "            <td>188250.0</td>\n",
       "            <td>None</td>\n",
       "            <td>111250.0</td>\n",
       "        </tr>\n",
       "        <tr>\n",
       "            <td>Utilities</td>\n",
       "            <td>YEARLY</td>\n",
       "            <td>164300.0</td>\n",
       "            <td>None</td>\n",
       "            <td>109500.0</td>\n",
       "        </tr>\n",
       "        <tr>\n",
       "            <td>Pharmaceutical Manufacturing</td>\n",
       "            <td>YEARLY</td>\n",
       "            <td>170500.0</td>\n",
       "            <td>None</td>\n",
       "            <td>108500.0</td>\n",
       "        </tr>\n",
       "        <tr>\n",
       "            <td>Spectator Sports</td>\n",
       "            <td>YEARLY</td>\n",
       "            <td>175000.0</td>\n",
       "            <td>None</td>\n",
       "            <td>107000.0</td>\n",
       "        </tr>\n",
       "        <tr>\n",
       "            <td>Chemical Manufacturing</td>\n",
       "            <td>YEARLY</td>\n",
       "            <td>133336.0</td>\n",
       "            <td>None</td>\n",
       "            <td>103301.0</td>\n",
       "        </tr>\n",
       "        <tr>\n",
       "            <td>IT Services and IT Consulting</td>\n",
       "            <td>YEARLY</td>\n",
       "            <td>147532.18</td>\n",
       "            <td>None</td>\n",
       "            <td>91514.0</td>\n",
       "        </tr>\n",
       "        <tr>\n",
       "            <td>Higher Education</td>\n",
       "            <td>YEARLY</td>\n",
       "            <td>106679.0</td>\n",
       "            <td>None</td>\n",
       "            <td>78298.0</td>\n",
       "        </tr>\n",
       "        <tr>\n",
       "            <td>Staffing and Recruiting</td>\n",
       "            <td>YEARLY</td>\n",
       "            <td>93570.53</td>\n",
       "            <td>None</td>\n",
       "            <td>74154.0</td>\n",
       "        </tr>\n",
       "        <tr>\n",
       "            <td>Insurance</td>\n",
       "            <td>YEARLY</td>\n",
       "            <td>113200.0</td>\n",
       "            <td>None</td>\n",
       "            <td>70100.0</td>\n",
       "        </tr>\n",
       "        <tr>\n",
       "            <td>Business Consulting and Services</td>\n",
       "            <td>HOURLY</td>\n",
       "            <td>48401.67</td>\n",
       "            <td>None</td>\n",
       "            <td>40053.0</td>\n",
       "        </tr>\n",
       "        <tr>\n",
       "            <td>Hospitals and Health Care</td>\n",
       "            <td>HOURLY</td>\n",
       "            <td>70.33</td>\n",
       "            <td>None</td>\n",
       "            <td>47.0</td>\n",
       "        </tr>\n",
       "    </tbody>\n",
       "</table>"
      ],
      "text/plain": [
       "[('Technology, Information and Internet', 'YEARLY', 239000.0, None, 177000.0),\n",
       " ('Information Services', 'YEARLY', 200000.0, None, 160000.0),\n",
       " ('Biotechnology Research', 'YEARLY', 195500.0, None, 153000.0),\n",
       " ('Industrial Machinery Manufacturing', 'YEARLY', 189200.0, None, 142800.0),\n",
       " ('Truck Transportation', 'YEARLY', 160000.0, None, 140000.0),\n",
       " ('Defense and Space Manufacturing', 'YEARLY', 209500.0, None, 139700.0),\n",
       " ('Software Development', 'YEARLY', 219922.5, None, 137499.0),\n",
       " ('Advertising Services', 'YEARLY', 188050.17, None, 135205.0),\n",
       " ('Government Administration', 'YEARLY', 171305.2, None, 120055.0),\n",
       " ('Mental Health Care', 'YEARLY', 160000.0, None, 120000.0),\n",
       " ('Paper and Forest Product Manufacturing', 'YEARLY', 122500.0, None, 116600.0),\n",
       " ('Financial Services', 'YEARLY', 200763.0, None, 114797.0),\n",
       " ('Entertainment Providers', 'YEARLY', 214081.33, None, 114646.0),\n",
       " ('Research Services', 'YEARLY', 188250.0, None, 111250.0),\n",
       " ('Utilities', 'YEARLY', 164300.0, None, 109500.0),\n",
       " ('Pharmaceutical Manufacturing', 'YEARLY', 170500.0, None, 108500.0),\n",
       " ('Spectator Sports', 'YEARLY', 175000.0, None, 107000.0),\n",
       " ('Chemical Manufacturing', 'YEARLY', 133336.0, None, 103301.0),\n",
       " ('IT Services and IT Consulting', 'YEARLY', 147532.18, None, 91514.0),\n",
       " ('Higher Education', 'YEARLY', 106679.0, None, 78298.0),\n",
       " ('Staffing and Recruiting', 'YEARLY', 93570.53, None, 74154.0),\n",
       " ('Insurance', 'YEARLY', 113200.0, None, 70100.0),\n",
       " ('Business Consulting and Services', 'HOURLY', 48401.67, None, 40053.0),\n",
       " ('Hospitals and Health Care', 'HOURLY', 70.33, None, 47.0)]"
      ]
     },
     "execution_count": 19,
     "metadata": {},
     "output_type": "execute_result"
    }
   ],
   "source": [
    "%%sql\n",
    "SELECT\n",
    "    industry,\n",
    "    pay_period,\n",
    "    ROUND(AVG(max_salary),2) as top_salary,\n",
    "    ROUND(AVG(med_salary),2) as avg_salary,\n",
    "    ROUND(AVG(min_salary),2) as min_salary\n",
    "FROM posting\n",
    "JOIN industry ON posting.company_id = industry.company_id\n",
    "WHERE posting.title LIKE '%data scientist%' AND max_salary IS NOT NULL AND min_salary IS NOT NULL\n",
    "GROUP BY industry\n",
    "ORDER BY min_salary DESC"
   ]
  },
  {
   "cell_type": "markdown",
   "metadata": {},
   "source": [
    "- How do company sizes impact the salaries offered for data science roles?"
   ]
  },
  {
   "cell_type": "code",
   "execution_count": 9,
   "metadata": {},
   "outputs": [
    {
     "name": "stdout",
     "output_type": "stream",
     "text": [
      " * sqlite:///tech_jobmarket.db\n",
      "Done.\n"
     ]
    },
    {
     "data": {
      "text/html": [
       "<table>\n",
       "    <thead>\n",
       "        <tr>\n",
       "            <th>company_size</th>\n",
       "            <th>pay_period</th>\n",
       "            <th>top_salary</th>\n",
       "            <th>avg_salary</th>\n",
       "            <th>min_salary</th>\n",
       "        </tr>\n",
       "    </thead>\n",
       "    <tbody>\n",
       "        <tr>\n",
       "            <td>7.0</td>\n",
       "            <td>YEARLY</td>\n",
       "            <td>172107.78</td>\n",
       "            <td>None</td>\n",
       "            <td>104480.87</td>\n",
       "        </tr>\n",
       "        <tr>\n",
       "            <td>5.0</td>\n",
       "            <td>YEARLY</td>\n",
       "            <td>169496.67</td>\n",
       "            <td>None</td>\n",
       "            <td>120739.44</td>\n",
       "        </tr>\n",
       "        <tr>\n",
       "            <td>2.0</td>\n",
       "            <td>HOURLY</td>\n",
       "            <td>168592.0</td>\n",
       "            <td>None</td>\n",
       "            <td>126018.57</td>\n",
       "        </tr>\n",
       "        <tr>\n",
       "            <td>6.0</td>\n",
       "            <td>YEARLY</td>\n",
       "            <td>161235.83</td>\n",
       "            <td>None</td>\n",
       "            <td>122897.5</td>\n",
       "        </tr>\n",
       "        <tr>\n",
       "            <td>1.0</td>\n",
       "            <td>YEARLY</td>\n",
       "            <td>145025.0</td>\n",
       "            <td>None</td>\n",
       "            <td>106735.71</td>\n",
       "        </tr>\n",
       "        <tr>\n",
       "            <td>4.0</td>\n",
       "            <td>YEARLY</td>\n",
       "            <td>141780.75</td>\n",
       "            <td>None</td>\n",
       "            <td>96030.63</td>\n",
       "        </tr>\n",
       "        <tr>\n",
       "            <td>3.0</td>\n",
       "            <td>YEARLY</td>\n",
       "            <td>105648.13</td>\n",
       "            <td>None</td>\n",
       "            <td>64892.5</td>\n",
       "        </tr>\n",
       "    </tbody>\n",
       "</table>"
      ],
      "text/plain": [
       "[(7.0, 'YEARLY', 172107.78, None, 104480.87),\n",
       " (5.0, 'YEARLY', 169496.67, None, 120739.44),\n",
       " (2.0, 'HOURLY', 168592.0, None, 126018.57),\n",
       " (6.0, 'YEARLY', 161235.83, None, 122897.5),\n",
       " (1.0, 'YEARLY', 145025.0, None, 106735.71),\n",
       " (4.0, 'YEARLY', 141780.75, None, 96030.63),\n",
       " (3.0, 'YEARLY', 105648.13, None, 64892.5)]"
      ]
     },
     "execution_count": 9,
     "metadata": {},
     "output_type": "execute_result"
    }
   ],
   "source": [
    "%%sql\n",
    "SELECT \n",
    "    company_size, \n",
    "    pay_period,\n",
    "    ROUND(AVG(max_salary),2) as top_salary,\n",
    "    ROUND(AVG(med_salary),2) as avg_salary,\n",
    "    ROUND(AVG(min_salary),2) as min_salary\n",
    "FROM companies\n",
    "JOIN posting ON companies.company_id = posting.company_id\n",
    "WHERE posting.title LIKE \"%data scientist%\" AND max_salary IS NOT NULL AND company_size IS NOT NULL\n",
    "GROUP BY company_size\n",
    "ORDER BY top_salary DESC"
   ]
  },
  {
   "cell_type": "markdown",
   "metadata": {},
   "source": [
    "- Which job titles offer the highest average salary for data professionals?"
   ]
  },
  {
   "cell_type": "code",
   "execution_count": 15,
   "metadata": {},
   "outputs": [
    {
     "name": "stdout",
     "output_type": "stream",
     "text": [
      " * sqlite:///tech_jobmarket.db\n",
      "Done.\n"
     ]
    },
    {
     "data": {
      "text/html": [
       "<table>\n",
       "    <thead>\n",
       "        <tr>\n",
       "            <th>title</th>\n",
       "            <th>top_salary</th>\n",
       "            <th>avg_salary</th>\n",
       "            <th>min_salary</th>\n",
       "            <th>delta_salary</th>\n",
       "        </tr>\n",
       "    </thead>\n",
       "    <tbody>\n",
       "        <tr>\n",
       "            <td>NEO4J- Senior Database administrator</td>\n",
       "            <td>1300000.0</td>\n",
       "            <td>None</td>\n",
       "            <td>100000.0</td>\n",
       "            <td>1200000.0</td>\n",
       "        </tr>\n",
       "        <tr>\n",
       "            <td>Vice President of Data Engineering</td>\n",
       "            <td>600000.0</td>\n",
       "            <td>None</td>\n",
       "            <td>400000.0</td>\n",
       "            <td>200000.0</td>\n",
       "        </tr>\n",
       "        <tr>\n",
       "            <td>Database Manager</td>\n",
       "            <td>600000.0</td>\n",
       "            <td>None</td>\n",
       "            <td>600000.0</td>\n",
       "            <td>0.0</td>\n",
       "        </tr>\n",
       "        <tr>\n",
       "            <td>Software Engineer, Data Infrastructure at D. E. Shaw Research</td>\n",
       "            <td>550000.0</td>\n",
       "            <td>None</td>\n",
       "            <td>230000.0</td>\n",
       "            <td>320000.0</td>\n",
       "        </tr>\n",
       "        <tr>\n",
       "            <td>Planner/ Data Sales Analyst</td>\n",
       "            <td>462435.0</td>\n",
       "            <td>None</td>\n",
       "            <td>70000.0</td>\n",
       "            <td>392435.0</td>\n",
       "        </tr>\n",
       "    </tbody>\n",
       "</table>"
      ],
      "text/plain": [
       "[('NEO4J- Senior Database administrator', 1300000.0, None, 100000.0, 1200000.0),\n",
       " ('Vice President of Data Engineering', 600000.0, None, 400000.0, 200000.0),\n",
       " ('Database Manager', 600000.0, None, 600000.0, 0.0),\n",
       " ('Software Engineer, Data Infrastructure at D. E. Shaw Research', 550000.0, None, 230000.0, 320000.0),\n",
       " ('Planner/ Data Sales Analyst', 462435.0, None, 70000.0, 392435.0)]"
      ]
     },
     "execution_count": 15,
     "metadata": {},
     "output_type": "execute_result"
    }
   ],
   "source": [
    "%%sql\n",
    "SELECT\n",
    "    title,\n",
    "    ROUND(AVG(max_salary),2) as top_salary,\n",
    "    ROUND(AVG(med_salary),2) as avg_salary,\n",
    "    ROUND(AVG(min_salary),2) as min_salary,\n",
    "    ROUND(AVG(max_salary) - AVG(min_salary),2) as delta_salary\n",
    "FROM posting\n",
    "WHERE title LIKE \"%data%\" AND max_salary IS NOT NULL\n",
    "GROUP BY title\n",
    "ORDER BY top_salary DESC\n",
    "LIMIT 5;"
   ]
  },
  {
   "cell_type": "markdown",
   "metadata": {},
   "source": [
    "### 2. Skill Demand and Growth\n",
    "- Which skills are most in demand for data science roles globally?\n",
    "- How do industry types influence the demand for specific data science skills?\n",
    "- What skills are associated with the highest paying data science roles?\n",
    "\n",
    "SQL Skills:\n",
    "- CTEs (to simplify queries that identify and track specific skill sets over time).\n",
    "- JOINs (to link job_skills, job_postings, and company_industries to analyze skill trends).\n",
    "- Aggregations (COUNT, GROUP BY to identify the frequency of specific skills in job postings)."
   ]
  },
  {
   "cell_type": "markdown",
   "metadata": {},
   "source": [
    "- Which skills are most in demand for data science roles globally?\n"
   ]
  },
  {
   "cell_type": "code",
   "execution_count": 32,
   "metadata": {},
   "outputs": [
    {
     "name": "stdout",
     "output_type": "stream",
     "text": [
      " * sqlite:///tech_jobmarket.db\n",
      "Done.\n"
     ]
    },
    {
     "data": {
      "text/html": [
       "<table>\n",
       "    <thead>\n",
       "        <tr>\n",
       "            <th>title</th>\n",
       "            <th>skill</th>\n",
       "            <th>skill_count</th>\n",
       "        </tr>\n",
       "    </thead>\n",
       "    <tbody>\n",
       "        <tr>\n",
       "            <td>Data Scientist</td>\n",
       "            <td>IT</td>\n",
       "            <td>44</td>\n",
       "        </tr>\n",
       "        <tr>\n",
       "            <td>Data Scientist</td>\n",
       "            <td>ENG</td>\n",
       "            <td>38</td>\n",
       "        </tr>\n",
       "        <tr>\n",
       "            <td>Senior Data Scientist</td>\n",
       "            <td>IT</td>\n",
       "            <td>15</td>\n",
       "        </tr>\n",
       "        <tr>\n",
       "            <td>Senior Data Scientist</td>\n",
       "            <td>ENG</td>\n",
       "            <td>13</td>\n",
       "        </tr>\n",
       "        <tr>\n",
       "            <td>Lead Data Scientist</td>\n",
       "            <td>ENG</td>\n",
       "            <td>8</td>\n",
       "        </tr>\n",
       "        <tr>\n",
       "            <td>Data Scientist</td>\n",
       "            <td>ANLS</td>\n",
       "            <td>7</td>\n",
       "        </tr>\n",
       "        <tr>\n",
       "            <td>Lead Data Scientist</td>\n",
       "            <td>IT</td>\n",
       "            <td>7</td>\n",
       "        </tr>\n",
       "        <tr>\n",
       "            <td>Data Scientist Lead – Telematics (Remote)</td>\n",
       "            <td>ENG</td>\n",
       "            <td>6</td>\n",
       "        </tr>\n",
       "        <tr>\n",
       "            <td>Data Scientist Lead – Telematics (Remote)</td>\n",
       "            <td>IT</td>\n",
       "            <td>6</td>\n",
       "        </tr>\n",
       "        <tr>\n",
       "            <td>Data Scientist</td>\n",
       "            <td>OTHR</td>\n",
       "            <td>5</td>\n",
       "        </tr>\n",
       "    </tbody>\n",
       "</table>"
      ],
      "text/plain": [
       "[('Data Scientist', 'IT', 44),\n",
       " ('Data Scientist', 'ENG', 38),\n",
       " ('Senior Data Scientist', 'IT', 15),\n",
       " ('Senior Data Scientist', 'ENG', 13),\n",
       " ('Lead Data Scientist', 'ENG', 8),\n",
       " ('Data Scientist', 'ANLS', 7),\n",
       " ('Lead Data Scientist', 'IT', 7),\n",
       " ('Data Scientist Lead – Telematics (Remote)', 'ENG', 6),\n",
       " ('Data Scientist Lead – Telematics (Remote)', 'IT', 6),\n",
       " ('Data Scientist', 'OTHR', 5)]"
      ]
     },
     "execution_count": 32,
     "metadata": {},
     "output_type": "execute_result"
    }
   ],
   "source": [
    "%%sql\n",
    "WITH title_industry AS (\n",
    "    SELECT title, industry, job_id\n",
    "    FROM posting\n",
    "    JOIN industry ON posting.company_id = industry.company_id\n",
    "    WHERE title LIKE '%data scientist%'\n",
    ")\n",
    "SELECT title, skill_abr as skill, COUNT(skill_abr) as skill_count\n",
    "FROM title_industry\n",
    "JOIN skills ON title_industry.job_id = skills.job_id\n",
    "GROUP BY  title, skill\n",
    "ORDER BY skill_count DESC\n",
    "LIMIT 10"
   ]
  },
  {
   "cell_type": "markdown",
   "metadata": {},
   "source": [
    "- How do industry types influence the demand for specific data science skills?\n"
   ]
  },
  {
   "cell_type": "code",
   "execution_count": 31,
   "metadata": {},
   "outputs": [
    {
     "name": "stdout",
     "output_type": "stream",
     "text": [
      " * sqlite:///tech_jobmarket.db\n",
      "Done.\n"
     ]
    },
    {
     "data": {
      "text/html": [
       "<table>\n",
       "    <thead>\n",
       "        <tr>\n",
       "            <th>industry</th>\n",
       "            <th>skill</th>\n",
       "            <th>skill_count</th>\n",
       "        </tr>\n",
       "    </thead>\n",
       "    <tbody>\n",
       "        <tr>\n",
       "            <td>IT Services and IT Consulting</td>\n",
       "            <td>IT</td>\n",
       "            <td>35</td>\n",
       "        </tr>\n",
       "        <tr>\n",
       "            <td>Financial Services</td>\n",
       "            <td>ENG</td>\n",
       "            <td>34</td>\n",
       "        </tr>\n",
       "        <tr>\n",
       "            <td>Financial Services</td>\n",
       "            <td>IT</td>\n",
       "            <td>34</td>\n",
       "        </tr>\n",
       "        <tr>\n",
       "            <td>Software Development</td>\n",
       "            <td>IT</td>\n",
       "            <td>33</td>\n",
       "        </tr>\n",
       "        <tr>\n",
       "            <td>Software Development</td>\n",
       "            <td>ENG</td>\n",
       "            <td>32</td>\n",
       "        </tr>\n",
       "        <tr>\n",
       "            <td>IT Services and IT Consulting</td>\n",
       "            <td>ENG</td>\n",
       "            <td>22</td>\n",
       "        </tr>\n",
       "        <tr>\n",
       "            <td>Staffing and Recruiting</td>\n",
       "            <td>IT</td>\n",
       "            <td>20</td>\n",
       "        </tr>\n",
       "        <tr>\n",
       "            <td>Staffing and Recruiting</td>\n",
       "            <td>ENG</td>\n",
       "            <td>11</td>\n",
       "        </tr>\n",
       "        <tr>\n",
       "            <td>Advertising Services</td>\n",
       "            <td>ENG</td>\n",
       "            <td>6</td>\n",
       "        </tr>\n",
       "        <tr>\n",
       "            <td>Biotechnology Research</td>\n",
       "            <td>IT</td>\n",
       "            <td>6</td>\n",
       "        </tr>\n",
       "    </tbody>\n",
       "</table>"
      ],
      "text/plain": [
       "[('IT Services and IT Consulting', 'IT', 35),\n",
       " ('Financial Services', 'ENG', 34),\n",
       " ('Financial Services', 'IT', 34),\n",
       " ('Software Development', 'IT', 33),\n",
       " ('Software Development', 'ENG', 32),\n",
       " ('IT Services and IT Consulting', 'ENG', 22),\n",
       " ('Staffing and Recruiting', 'IT', 20),\n",
       " ('Staffing and Recruiting', 'ENG', 11),\n",
       " ('Advertising Services', 'ENG', 6),\n",
       " ('Biotechnology Research', 'IT', 6)]"
      ]
     },
     "execution_count": 31,
     "metadata": {},
     "output_type": "execute_result"
    }
   ],
   "source": [
    "%%sql\n",
    "WITH title_industry AS (\n",
    "    SELECT title, industry, job_id\n",
    "    FROM posting\n",
    "    JOIN industry ON posting.company_id = industry.company_id\n",
    "    WHERE title LIKE '%data scientist%'\n",
    ")\n",
    "SELECT industry, skill_abr as skill, COUNT(skill_abr) as skill_count\n",
    "FROM title_industry\n",
    "JOIN skills ON title_industry.job_id = skills.job_id\n",
    "GROUP BY  industry, skill\n",
    "ORDER BY skill_count DESC\n",
    "LIMIT 10"
   ]
  },
  {
   "cell_type": "markdown",
   "metadata": {},
   "source": [
    "- What skills are associated with the highest paying data science roles?\n"
   ]
  },
  {
   "cell_type": "code",
   "execution_count": 37,
   "metadata": {},
   "outputs": [
    {
     "name": "stdout",
     "output_type": "stream",
     "text": [
      " * sqlite:///tech_jobmarket.db\n",
      "Done.\n"
     ]
    },
    {
     "data": {
      "text/html": [
       "<table>\n",
       "    <thead>\n",
       "        <tr>\n",
       "            <th>title</th>\n",
       "            <th>top_salary</th>\n",
       "            <th>avg_salary</th>\n",
       "            <th>min_salary</th>\n",
       "            <th>skill_abr</th>\n",
       "        </tr>\n",
       "    </thead>\n",
       "    <tbody>\n",
       "        <tr>\n",
       "            <td>Principal AI/ML Data Scientist</td>\n",
       "            <td>322100.0</td>\n",
       "            <td>None</td>\n",
       "            <td>173400.0</td>\n",
       "            <td>ENG</td>\n",
       "        </tr>\n",
       "        <tr>\n",
       "            <td>TikTok Shop - Data Scientist - User Growth</td>\n",
       "            <td>321099.5</td>\n",
       "            <td>None</td>\n",
       "            <td>171946.0</td>\n",
       "            <td>ANLS</td>\n",
       "        </tr>\n",
       "        <tr>\n",
       "            <td>Data Scientist Lead – Telematics (Remote)</td>\n",
       "            <td>286130.0</td>\n",
       "            <td>None</td>\n",
       "            <td>158960.0</td>\n",
       "            <td>ENG</td>\n",
       "        </tr>\n",
       "        <tr>\n",
       "            <td>Data Scientist - AI Investment</td>\n",
       "            <td>250000.0</td>\n",
       "            <td>None</td>\n",
       "            <td>200000.0</td>\n",
       "            <td>IT</td>\n",
       "        </tr>\n",
       "        <tr>\n",
       "            <td>Senior Data Scientist, LLM</td>\n",
       "            <td>249000.0</td>\n",
       "            <td>None</td>\n",
       "            <td>216000.0</td>\n",
       "            <td>ENG</td>\n",
       "        </tr>\n",
       "    </tbody>\n",
       "</table>"
      ],
      "text/plain": [
       "[('Principal AI/ML Data Scientist', 322100.0, None, 173400.0, 'ENG'),\n",
       " ('TikTok Shop - Data Scientist - User Growth', 321099.5, None, 171946.0, 'ANLS'),\n",
       " ('Data Scientist Lead – Telematics (Remote)', 286130.0, None, 158960.0, 'ENG'),\n",
       " ('Data Scientist - AI Investment', 250000.0, None, 200000.0, 'IT'),\n",
       " ('Senior Data Scientist, LLM', 249000.0, None, 216000.0, 'ENG')]"
      ]
     },
     "execution_count": 37,
     "metadata": {},
     "output_type": "execute_result"
    }
   ],
   "source": [
    "%%sql\n",
    "SELECT\n",
    "    title,\n",
    "    ROUND(AVG(max_salary),2) as top_salary,\n",
    "    ROUND(AVG(med_salary),2) as avg_salary,\n",
    "    ROUND(AVG(min_salary),2) as min_salary,\n",
    "    skill_abr\n",
    "FROM posting\n",
    "JOIN skills ON posting.job_id = skills.job_id\n",
    "WHERE title LIKE '%data scientist%'\n",
    "GROUP BY title\n",
    "ORDER BY top_salary DESC\n",
    "LIMIT 5"
   ]
  },
  {
   "cell_type": "markdown",
   "metadata": {},
   "source": [
    "### 3. Company Overview and Job Postings Analysis\n",
    "- Which companies post the most data science jobs?\n",
    "- How does the size of a company correlate with the number of job postings?\n",
    "- What are the top industries for data science job postings?\n",
    "\n",
    "SQL Skills:\n",
    "- JOINs (INNER JOIN between job_postings, companies, and company_industries to get company job postings).\n",
    "- Aggregations (COUNT for job postings per company, AVG for size and job posting correlation)."
   ]
  },
  {
   "cell_type": "markdown",
   "metadata": {},
   "source": [
    "- Which companies post the most data science jobs?\n"
   ]
  },
  {
   "cell_type": "code",
   "execution_count": 39,
   "metadata": {},
   "outputs": [
    {
     "name": "stdout",
     "output_type": "stream",
     "text": [
      " * sqlite:///tech_jobmarket.db\n",
      "Done.\n"
     ]
    },
    {
     "data": {
      "text/html": [
       "<table>\n",
       "    <thead>\n",
       "        <tr>\n",
       "            <th>name</th>\n",
       "            <th>count_ds</th>\n",
       "        </tr>\n",
       "    </thead>\n",
       "    <tbody>\n",
       "        <tr>\n",
       "            <td>Capital One</td>\n",
       "            <td>11</td>\n",
       "        </tr>\n",
       "        <tr>\n",
       "            <td>USAA</td>\n",
       "            <td>10</td>\n",
       "        </tr>\n",
       "        <tr>\n",
       "            <td>SynergisticIT</td>\n",
       "            <td>7</td>\n",
       "        </tr>\n",
       "        <tr>\n",
       "            <td>Verizon</td>\n",
       "            <td>6</td>\n",
       "        </tr>\n",
       "        <tr>\n",
       "            <td>Navy Federal Credit Union</td>\n",
       "            <td>5</td>\n",
       "        </tr>\n",
       "    </tbody>\n",
       "</table>"
      ],
      "text/plain": [
       "[('Capital One', 11),\n",
       " ('USAA', 10),\n",
       " ('SynergisticIT', 7),\n",
       " ('Verizon', 6),\n",
       " ('Navy Federal Credit Union', 5)]"
      ]
     },
     "execution_count": 39,
     "metadata": {},
     "output_type": "execute_result"
    }
   ],
   "source": [
    "%%sql\n",
    "SELECT name, COUNT(title) count_ds\n",
    "FROM companies c\n",
    "JOIN posting p ON c.company_id = p.company_id\n",
    "WHERE p.title LIKE '%data scientist%'\n",
    "GROUP BY name\n",
    "ORDER BY count_ds DESC\n",
    "LIMIT 5"
   ]
  },
  {
   "cell_type": "markdown",
   "metadata": {},
   "source": [
    "- How does the size of a company correlate with the number of job postings?\n"
   ]
  },
  {
   "cell_type": "code",
   "execution_count": 42,
   "metadata": {},
   "outputs": [
    {
     "name": "stdout",
     "output_type": "stream",
     "text": [
      " * sqlite:///tech_jobmarket.db\n",
      "Done.\n"
     ]
    },
    {
     "data": {
      "text/html": [
       "<table>\n",
       "    <thead>\n",
       "        <tr>\n",
       "            <th>company_size</th>\n",
       "            <th>count_posts</th>\n",
       "        </tr>\n",
       "    </thead>\n",
       "    <tbody>\n",
       "        <tr>\n",
       "            <td>7.0</td>\n",
       "            <td>764</td>\n",
       "        </tr>\n",
       "        <tr>\n",
       "            <td>5.0</td>\n",
       "            <td>506</td>\n",
       "        </tr>\n",
       "        <tr>\n",
       "            <td>2.0</td>\n",
       "            <td>352</td>\n",
       "        </tr>\n",
       "        <tr>\n",
       "            <td>3.0</td>\n",
       "            <td>256</td>\n",
       "        </tr>\n",
       "        <tr>\n",
       "            <td>1.0</td>\n",
       "            <td>252</td>\n",
       "        </tr>\n",
       "    </tbody>\n",
       "</table>"
      ],
      "text/plain": [
       "[(7.0, 764), (5.0, 506), (2.0, 352), (3.0, 256), (1.0, 252)]"
      ]
     },
     "execution_count": 42,
     "metadata": {},
     "output_type": "execute_result"
    }
   ],
   "source": [
    "%%sql\n",
    "SELECT company_size, COUNT(*) as count_posts\n",
    "FROM posting p \n",
    "JOIN companies c ON p.company_id = c.company_id\n",
    "WHERE p.title LIKE \"%data%\"\n",
    "GROUP BY company_size\n",
    "ORDER BY count_posts DESC\n",
    "LIMIT 5 "
   ]
  },
  {
   "cell_type": "markdown",
   "metadata": {},
   "source": [
    "- What are the top industries for data science job postings?"
   ]
  },
  {
   "cell_type": "code",
   "execution_count": 44,
   "metadata": {},
   "outputs": [
    {
     "name": "stdout",
     "output_type": "stream",
     "text": [
      " * sqlite:///tech_jobmarket.db\n",
      "Done.\n"
     ]
    },
    {
     "data": {
      "text/html": [
       "<table>\n",
       "    <thead>\n",
       "        <tr>\n",
       "            <th>industry</th>\n",
       "            <th>count_posts</th>\n",
       "            <th>max_salary</th>\n",
       "        </tr>\n",
       "    </thead>\n",
       "    <tbody>\n",
       "        <tr>\n",
       "            <td>IT Services and IT Consulting</td>\n",
       "            <td>49</td>\n",
       "            <td>147532.18</td>\n",
       "        </tr>\n",
       "        <tr>\n",
       "            <td>Financial Services</td>\n",
       "            <td>38</td>\n",
       "            <td>200763.0</td>\n",
       "        </tr>\n",
       "        <tr>\n",
       "            <td>Software Development</td>\n",
       "            <td>36</td>\n",
       "            <td>219922.5</td>\n",
       "        </tr>\n",
       "        <tr>\n",
       "            <td>Staffing and Recruiting</td>\n",
       "            <td>29</td>\n",
       "            <td>93570.53</td>\n",
       "        </tr>\n",
       "        <tr>\n",
       "            <td>Business Consulting and Services</td>\n",
       "            <td>8</td>\n",
       "            <td>48401.67</td>\n",
       "        </tr>\n",
       "    </tbody>\n",
       "</table>"
      ],
      "text/plain": [
       "[('IT Services and IT Consulting', 49, 147532.18),\n",
       " ('Financial Services', 38, 200763.0),\n",
       " ('Software Development', 36, 219922.5),\n",
       " ('Staffing and Recruiting', 29, 93570.53),\n",
       " ('Business Consulting and Services', 8, 48401.67)]"
      ]
     },
     "execution_count": 44,
     "metadata": {},
     "output_type": "execute_result"
    }
   ],
   "source": [
    "%%sql\n",
    "SELECT industry, COUNT(*) as count_posts, ROUND(AVG(max_salary),2) as max_salary\n",
    "FROM posting p\n",
    "JOIN industry i ON p.company_id = i.company_id\n",
    "WHERE p.title LIKE \"%data scientist%\"\n",
    "GROUP BY industry\n",
    "ORDER BY count_posts DESC\n",
    "LIMIT 5"
   ]
  },
  {
   "cell_type": "markdown",
   "metadata": {},
   "source": [
    "### 4. Benefits Analysis for Data Science Jobs\n",
    "- What benefits are most commonly offered in data science job postings?\n",
    "- Is there a correlation between benefits offered and salary for data science roles?\n",
    "- Which companies offer the most comprehensive benefits packages?\n",
    "\n",
    "SQL Skills:\n",
    "- JOINs (LEFT JOIN between benefits and job_postings to gather benefit information per job posting).\n",
    "- Aggregations (COUNT, GROUP BY to calculate the frequency of each benefit).\n",
    "- Subqueries (to compare salary with the number of benefits offered)."
   ]
  },
  {
   "cell_type": "markdown",
   "metadata": {},
   "source": [
    "- What benefits are most commonly offered in data science job postings?\n"
   ]
  },
  {
   "cell_type": "code",
   "execution_count": 50,
   "metadata": {},
   "outputs": [
    {
     "name": "stdout",
     "output_type": "stream",
     "text": [
      " * sqlite:///tech_jobmarket.db\n",
      "Done.\n"
     ]
    },
    {
     "data": {
      "text/html": [
       "<table>\n",
       "    <thead>\n",
       "        <tr>\n",
       "            <th>title</th>\n",
       "            <th>type</th>\n",
       "            <th>count_benefits</th>\n",
       "        </tr>\n",
       "    </thead>\n",
       "    <tbody>\n",
       "        <tr>\n",
       "            <td>Data Scientist</td>\n",
       "            <td>401(k)</td>\n",
       "            <td>7</td>\n",
       "        </tr>\n",
       "        <tr>\n",
       "            <td>Data Scientist</td>\n",
       "            <td>Vision insurance</td>\n",
       "            <td>6</td>\n",
       "        </tr>\n",
       "        <tr>\n",
       "            <td>Data Scientist</td>\n",
       "            <td>Dental insurance</td>\n",
       "            <td>3</td>\n",
       "        </tr>\n",
       "        <tr>\n",
       "            <td>Data Scientist</td>\n",
       "            <td>Disability insurance</td>\n",
       "            <td>3</td>\n",
       "        </tr>\n",
       "        <tr>\n",
       "            <td>Data Scientist</td>\n",
       "            <td>Medical insurance</td>\n",
       "            <td>3</td>\n",
       "        </tr>\n",
       "        <tr>\n",
       "            <td>Data Scientist</td>\n",
       "            <td>Child care support</td>\n",
       "            <td>1</td>\n",
       "        </tr>\n",
       "        <tr>\n",
       "            <td>Data Scientist</td>\n",
       "            <td>Paid maternity leave</td>\n",
       "            <td>1</td>\n",
       "        </tr>\n",
       "        <tr>\n",
       "            <td>Data Scientist</td>\n",
       "            <td>Paid paternity leave</td>\n",
       "            <td>1</td>\n",
       "        </tr>\n",
       "        <tr>\n",
       "            <td>Data Scientist</td>\n",
       "            <td>Tuition assistance</td>\n",
       "            <td>1</td>\n",
       "        </tr>\n",
       "        <tr>\n",
       "            <td>Data Scientist</td>\n",
       "            <td>None</td>\n",
       "            <td>0</td>\n",
       "        </tr>\n",
       "    </tbody>\n",
       "</table>"
      ],
      "text/plain": [
       "[('Data Scientist', '401(k)', 7),\n",
       " ('Data Scientist', 'Vision insurance', 6),\n",
       " ('Data Scientist', 'Dental insurance', 3),\n",
       " ('Data Scientist', 'Disability insurance', 3),\n",
       " ('Data Scientist', 'Medical insurance', 3),\n",
       " ('Data Scientist', 'Child care support', 1),\n",
       " ('Data Scientist', 'Paid maternity leave', 1),\n",
       " ('Data Scientist', 'Paid paternity leave', 1),\n",
       " ('Data Scientist', 'Tuition assistance', 1),\n",
       " ('Data Scientist', None, 0)]"
      ]
     },
     "execution_count": 50,
     "metadata": {},
     "output_type": "execute_result"
    }
   ],
   "source": [
    "%%sql\n",
    "SELECT title, type, COUNT(type) as count_benefits\n",
    "FROM posting p\n",
    "LEFT JOIN benefits b ON p.job_id = b.job_id\n",
    "WHERE p.title LIKE \"data scientist\"\n",
    "GROUP BY title, type\n",
    "ORDER BY count_benefits DESC"
   ]
  },
  {
   "cell_type": "markdown",
   "metadata": {},
   "source": [
    "- Is there a correlation between benefits offered and salary for data science roles?\n"
   ]
  },
  {
   "cell_type": "code",
   "execution_count": 61,
   "metadata": {},
   "outputs": [
    {
     "name": "stdout",
     "output_type": "stream",
     "text": [
      " * sqlite:///tech_jobmarket.db\n",
      "Done.\n"
     ]
    },
    {
     "data": {
      "text/html": [
       "<table>\n",
       "    <thead>\n",
       "        <tr>\n",
       "            <th>title</th>\n",
       "            <th>top_salary</th>\n",
       "            <th>avg_salary</th>\n",
       "            <th>min_salary</th>\n",
       "            <th>count_ben</th>\n",
       "        </tr>\n",
       "    </thead>\n",
       "    <tbody>\n",
       "        <tr>\n",
       "            <td>Principal AI/ML Data Scientist</td>\n",
       "            <td>322100.0</td>\n",
       "            <td>None</td>\n",
       "            <td>173400.0</td>\n",
       "            <td>0</td>\n",
       "        </tr>\n",
       "        <tr>\n",
       "            <td>TikTok Shop - Data Scientist - User Growth</td>\n",
       "            <td>321099.5</td>\n",
       "            <td>None</td>\n",
       "            <td>171946.0</td>\n",
       "            <td>6</td>\n",
       "        </tr>\n",
       "        <tr>\n",
       "            <td>Data Scientist Lead – Telematics (Remote)</td>\n",
       "            <td>286130.0</td>\n",
       "            <td>None</td>\n",
       "            <td>158960.0</td>\n",
       "            <td>2</td>\n",
       "        </tr>\n",
       "        <tr>\n",
       "            <td>Data Scientist - AI Investment</td>\n",
       "            <td>250000.0</td>\n",
       "            <td>None</td>\n",
       "            <td>200000.0</td>\n",
       "            <td>0</td>\n",
       "        </tr>\n",
       "        <tr>\n",
       "            <td>Senior Data Scientist, LLM</td>\n",
       "            <td>249000.0</td>\n",
       "            <td>None</td>\n",
       "            <td>216000.0</td>\n",
       "            <td>1</td>\n",
       "        </tr>\n",
       "    </tbody>\n",
       "</table>"
      ],
      "text/plain": [
       "[('Principal AI/ML Data Scientist', 322100.0, None, 173400.0, 0),\n",
       " ('TikTok Shop - Data Scientist - User Growth', 321099.5, None, 171946.0, 6),\n",
       " ('Data Scientist Lead – Telematics (Remote)', 286130.0, None, 158960.0, 2),\n",
       " ('Data Scientist - AI Investment', 250000.0, None, 200000.0, 0),\n",
       " ('Senior Data Scientist, LLM', 249000.0, None, 216000.0, 1)]"
      ]
     },
     "execution_count": 61,
     "metadata": {},
     "output_type": "execute_result"
    }
   ],
   "source": [
    "%%sql\n",
    "SELECT\n",
    "    title,\n",
    "    ROUND(AVG(max_salary),2) as top_salary,\n",
    "    ROUND(AVG(med_salary),2) as avg_salary,\n",
    "    ROUND(AVG(min_salary),2) as min_salary,\n",
    "    COUNT(type) as count_ben\n",
    "FROM posting p\n",
    "LEFT JOIN benefits b ON p.job_id = b.job_id\n",
    "WHERE p.title LIKE '%data scientist%'\n",
    "GROUP BY title\n",
    "ORDER BY top_salary DESC\n",
    "LIMIT 5"
   ]
  },
  {
   "cell_type": "markdown",
   "metadata": {},
   "source": [
    "- Which companies offer the most comprehensive benefits packages?\n"
   ]
  },
  {
   "cell_type": "code",
   "execution_count": 66,
   "metadata": {},
   "outputs": [
    {
     "name": "stdout",
     "output_type": "stream",
     "text": [
      " * sqlite:///tech_jobmarket.db\n",
      "Done.\n"
     ]
    },
    {
     "data": {
      "text/html": [
       "<table>\n",
       "    <thead>\n",
       "        <tr>\n",
       "            <th>name</th>\n",
       "            <th>top_salary</th>\n",
       "            <th>avg_salary</th>\n",
       "            <th>min_salary</th>\n",
       "            <th>ben</th>\n",
       "            <th>count_ben</th>\n",
       "        </tr>\n",
       "    </thead>\n",
       "    <tbody>\n",
       "        <tr>\n",
       "            <td>Armstrong World Industries</td>\n",
       "            <td>161275.03</td>\n",
       "            <td>60.0</td>\n",
       "            <td>106937.62</td>\n",
       "            <td>None</td>\n",
       "            <td>104</td>\n",
       "        </tr>\n",
       "    </tbody>\n",
       "</table>"
      ],
      "text/plain": [
       "[('Armstrong World Industries', 161275.03, 60.0, 106937.62, None, 104)]"
      ]
     },
     "execution_count": 66,
     "metadata": {},
     "output_type": "execute_result"
    }
   ],
   "source": [
    "%%sql\n",
    "WITH compensation AS (\n",
    "    SELECT\n",
    "        company_id,\n",
    "        ROUND(AVG(max_salary),2) as top_salary,\n",
    "        ROUND(AVG(med_salary),2) as avg_salary,\n",
    "        ROUND(AVG(min_salary),2) as min_salary,\n",
    "        type as ben,\n",
    "        COUNT(type) count_ben\n",
    "    FROM posting p\n",
    "    LEFT JOIN benefits b ON p.job_id = b.job_id\n",
    "    WHERE p.title LIKE \"%data scientist%\"\n",
    ")\n",
    "SELECT \n",
    "    name, \n",
    "    top_salary,\n",
    "    avg_salary,\n",
    "    min_salary,\n",
    "    ben,\n",
    "    count_ben\n",
    "FROM companies c\n",
    "LEFT JOIN compensation ON c.company_id = compensation.company_id\n",
    "WHERE top_salary IS NOT NULL\n",
    "GROUP BY name\n",
    "ORDER BY count_ben DESC"
   ]
  },
  {
   "cell_type": "markdown",
   "metadata": {},
   "source": [
    "### 5. Job Market Distribution and Location Insights\n",
    "- Where are the highest paying data science jobs located globally?\n",
    "- How does the number of job postings vary across different cities or countries?\n",
    "- Are there any geographical patterns in the industries offering data science jobs?\n",
    "\n",
    "SQL Skills:\n",
    "- JOINs (INNER JOIN between job_postings, companies, and company_industries to analyze job distribution).\n",
    "- Window Functions (for ranking job locations based on salary).\n",
    "- Aggregations (COUNT, SUM to track job posting counts by location)."
   ]
  },
  {
   "cell_type": "markdown",
   "metadata": {},
   "source": [
    "- Where are the highest paying data science jobs located globally?\n"
   ]
  },
  {
   "cell_type": "code",
   "execution_count": 12,
   "metadata": {},
   "outputs": [
    {
     "name": "stdout",
     "output_type": "stream",
     "text": [
      " * sqlite:///tech_jobmarket.db\n",
      "Done.\n"
     ]
    },
    {
     "data": {
      "text/html": [
       "<table>\n",
       "    <thead>\n",
       "        <tr>\n",
       "            <th>title</th>\n",
       "            <th>max_salary</th>\n",
       "            <th>min_salary</th>\n",
       "            <th>location</th>\n",
       "        </tr>\n",
       "    </thead>\n",
       "    <tbody>\n",
       "        <tr>\n",
       "            <td>Data Scientist Lead – Telematics (Remote)</td>\n",
       "            <td>286130.0</td>\n",
       "            <td>158960.0</td>\n",
       "            <td>Irving, TX</td>\n",
       "        </tr>\n",
       "        <tr>\n",
       "            <td>Data Scientist Lead – Telematics (Remote)</td>\n",
       "            <td>286130.0</td>\n",
       "            <td>158960.0</td>\n",
       "            <td>Houston, TX</td>\n",
       "        </tr>\n",
       "        <tr>\n",
       "            <td>Principal AI/ML Data Scientist</td>\n",
       "            <td>285550.0</td>\n",
       "            <td>194700.0</td>\n",
       "            <td>San Francisco, CA</td>\n",
       "        </tr>\n",
       "        <tr>\n",
       "            <td>Data Scientist</td>\n",
       "            <td>250000.0</td>\n",
       "            <td>110000.0</td>\n",
       "            <td>Melbourne, FL</td>\n",
       "        </tr>\n",
       "        <tr>\n",
       "            <td>Staff Data Scientist, SSP.</td>\n",
       "            <td>240901.0</td>\n",
       "            <td>168630.0</td>\n",
       "            <td>San Mateo, CA</td>\n",
       "        </tr>\n",
       "    </tbody>\n",
       "</table>"
      ],
      "text/plain": [
       "[('Data Scientist Lead – Telematics (Remote)', 286130.0, 158960.0, 'Irving, TX'),\n",
       " ('Data Scientist Lead – Telematics (Remote)', 286130.0, 158960.0, 'Houston, TX'),\n",
       " ('Principal AI/ML Data Scientist', 285550.0, 194700.0, 'San Francisco, CA'),\n",
       " ('Data Scientist', 250000.0, 110000.0, 'Melbourne, FL'),\n",
       " ('Staff Data Scientist, SSP.', 240901.0, 168630.0, 'San Mateo, CA')]"
      ]
     },
     "execution_count": 12,
     "metadata": {},
     "output_type": "execute_result"
    }
   ],
   "source": [
    "%%sql\n",
    "SELECT\n",
    "    title,\n",
    "    ROUND(AVG(max_salary),2) as max_salary,\n",
    "    ROUND(AVG(min_salary),2) as min_salary,\n",
    "    location\n",
    "FROM posting p\n",
    "WHERE max_salary IS NOT NULL AND p.title LIKE \"%data scientist%\"\n",
    "GROUP BY location\n",
    "ORDER BY max_salary DESC\n",
    "LIMIT 5"
   ]
  },
  {
   "cell_type": "markdown",
   "metadata": {},
   "source": [
    "- How does the number of job postings vary across different cities or countries?\n"
   ]
  },
  {
   "cell_type": "code",
   "execution_count": 26,
   "metadata": {},
   "outputs": [
    {
     "name": "stdout",
     "output_type": "stream",
     "text": [
      " * sqlite:///tech_jobmarket.db\n",
      "Done.\n"
     ]
    },
    {
     "data": {
      "text/html": [
       "<table>\n",
       "    <thead>\n",
       "        <tr>\n",
       "            <th>location</th>\n",
       "            <th>number_posts</th>\n",
       "            <th>country</th>\n",
       "        </tr>\n",
       "    </thead>\n",
       "    <tbody>\n",
       "        <tr>\n",
       "            <td>Albany, NY</td>\n",
       "            <td>109995</td>\n",
       "            <td>US</td>\n",
       "        </tr>\n",
       "        <tr>\n",
       "            <td>Atlanta, GA</td>\n",
       "            <td>3000</td>\n",
       "            <td>GB</td>\n",
       "        </tr>\n",
       "        <tr>\n",
       "            <td>Ann Arbor, MI</td>\n",
       "            <td>1399</td>\n",
       "            <td>CA</td>\n",
       "        </tr>\n",
       "        <tr>\n",
       "            <td>Appleton, WI</td>\n",
       "            <td>792</td>\n",
       "            <td>IN</td>\n",
       "        </tr>\n",
       "        <tr>\n",
       "            <td>Austin, TX</td>\n",
       "            <td>581</td>\n",
       "            <td>CH</td>\n",
       "        </tr>\n",
       "    </tbody>\n",
       "</table>"
      ],
      "text/plain": [
       "[('Albany, NY', 109995, 'US'),\n",
       " ('Atlanta, GA', 3000, 'GB'),\n",
       " ('Ann Arbor, MI', 1399, 'CA'),\n",
       " ('Appleton, WI', 792, 'IN'),\n",
       " ('Austin, TX', 581, 'CH')]"
      ]
     },
     "execution_count": 26,
     "metadata": {},
     "output_type": "execute_result"
    }
   ],
   "source": [
    "%%sql\n",
    "SELECT\n",
    "    location,\n",
    "    COUNT(*) as number_posts,\n",
    "    country\n",
    "FROM posting p \n",
    "INNER JOIN companies c ON p.company_id = c.company_id\n",
    "WHERE country IS NOT '0'\n",
    "GROUP BY country\n",
    "ORDER BY number_posts DESC\n",
    "LIMIT 5"
   ]
  },
  {
   "cell_type": "markdown",
   "metadata": {},
   "source": [
    "- Are there any geographical patterns in the industries offering data science jobs?\n"
   ]
  },
  {
   "cell_type": "code",
   "execution_count": 31,
   "metadata": {},
   "outputs": [
    {
     "name": "stdout",
     "output_type": "stream",
     "text": [
      " * sqlite:///tech_jobmarket.db\n",
      "Done.\n"
     ]
    },
    {
     "data": {
      "text/html": [
       "<table>\n",
       "    <thead>\n",
       "        <tr>\n",
       "            <th>location</th>\n",
       "            <th>DS_posts</th>\n",
       "            <th>country</th>\n",
       "            <th>max_salary</th>\n",
       "            <th>min_salary</th>\n",
       "        </tr>\n",
       "    </thead>\n",
       "    <tbody>\n",
       "        <tr>\n",
       "            <td>Richland, WA</td>\n",
       "            <td>76</td>\n",
       "            <td>US</td>\n",
       "            <td>156424.65</td>\n",
       "            <td>101949.85</td>\n",
       "        </tr>\n",
       "        <tr>\n",
       "            <td>United States</td>\n",
       "            <td>7</td>\n",
       "            <td>GB</td>\n",
       "            <td>230000.0</td>\n",
       "            <td>174285.71</td>\n",
       "        </tr>\n",
       "        <tr>\n",
       "            <td>San Mateo, CA</td>\n",
       "            <td>1</td>\n",
       "            <td>SG</td>\n",
       "            <td>240901.0</td>\n",
       "            <td>168630.0</td>\n",
       "        </tr>\n",
       "        <tr>\n",
       "            <td>Boston, MA</td>\n",
       "            <td>1</td>\n",
       "            <td>JP</td>\n",
       "            <td>170500.0</td>\n",
       "            <td>108500.0</td>\n",
       "        </tr>\n",
       "    </tbody>\n",
       "</table>"
      ],
      "text/plain": [
       "[('Richland, WA', 76, 'US', 156424.65, 101949.85),\n",
       " ('United States', 7, 'GB', 230000.0, 174285.71),\n",
       " ('San Mateo, CA', 1, 'SG', 240901.0, 168630.0),\n",
       " ('Boston, MA', 1, 'JP', 170500.0, 108500.0)]"
      ]
     },
     "execution_count": 31,
     "metadata": {},
     "output_type": "execute_result"
    }
   ],
   "source": [
    "%%sql\n",
    "SELECT\n",
    "    location,\n",
    "    COUNT(*) as DS_posts,\n",
    "    country,\n",
    "    ROUND(AVG(max_salary),2) as max_salary,\n",
    "    ROUND(AVG(min_salary),2) as min_salary\n",
    "FROM posting p \n",
    "INNER JOIN companies c ON p.company_id = c.company_id\n",
    "WHERE \n",
    "    country IS NOT '0' \n",
    "    and p.title LIKE \"%data scientist%\"\n",
    "    and max_salary IS NOT NULL\n",
    "GROUP BY country\n",
    "ORDER BY DS_posts DESC\n",
    "LIMIT 5"
   ]
  },
  {
   "cell_type": "markdown",
   "metadata": {},
   "source": [
    "### 6. Industry Growth and Forecasting\n",
    "- Which industries are experiencing the fastest growth in data science job postings?\n",
    "- Which industries feature the widest salary ranges for data science roles, and what factors influence these variations?\n",
    "- What industries offer the most stable opportunities for data professionals?\n",
    "\n",
    "SQL Skills:\n",
    "- Window Functions (for ranking industries based on growth rate of job postings).\n",
    "- CTEs (to handle and simplify complex time-series analysis).\n",
    "- Aggregations (SUM, COUNT to track industry-specific trends)."
   ]
  },
  {
   "cell_type": "markdown",
   "metadata": {},
   "source": [
    "- Which industries are experiencing the fastest growth in data science job postings?\n"
   ]
  },
  {
   "cell_type": "code",
   "execution_count": 35,
   "metadata": {},
   "outputs": [
    {
     "name": "stdout",
     "output_type": "stream",
     "text": [
      " * sqlite:///tech_jobmarket.db\n",
      "Done.\n"
     ]
    },
    {
     "data": {
      "text/html": [
       "<table>\n",
       "    <thead>\n",
       "        <tr>\n",
       "            <th>industry</th>\n",
       "            <th>title</th>\n",
       "            <th>job_posting</th>\n",
       "        </tr>\n",
       "    </thead>\n",
       "    <tbody>\n",
       "        <tr>\n",
       "            <td>IT Services and IT Consulting</td>\n",
       "            <td>Data Scientist</td>\n",
       "            <td>12</td>\n",
       "        </tr>\n",
       "        <tr>\n",
       "            <td>Software Development</td>\n",
       "            <td>Data Scientist</td>\n",
       "            <td>8</td>\n",
       "        </tr>\n",
       "        <tr>\n",
       "            <td>Staffing and Recruiting</td>\n",
       "            <td>Data Scientist</td>\n",
       "            <td>8</td>\n",
       "        </tr>\n",
       "        <tr>\n",
       "            <td>Financial Services</td>\n",
       "            <td>Data Scientist Lead – Telematics (Remote)</td>\n",
       "            <td>6</td>\n",
       "        </tr>\n",
       "        <tr>\n",
       "            <td>Financial Services</td>\n",
       "            <td>Data Scientist</td>\n",
       "            <td>5</td>\n",
       "        </tr>\n",
       "    </tbody>\n",
       "</table>"
      ],
      "text/plain": [
       "[('IT Services and IT Consulting', 'Data Scientist', 12),\n",
       " ('Software Development', 'Data Scientist', 8),\n",
       " ('Staffing and Recruiting', 'Data Scientist', 8),\n",
       " ('Financial Services', 'Data Scientist Lead – Telematics (Remote)', 6),\n",
       " ('Financial Services', 'Data Scientist', 5)]"
      ]
     },
     "execution_count": 35,
     "metadata": {},
     "output_type": "execute_result"
    }
   ],
   "source": [
    "%%sql\n",
    "SELECT\n",
    "    industry,\n",
    "    title,\n",
    "    COUNT(*) as job_posting\n",
    "FROM posting p\n",
    "JOIN industry i ON p.company_id = i.company_id\n",
    "WHERE title LIKE \"%data scientist%\"\n",
    "GROUP BY industry, title\n",
    "ORDER BY job_posting DESC\n",
    "LIMIT 5"
   ]
  },
  {
   "cell_type": "markdown",
   "metadata": {},
   "source": [
    "- Which industries feature the widest salary ranges for data science roles, and what factors influence these variations?\n"
   ]
  },
  {
   "cell_type": "code",
   "execution_count": 12,
   "metadata": {},
   "outputs": [
    {
     "name": "stdout",
     "output_type": "stream",
     "text": [
      " * sqlite:///tech_jobmarket.db\n",
      "Done.\n"
     ]
    },
    {
     "data": {
      "text/html": [
       "<table>\n",
       "    <thead>\n",
       "        <tr>\n",
       "            <th>industry</th>\n",
       "            <th>company_size</th>\n",
       "            <th>country</th>\n",
       "            <th>title</th>\n",
       "            <th>salary_range</th>\n",
       "            <th>location</th>\n",
       "            <th>remote</th>\n",
       "        </tr>\n",
       "    </thead>\n",
       "    <tbody>\n",
       "        <tr>\n",
       "            <td>Financial Services</td>\n",
       "            <td>7.0</td>\n",
       "            <td>US</td>\n",
       "            <td>Data Scientist Lead – Telematics (Remote)</td>\n",
       "            <td>127170.0</td>\n",
       "            <td>Houston, TX</td>\n",
       "            <td>remote</td>\n",
       "        </tr>\n",
       "        <tr>\n",
       "            <td>Entertainment Providers</td>\n",
       "            <td>7.0</td>\n",
       "            <td>US</td>\n",
       "            <td>Sr Data Scientist</td>\n",
       "            <td>99435.67</td>\n",
       "            <td>Lake Buena Vista, FL</td>\n",
       "            <td>onsite</td>\n",
       "        </tr>\n",
       "        <tr>\n",
       "            <td>Software Development</td>\n",
       "            <td>7.0</td>\n",
       "            <td>US</td>\n",
       "            <td>Data Scientist, PeopleInsight</td>\n",
       "            <td>85558.33</td>\n",
       "            <td>Seattle, WA</td>\n",
       "            <td>onsite</td>\n",
       "        </tr>\n",
       "        <tr>\n",
       "            <td>Research Services</td>\n",
       "            <td>6.0</td>\n",
       "            <td>US</td>\n",
       "            <td>Senior Data Scientist 3 - Nonproliferation</td>\n",
       "            <td>85000.0</td>\n",
       "            <td>Richland, WA</td>\n",
       "            <td>onsite</td>\n",
       "        </tr>\n",
       "        <tr>\n",
       "            <td>Advertising Services</td>\n",
       "            <td>4.0</td>\n",
       "            <td>SG</td>\n",
       "            <td>Staff Data Scientist, SSP.</td>\n",
       "            <td>72271.0</td>\n",
       "            <td>San Mateo, CA</td>\n",
       "            <td>remote</td>\n",
       "        </tr>\n",
       "        <tr>\n",
       "            <td>IT Services and IT Consulting</td>\n",
       "            <td>2.0</td>\n",
       "            <td>US</td>\n",
       "            <td>Junior Data Scientist - Python /Modeling</td>\n",
       "            <td>72066.67</td>\n",
       "            <td>Atlanta, GA</td>\n",
       "            <td>remote</td>\n",
       "        </tr>\n",
       "        <tr>\n",
       "            <td>Defense and Space Manufacturing</td>\n",
       "            <td>1.0</td>\n",
       "            <td>US</td>\n",
       "            <td>Data Scientist - Clearance Required with Security Clearance</td>\n",
       "            <td>69800.0</td>\n",
       "            <td>Quantico, VA</td>\n",
       "            <td>onsite</td>\n",
       "        </tr>\n",
       "        <tr>\n",
       "            <td>Research Services</td>\n",
       "            <td>5.0</td>\n",
       "            <td>US</td>\n",
       "            <td>Data Scientist</td>\n",
       "            <td>69000.0</td>\n",
       "            <td>Chicago, IL</td>\n",
       "            <td>remote</td>\n",
       "        </tr>\n",
       "        <tr>\n",
       "            <td>Financial Services</td>\n",
       "            <td>7.0</td>\n",
       "            <td>US</td>\n",
       "            <td>Marketing Analytics - Data Scientist Senior Associate</td>\n",
       "            <td>68307.14</td>\n",
       "            <td>Columbus, OH</td>\n",
       "            <td>onsite</td>\n",
       "        </tr>\n",
       "        <tr>\n",
       "            <td>Spectator Sports</td>\n",
       "            <td>1.0</td>\n",
       "            <td>US</td>\n",
       "            <td>NHL Data Scientist</td>\n",
       "            <td>68000.0</td>\n",
       "            <td>United States</td>\n",
       "            <td>onsite</td>\n",
       "        </tr>\n",
       "    </tbody>\n",
       "</table>"
      ],
      "text/plain": [
       "[('Financial Services', 7.0, 'US', 'Data Scientist Lead – Telematics (Remote)', 127170.0, 'Houston, TX', 'remote'),\n",
       " ('Entertainment Providers', 7.0, 'US', 'Sr Data Scientist', 99435.67, 'Lake Buena Vista, FL', 'onsite'),\n",
       " ('Software Development', 7.0, 'US', 'Data Scientist, PeopleInsight', 85558.33, 'Seattle, WA', 'onsite'),\n",
       " ('Research Services', 6.0, 'US', 'Senior Data Scientist 3 - Nonproliferation', 85000.0, 'Richland, WA', 'onsite'),\n",
       " ('Advertising Services', 4.0, 'SG', 'Staff Data Scientist, SSP.', 72271.0, 'San Mateo, CA', 'remote'),\n",
       " ('IT Services and IT Consulting', 2.0, 'US', 'Junior Data Scientist - Python /Modeling', 72066.67, 'Atlanta, GA', 'remote'),\n",
       " ('Defense and Space Manufacturing', 1.0, 'US', 'Data Scientist - Clearance Required with Security Clearance', 69800.0, 'Quantico, VA', 'onsite'),\n",
       " ('Research Services', 5.0, 'US', 'Data Scientist', 69000.0, 'Chicago, IL', 'remote'),\n",
       " ('Financial Services', 7.0, 'US', 'Marketing Analytics - Data Scientist Senior Associate', 68307.14, 'Columbus, OH', 'onsite'),\n",
       " ('Spectator Sports', 1.0, 'US', 'NHL Data Scientist', 68000.0, 'United States', 'onsite')]"
      ]
     },
     "execution_count": 12,
     "metadata": {},
     "output_type": "execute_result"
    }
   ],
   "source": [
    "%%sql\n",
    "WITH company_location AS(\n",
    "    SELECT\n",
    "            i.industry,\n",
    "            c.company_size,\n",
    "            c.country,\n",
    "            c.company_id\n",
    "    FROM companies c\n",
    "    JOIN industry i ON c.company_id = i.company_id\n",
    "    WHERE country IS NOT NULL\n",
    ")\n",
    "SELECT\n",
    "    industry,\n",
    "    company_size,\n",
    "    country,\n",
    "    title,\n",
    "    ROUND(AVG(max_salary) - AVG(min_salary),2) as salary_range,\n",
    "    location,\n",
    "    CASE\n",
    "        WHEN description LIKE '%remote%' THEN 'remote'\n",
    "        ELSE 'onsite'\n",
    "    END as remote\n",
    "FROM posting p\n",
    "JOIN company_location ON p.company_id = company_location.company_id\n",
    "WHERE title LIKE \"%data scientist%\"\n",
    "GROUP BY industry, remote\n",
    "ORDER BY salary_range DESC\n",
    "LIMIT 10\n",
    "    "
   ]
  },
  {
   "cell_type": "markdown",
   "metadata": {},
   "source": [
    "- What industries offer the most stable opportunities for data professionals?\n"
   ]
  },
  {
   "cell_type": "code",
   "execution_count": 21,
   "metadata": {},
   "outputs": [
    {
     "name": "stdout",
     "output_type": "stream",
     "text": [
      " * sqlite:///tech_jobmarket.db\n",
      "Done.\n"
     ]
    },
    {
     "data": {
      "text/html": [
       "<table>\n",
       "    <thead>\n",
       "        <tr>\n",
       "            <th>title</th>\n",
       "            <th>industry</th>\n",
       "            <th>count_benefits</th>\n",
       "            <th>benefits</th>\n",
       "            <th>remote</th>\n",
       "        </tr>\n",
       "    </thead>\n",
       "    <tbody>\n",
       "        <tr>\n",
       "            <td>Data Analyst</td>\n",
       "            <td>Paper and Forest Product Manufacturing</td>\n",
       "            <td>11</td>\n",
       "            <td>401(k)</td>\n",
       "            <td>onsite</td>\n",
       "        </tr>\n",
       "        <tr>\n",
       "            <td>Data Engineer</td>\n",
       "            <td>Wholesale Building Materials</td>\n",
       "            <td>10</td>\n",
       "            <td>401(k)</td>\n",
       "            <td>onsite</td>\n",
       "        </tr>\n",
       "        <tr>\n",
       "            <td>Data Scientist</td>\n",
       "            <td>Staffing and Recruiting</td>\n",
       "            <td>7</td>\n",
       "            <td>401(k)</td>\n",
       "            <td>onsite</td>\n",
       "        </tr>\n",
       "        <tr>\n",
       "            <td>Data Analyst</td>\n",
       "            <td>Paper and Forest Product Manufacturing</td>\n",
       "            <td>6</td>\n",
       "            <td>Disability insurance</td>\n",
       "            <td>onsite</td>\n",
       "        </tr>\n",
       "        <tr>\n",
       "            <td>Data Analyst</td>\n",
       "            <td>Staffing and Recruiting</td>\n",
       "            <td>6</td>\n",
       "            <td>Medical insurance</td>\n",
       "            <td>onsite</td>\n",
       "        </tr>\n",
       "        <tr>\n",
       "            <td>Data Engineer</td>\n",
       "            <td>Oil and Gas</td>\n",
       "            <td>6</td>\n",
       "            <td>Disability insurance</td>\n",
       "            <td>onsite</td>\n",
       "        </tr>\n",
       "        <tr>\n",
       "            <td>Data Engineer</td>\n",
       "            <td>Wholesale Building Materials</td>\n",
       "            <td>6</td>\n",
       "            <td>Medical insurance</td>\n",
       "            <td>onsite</td>\n",
       "        </tr>\n",
       "        <tr>\n",
       "            <td>Data Scientist</td>\n",
       "            <td>Staffing and Recruiting</td>\n",
       "            <td>6</td>\n",
       "            <td>Vision insurance</td>\n",
       "            <td>onsite</td>\n",
       "        </tr>\n",
       "        <tr>\n",
       "            <td>Manager, Database Administration- Washington DC</td>\n",
       "            <td>Telecommunications</td>\n",
       "            <td>6</td>\n",
       "            <td>401(k)</td>\n",
       "            <td>onsite</td>\n",
       "        </tr>\n",
       "        <tr>\n",
       "            <td>Manager, Database Administration- Washington DC</td>\n",
       "            <td>Telecommunications</td>\n",
       "            <td>6</td>\n",
       "            <td>Disability insurance</td>\n",
       "            <td>onsite</td>\n",
       "        </tr>\n",
       "        <tr>\n",
       "            <td>Senior Structural Engineer - Data Center</td>\n",
       "            <td>Civil Engineering</td>\n",
       "            <td>6</td>\n",
       "            <td>401(k)</td>\n",
       "            <td>onsite</td>\n",
       "        </tr>\n",
       "        <tr>\n",
       "            <td>DATA Center Operations Manager -Fort Worth TX</td>\n",
       "            <td>Telecommunications</td>\n",
       "            <td>5</td>\n",
       "            <td>401(k)</td>\n",
       "            <td>onsite</td>\n",
       "        </tr>\n",
       "        <tr>\n",
       "            <td>DATA Center Operations Manager -Fort Worth TX</td>\n",
       "            <td>Telecommunications</td>\n",
       "            <td>5</td>\n",
       "            <td>Disability insurance</td>\n",
       "            <td>onsite</td>\n",
       "        </tr>\n",
       "        <tr>\n",
       "            <td>Data Analyst</td>\n",
       "            <td>Financial Services</td>\n",
       "            <td>5</td>\n",
       "            <td>Dental insurance</td>\n",
       "            <td>onsite</td>\n",
       "        </tr>\n",
       "        <tr>\n",
       "            <td>Data Analyst</td>\n",
       "            <td>Financial Services</td>\n",
       "            <td>5</td>\n",
       "            <td>Vision insurance</td>\n",
       "            <td>onsite</td>\n",
       "        </tr>\n",
       "    </tbody>\n",
       "</table>"
      ],
      "text/plain": [
       "[('Data Analyst', 'Paper and Forest Product Manufacturing', 11, '401(k)', 'onsite'),\n",
       " ('Data Engineer', 'Wholesale Building Materials', 10, '401(k)', 'onsite'),\n",
       " ('Data Scientist', 'Staffing and Recruiting', 7, '401(k)', 'onsite'),\n",
       " ('Data Analyst', 'Paper and Forest Product Manufacturing', 6, 'Disability insurance', 'onsite'),\n",
       " ('Data Analyst', 'Staffing and Recruiting', 6, 'Medical insurance', 'onsite'),\n",
       " ('Data Engineer', 'Oil and Gas', 6, 'Disability insurance', 'onsite'),\n",
       " ('Data Engineer', 'Wholesale Building Materials', 6, 'Medical insurance', 'onsite'),\n",
       " ('Data Scientist', 'Staffing and Recruiting', 6, 'Vision insurance', 'onsite'),\n",
       " ('Manager, Database Administration- Washington DC', 'Telecommunications', 6, '401(k)', 'onsite'),\n",
       " ('Manager, Database Administration- Washington DC', 'Telecommunications', 6, 'Disability insurance', 'onsite'),\n",
       " ('Senior Structural Engineer - Data Center', 'Civil Engineering', 6, '401(k)', 'onsite'),\n",
       " ('DATA Center Operations Manager -Fort Worth TX', 'Telecommunications', 5, '401(k)', 'onsite'),\n",
       " ('DATA Center Operations Manager -Fort Worth TX', 'Telecommunications', 5, 'Disability insurance', 'onsite'),\n",
       " ('Data Analyst', 'Financial Services', 5, 'Dental insurance', 'onsite'),\n",
       " ('Data Analyst', 'Financial Services', 5, 'Vision insurance', 'onsite')]"
      ]
     },
     "execution_count": 21,
     "metadata": {},
     "output_type": "execute_result"
    }
   ],
   "source": [
    "%%sql\n",
    "WITH company_industry AS(   \n",
    "    SELECT\n",
    "        i.industry,\n",
    "        c.company_id\n",
    "    FROM companies c\n",
    "    JOIN industry i ON c.company_id = i.company_id\n",
    "),\n",
    "post_benefits AS (\n",
    "    SELECT\n",
    "        posting.title,\n",
    "        posting.job_id,\n",
    "        posting.description,\n",
    "        posting.company_id,\n",
    "        benefits.type\n",
    "    FROM posting\n",
    "    JOIN benefits ON posting.job_id = benefits.job_id\n",
    "    WHERE posting.title LIKE \"%data%\"\n",
    ")\n",
    "SELECT\n",
    "    post_benefits.title,\n",
    "    company_industry.industry,\n",
    "    COUNT(type) as count_benefits,\n",
    "    post_benefits.type as benefits,\n",
    "    CASE\n",
    "        WHEN post_benefits.description LIKE '%remote' THEN 'remote'\n",
    "        ELSE 'onsite'\n",
    "    END as remote\n",
    "FROM post_benefits\n",
    "JOIN company_industry ON post_benefits.company_id = company_industry.company_id\n",
    "GROUP BY  title, benefits\n",
    "ORDER BY count_benefits DESC\n",
    "LIMIT 15"
   ]
  },
  {
   "cell_type": "markdown",
   "metadata": {},
   "source": [
    "## Advanced SQL Project: Data Science Job Market Analysis with Multiple JOINS\n",
    "\n",
    "1. LEFT JOINAnalyzing Missing Data in Job Postings\n",
    "\n",
    "Business Question: What industries have job postings that don't require any skills?"
   ]
  },
  {
   "cell_type": "code",
   "execution_count": 28,
   "metadata": {},
   "outputs": [
    {
     "name": "stdout",
     "output_type": "stream",
     "text": [
      " * sqlite:///tech_jobmarket.db\n",
      "Done.\n"
     ]
    },
    {
     "data": {
      "text/html": [
       "<table>\n",
       "    <thead>\n",
       "        <tr>\n",
       "            <th>industry</th>\n",
       "            <th>title</th>\n",
       "            <th>post_count</th>\n",
       "            <th>skill_abr</th>\n",
       "        </tr>\n",
       "    </thead>\n",
       "    <tbody>\n",
       "        <tr>\n",
       "            <td>IT Services and IT Consulting</td>\n",
       "            <td>Managed File Transfer Specialist (connect direct , NDM) | REMOTE ROLE</td>\n",
       "            <td>363</td>\n",
       "            <td>None</td>\n",
       "        </tr>\n",
       "        <tr>\n",
       "            <td>Software Development</td>\n",
       "            <td>Customer Success Manager</td>\n",
       "            <td>116</td>\n",
       "            <td>None</td>\n",
       "        </tr>\n",
       "        <tr>\n",
       "            <td>Hospitals and Health Care</td>\n",
       "            <td>Events &amp; Communications Assistant</td>\n",
       "            <td>64</td>\n",
       "            <td>None</td>\n",
       "        </tr>\n",
       "        <tr>\n",
       "            <td>Non-profit Organizations</td>\n",
       "            <td>Marketing &amp; Communications – Content Writer Internship</td>\n",
       "            <td>56</td>\n",
       "            <td>None</td>\n",
       "        </tr>\n",
       "        <tr>\n",
       "            <td>Financial Services</td>\n",
       "            <td>Client Service Associate / Practice Manager</td>\n",
       "            <td>51</td>\n",
       "            <td>None</td>\n",
       "        </tr>\n",
       "        <tr>\n",
       "            <td>Advertising Services</td>\n",
       "            <td>NPE 2024 Exhibition Event Worker</td>\n",
       "            <td>50</td>\n",
       "            <td>None</td>\n",
       "        </tr>\n",
       "        <tr>\n",
       "            <td>Higher Education</td>\n",
       "            <td>THEATRE Instructor for Speech Communication &amp; Theatre Department</td>\n",
       "            <td>41</td>\n",
       "            <td>None</td>\n",
       "        </tr>\n",
       "        <tr>\n",
       "            <td>Business Consulting and Services</td>\n",
       "            <td>🌟🚀🌊 Make Waves with Your Sales Skills! Earn $2500-$3500/Week! 🌊🚀🌟</td>\n",
       "            <td>35</td>\n",
       "            <td>None</td>\n",
       "        </tr>\n",
       "        <tr>\n",
       "            <td>Construction</td>\n",
       "            <td>Fire Sprinkler Designer</td>\n",
       "            <td>34</td>\n",
       "            <td>None</td>\n",
       "        </tr>\n",
       "        <tr>\n",
       "            <td>Retail</td>\n",
       "            <td>Customer Service Specialist</td>\n",
       "            <td>32</td>\n",
       "            <td>None</td>\n",
       "        </tr>\n",
       "    </tbody>\n",
       "</table>"
      ],
      "text/plain": [
       "[('IT Services and IT Consulting', 'Managed File Transfer Specialist (connect direct , NDM) | REMOTE ROLE', 363, None),\n",
       " ('Software Development', 'Customer Success Manager', 116, None),\n",
       " ('Hospitals and Health Care', 'Events & Communications Assistant', 64, None),\n",
       " ('Non-profit Organizations', 'Marketing & Communications – Content Writer Internship', 56, None),\n",
       " ('Financial Services', 'Client Service Associate / Practice Manager', 51, None),\n",
       " ('Advertising Services', 'NPE 2024 Exhibition Event Worker', 50, None),\n",
       " ('Higher Education', 'THEATRE Instructor for Speech Communication & Theatre Department', 41, None),\n",
       " ('Business Consulting and Services', '🌟🚀🌊 Make Waves with Your Sales Skills! Earn $2500-$3500/Week! 🌊🚀🌟', 35, None),\n",
       " ('Construction', 'Fire Sprinkler Designer', 34, None),\n",
       " ('Retail', 'Customer Service Specialist', 32, None)]"
      ]
     },
     "execution_count": 28,
     "metadata": {},
     "output_type": "execute_result"
    }
   ],
   "source": [
    "%%sql\n",
    "SELECT\n",
    "    industry,\n",
    "    title,\n",
    "    COUNT(title) as post_count,\n",
    "    skill_abr\n",
    "FROM posting p\n",
    "LEFT JOIN industry i ON p.company_id = i.company_id\n",
    "LEFT JOIN skills s ON p.job_id = s.job_id\n",
    "WHERE \n",
    "    skill_abr IS NULL\n",
    "    AND industry IS NOT NULL\n",
    "GROUP BY industry\n",
    "ORDER BY post_count DESC\n",
    "LIMIT 10"
   ]
  },
  {
   "cell_type": "markdown",
   "metadata": {},
   "source": [
    "2. FULL OUTER JOIN: Combining Salary and Skill Insights\n",
    "\n",
    "Business Question: How do salaries relate to job postings with missing skills?"
   ]
  },
  {
   "cell_type": "code",
   "execution_count": null,
   "metadata": {},
   "outputs": [
    {
     "name": "stdout",
     "output_type": "stream",
     "text": [
      " * sqlite:///tech_jobmarket.db\n"
     ]
    }
   ],
   "source": [
    "%%sql\n",
    "SELECT\n",
    "    title,\n",
    "    ROUND(AVG(max_salary),2) as max_salary,\n",
    "    ROUND(AVG(min_salary),2) as min_salary,\n",
    "    COUNT(skill_abr) as skill\n",
    "FROM posting p\n",
    "FULL OUTER JOIN skills s ON p.job_id = s.job_id\n",
    "WHERE s.skill_abr IS NULL\n",
    "GROUP BY title\n",
    "ORDER BY max_salary DESC\n",
    "LIMIT 5"
   ]
  },
  {
   "cell_type": "markdown",
   "metadata": {},
   "source": [
    "3. LEFT JOIN: Tracking Data Science Roles Without Benefits\n",
    "\n",
    "Business Question: Which data science job postings do not mention any benefits?"
   ]
  },
  {
   "cell_type": "code",
   "execution_count": null,
   "metadata": {},
   "outputs": [],
   "source": []
  },
  {
   "cell_type": "markdown",
   "metadata": {},
   "source": [
    "4. RIGHT JOIN: Companies Offering No Benefits for Data Roles\n",
    "\n",
    "Business Question: What companies offer data science jobs with no benefits?"
   ]
  },
  {
   "cell_type": "code",
   "execution_count": null,
   "metadata": {},
   "outputs": [],
   "source": []
  },
  {
   "cell_type": "markdown",
   "metadata": {},
   "source": [
    "5. FULL OUTER JOIN: Combining Data on Salary, Benefits, and Skills\n",
    "\n",
    "Business Question: How do benefits and skills affect salaries in data science roles?"
   ]
  },
  {
   "cell_type": "code",
   "execution_count": null,
   "metadata": {},
   "outputs": [],
   "source": []
  }
 ],
 "metadata": {
  "kernelspec": {
   "display_name": ".venv",
   "language": "python",
   "name": "python3"
  },
  "language_info": {
   "codemirror_mode": {
    "name": "ipython",
    "version": 3
   },
   "file_extension": ".py",
   "mimetype": "text/x-python",
   "name": "python",
   "nbconvert_exporter": "python",
   "pygments_lexer": "ipython3",
   "version": "3.11.9"
  }
 },
 "nbformat": 4,
 "nbformat_minor": 2
}
